{
 "cells": [
  {
   "cell_type": "code",
   "execution_count": 9,
   "id": "6e2a83fa-c2d0-4ff8-9b81-38efe9b9c979",
   "metadata": {},
   "outputs": [],
   "source": [
    "import pandas as pd\n",
    "import json\n",
    "import imageio\n",
    "import numpy as np\n",
    "import tensorflow as tf\n",
    "import tensorflow.keras as keras"
   ]
  },
  {
   "cell_type": "code",
   "execution_count": 10,
   "id": "096a1204-368e-43c7-aac5-7f9367162c61",
   "metadata": {},
   "outputs": [
    {
     "data": {
      "text/plain": [
       "3.0    3114\n",
       "0.0     363\n",
       "1.0     234\n",
       "2.0     134\n",
       "Name: race, dtype: int64"
      ]
     },
     "execution_count": 10,
     "metadata": {},
     "output_type": "execute_result"
    }
   ],
   "source": [
    "users = pd.read_csv(\"labeled_users.csv\")\n",
    "users.dropna(inplace=True)\n",
    "users = users[users['race'] != 5]\n",
    "users['race'] -= 1\n",
    "raceDict = users.set_index('user_id').to_dict()['race']\n",
    "users['race'].value_counts()"
   ]
  },
  {
   "cell_type": "code",
   "execution_count": 11,
   "id": "f4c58fb5-27a1-4c44-adda-9fd51f12c772",
   "metadata": {},
   "outputs": [],
   "source": [
    "with open(\"User demo profiles.json\", encoding=\"utf8\") as file:\n",
    "    text = file.read()\n",
    "    profiles = json.loads(text)"
   ]
  },
  {
   "cell_type": "code",
   "execution_count": 12,
   "id": "d55512dd-c7c8-412b-8e01-e7e05ec677cc",
   "metadata": {},
   "outputs": [],
   "source": [
    "pics = []\n",
    "labels = []\n",
    "for profile in profiles:\n",
    "    id = profile['id']\n",
    "    if id in raceDict:\n",
    "        path = profile['img_path']\n",
    "        try:\n",
    "            im = imageio.imread(path)\n",
    "            pics.append(im)\n",
    "            race = raceDict[id]\n",
    "            labels.append(race)\n",
    "        except FileNotFoundError:\n",
    "            continue\n",
    "pics = np.array(pics)\n",
    "labels = np.array(labels)"
   ]
  },
  {
   "cell_type": "code",
   "execution_count": 13,
   "id": "3e60523e-af08-4e37-97ad-639dbaa5530a",
   "metadata": {},
   "outputs": [
    {
     "data": {
      "text/plain": [
       "((3274, 224, 224, 3), (3274,))"
      ]
     },
     "execution_count": 13,
     "metadata": {},
     "output_type": "execute_result"
    }
   ],
   "source": [
    "pics.shape, labels.shape"
   ]
  },
  {
   "cell_type": "code",
   "execution_count": 14,
   "id": "0c0fe017-39f7-4fbc-8e6c-a79a6608e518",
   "metadata": {},
   "outputs": [],
   "source": [
    "from sklearn.model_selection import train_test_split\n",
    "x_train, x_test, y_train, y_test = train_test_split(pics, labels, test_size=.2)"
   ]
  },
  {
   "cell_type": "code",
   "execution_count": 15,
   "id": "d703cda4-d3b1-4346-a31e-0b242f77cd40",
   "metadata": {},
   "outputs": [
    {
     "name": "stdout",
     "output_type": "stream",
     "text": [
      "Model: \"sequential_1\"\n",
      "_________________________________________________________________\n",
      " Layer (type)                Output Shape              Param #   \n",
      "=================================================================\n",
      " conv2d_1 (Conv2D)           (None, 222, 222, 3)       84        \n",
      "                                                                 \n",
      " dropout_1 (Dropout)         (None, 222, 222, 3)       0         \n",
      "                                                                 \n",
      " flatten_1 (Flatten)         (None, 147852)            0         \n",
      "                                                                 \n",
      " dense_2 (Dense)             (None, 20)                2957060   \n",
      "                                                                 \n",
      " dense_3 (Dense)             (None, 4)                 84        \n",
      "                                                                 \n",
      "=================================================================\n",
      "Total params: 2,957,228\n",
      "Trainable params: 2,957,228\n",
      "Non-trainable params: 0\n",
      "_________________________________________________________________\n"
     ]
    }
   ],
   "source": [
    "model = keras.Sequential()\n",
    "\n",
    "model.add(keras.layers.Conv2D(filters=3, kernel_size=(3,3), activation='relu', input_shape=(224,224,3)))\n",
    "model.add(keras.layers.Dropout(.25))\n",
    "model.add(keras.layers.Flatten())\n",
    "model.add(keras.layers.Dense(20, activation='relu'))\n",
    "model.add(keras.layers.Dense(4, activation='softmax'))\n",
    "model.summary()\n",
    "model.compile(optimizer='adam', loss='sparse_categorical_crossentropy', metrics=['accuracy'])"
   ]
  },
  {
   "cell_type": "code",
   "execution_count": 16,
   "id": "eaebb786-73f0-4e3e-8bc9-f135cb6361aa",
   "metadata": {},
   "outputs": [
    {
     "name": "stdout",
     "output_type": "stream",
     "text": [
      "Epoch 1/10\n",
      "82/82 [==============================] - 12s 141ms/step - loss: 18.7304 - accuracy: 0.7763\n",
      "Epoch 2/10\n",
      "82/82 [==============================] - 12s 141ms/step - loss: 1.3325 - accuracy: 0.8137\n",
      "Epoch 3/10\n",
      "82/82 [==============================] - 11s 140ms/step - loss: 1.1796 - accuracy: 0.8144\n",
      "Epoch 4/10\n",
      "82/82 [==============================] - 12s 141ms/step - loss: 1.1369 - accuracy: 0.8156\n",
      "Epoch 5/10\n",
      "82/82 [==============================] - 12s 149ms/step - loss: 1.0521 - accuracy: 0.8148\n",
      "Epoch 6/10\n",
      "82/82 [==============================] - 12s 145ms/step - loss: 1.0249 - accuracy: 0.8148\n",
      "Epoch 7/10\n",
      "82/82 [==============================] - 12s 140ms/step - loss: 0.9594 - accuracy: 0.8137\n",
      "Epoch 8/10\n",
      "82/82 [==============================] - 12s 141ms/step - loss: 0.9065 - accuracy: 0.8148\n",
      "Epoch 9/10\n",
      "82/82 [==============================] - 12s 148ms/step - loss: 0.8705 - accuracy: 0.8152\n",
      "Epoch 10/10\n",
      "82/82 [==============================] - 11s 139ms/step - loss: 0.8375 - accuracy: 0.8152\n"
     ]
    },
    {
     "data": {
      "text/plain": [
       "<keras.callbacks.History at 0x1762421a2e0>"
      ]
     },
     "execution_count": 16,
     "metadata": {},
     "output_type": "execute_result"
    }
   ],
   "source": [
    "model.fit(x_train, y_train, epochs=10)"
   ]
  },
  {
   "cell_type": "code",
   "execution_count": 17,
   "id": "1199ccac-fbf2-4bd1-8a32-d5372d328318",
   "metadata": {},
   "outputs": [
    {
     "data": {
      "text/plain": [
       "0.815267175572519"
      ]
     },
     "execution_count": 17,
     "metadata": {},
     "output_type": "execute_result"
    }
   ],
   "source": [
    "from sklearn.metrics import accuracy_score\n",
    "y_pred = np.argmax(model.predict(x_test), axis=1)\n",
    "accuracy_score(y_pred, y_test)"
   ]
  },
  {
   "cell_type": "code",
   "execution_count": 18,
   "id": "f7eb960c-a0d4-4bc6-b338-221cd53a7173",
   "metadata": {},
   "outputs": [
    {
     "name": "stdout",
     "output_type": "stream",
     "text": [
      "Requirement already satisfied: pydot in c:\\users\\nick\\anaconda3\\lib\\site-packages (1.4.2)\n",
      "Requirement already satisfied: pyparsing>=2.1.4 in c:\\users\\nick\\anaconda3\\lib\\site-packages (from pydot) (2.4.7)\n",
      "Requirement already satisfied: graphviz in c:\\users\\nick\\anaconda3\\lib\\site-packages (0.19)\n",
      "Requirement already satisfied: pydotplus in c:\\users\\nick\\anaconda3\\lib\\site-packages (2.0.2)\n",
      "Requirement already satisfied: pyparsing>=2.0.1 in c:\\users\\nick\\anaconda3\\lib\\site-packages (from pydotplus) (2.4.7)\n",
      "('You must install pydot (`pip install pydot`) and install graphviz (see instructions at https://graphviz.gitlab.io/download/) ', 'for plot_model/model_to_dot to work.')\n"
     ]
    }
   ],
   "source": [
    "!pip install pydot\n",
    "!pip install graphviz\n",
    "!pip install pydotplus\n",
    "tf.keras.utils.plot_model(model)"
   ]
  }
 ],
 "metadata": {
  "kernelspec": {
   "display_name": "Python 3 (ipykernel)",
   "language": "python",
   "name": "python3"
  },
  "language_info": {
   "codemirror_mode": {
    "name": "ipython",
    "version": 3
   },
   "file_extension": ".py",
   "mimetype": "text/x-python",
   "name": "python",
   "nbconvert_exporter": "python",
   "pygments_lexer": "ipython3",
   "version": "3.8.11"
  }
 },
 "nbformat": 4,
 "nbformat_minor": 5
}
