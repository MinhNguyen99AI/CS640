{
 "cells": [
  {
   "cell_type": "code",
   "execution_count": 67,
   "id": "6e2a83fa-c2d0-4ff8-9b81-38efe9b9c979",
   "metadata": {},
   "outputs": [],
   "source": [
    "import pandas as pd\n",
    "import json\n",
    "import imageio\n",
    "import numpy as np\n",
    "import tensorflow as tf\n",
    "import tensorflow.keras as keras"
   ]
  },
  {
   "cell_type": "code",
   "execution_count": 68,
   "id": "096a1204-368e-43c7-aac5-7f9367162c61",
   "metadata": {},
   "outputs": [
    {
     "data": {
      "text/plain": [
       "3.0    3114\n",
       "0.0     363\n",
       "1.0     234\n",
       "4.0     143\n",
       "2.0     134\n",
       "Name: race, dtype: int64"
      ]
     },
     "execution_count": 68,
     "metadata": {},
     "output_type": "execute_result"
    }
   ],
   "source": [
    "users = pd.read_csv(\"labeled_users.csv\")\n",
    "users.dropna(inplace=True)\n",
    "users['race'] -= 1\n",
    "raceDict = users.set_index('user_id').to_dict()['race']\n",
    "users['race'].value_counts()"
   ]
  },
  {
   "cell_type": "code",
   "execution_count": 69,
   "id": "f4c58fb5-27a1-4c44-adda-9fd51f12c772",
   "metadata": {},
   "outputs": [],
   "source": [
    "with open(\"User demo profiles.json\", encoding=\"utf8\") as file:\n",
    "    text = file.read()\n",
    "    profiles = json.loads(text)"
   ]
  },
  {
   "cell_type": "code",
   "execution_count": 70,
   "id": "d55512dd-c7c8-412b-8e01-e7e05ec677cc",
   "metadata": {},
   "outputs": [],
   "source": [
    "pics = []\n",
    "labels = []\n",
    "for profile in profiles:\n",
    "    id = profile['id']\n",
    "    if id in raceDict:\n",
    "        path = profile['img_path']\n",
    "        try:\n",
    "            im = imageio.imread(path)\n",
    "            pics.append(im)\n",
    "            race = raceDict[id]\n",
    "            labels.append(race)\n",
    "        except FileNotFoundError:\n",
    "            continue\n",
    "pics = np.array(pics)\n",
    "labels = np.array(labels)"
   ]
  },
  {
   "cell_type": "code",
   "execution_count": 71,
   "id": "3e60523e-af08-4e37-97ad-639dbaa5530a",
   "metadata": {},
   "outputs": [
    {
     "data": {
      "text/plain": [
       "((3396, 224, 224, 3), (3396,))"
      ]
     },
     "execution_count": 71,
     "metadata": {},
     "output_type": "execute_result"
    }
   ],
   "source": [
    "pics.shape, labels.shape"
   ]
  },
  {
   "cell_type": "code",
   "execution_count": 90,
   "id": "d703cda4-d3b1-4346-a31e-0b242f77cd40",
   "metadata": {},
   "outputs": [
    {
     "name": "stdout",
     "output_type": "stream",
     "text": [
      "Model: \"sequential_30\"\n",
      "_________________________________________________________________\n",
      " Layer (type)                Output Shape              Param #   \n",
      "=================================================================\n",
      " conv2d_3 (Conv2D)           (None, 222, 222, 2)       56        \n",
      "                                                                 \n",
      " flatten_6 (Flatten)         (None, 98568)             0         \n",
      "                                                                 \n",
      " dense_45 (Dense)            (None, 100)               9856900   \n",
      "                                                                 \n",
      " dense_46 (Dense)            (None, 5)                 505       \n",
      "                                                                 \n",
      "=================================================================\n",
      "Total params: 9,857,461\n",
      "Trainable params: 9,857,461\n",
      "Non-trainable params: 0\n",
      "_________________________________________________________________\n"
     ]
    }
   ],
   "source": [
    "model = keras.Sequential()\n",
    "\n",
    "model.add(keras.layers.Conv2D(filters=2, kernel_size=3, activation='relu', input_shape=(224,224,3)))\n",
    "model.add(keras.layers.Flatten())\n",
    "model.add(keras.layers.Dense(100, activation='relu'))\n",
    "model.add(keras.layers.Dense(5, activation='softmax'))\n",
    "model.summary()\n",
    "model.compile(optimizer='adam', loss='sparse_categorical_crossentropy', metrics=['accuracy'])"
   ]
  },
  {
   "cell_type": "code",
   "execution_count": 91,
   "id": "eaebb786-73f0-4e3e-8bc9-f135cb6361aa",
   "metadata": {},
   "outputs": [
    {
     "name": "stdout",
     "output_type": "stream",
     "text": [
      "Epoch 1/5\n",
      "107/107 [==============================] - 15s 136ms/step - loss: 920.6637 - accuracy: 0.6266\n",
      "Epoch 2/5\n",
      "107/107 [==============================] - 14s 134ms/step - loss: 8.5070 - accuracy: 0.6943\n",
      "Epoch 3/5\n",
      "107/107 [==============================] - 14s 133ms/step - loss: 2.2498 - accuracy: 0.8271\n",
      "Epoch 4/5\n",
      "107/107 [==============================] - 15s 136ms/step - loss: 0.9669 - accuracy: 0.8905\n",
      "Epoch 5/5\n",
      "107/107 [==============================] - 14s 134ms/step - loss: 0.9193 - accuracy: 0.9317\n"
     ]
    },
    {
     "data": {
      "text/plain": [
       "<keras.callbacks.History at 0x1a394c6c1f0>"
      ]
     },
     "execution_count": 91,
     "metadata": {},
     "output_type": "execute_result"
    }
   ],
   "source": [
    "model.fit(pics, labels, epochs=5)"
   ]
  }
 ],
 "metadata": {
  "kernelspec": {
   "display_name": "Python 3 (ipykernel)",
   "language": "python",
   "name": "python3"
  },
  "language_info": {
   "codemirror_mode": {
    "name": "ipython",
    "version": 3
   },
   "file_extension": ".py",
   "mimetype": "text/x-python",
   "name": "python",
   "nbconvert_exporter": "python",
   "pygments_lexer": "ipython3",
   "version": "3.8.11"
  }
 },
 "nbformat": 4,
 "nbformat_minor": 5
}
