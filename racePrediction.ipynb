{
 "cells": [
  {
   "cell_type": "code",
   "execution_count": 11,
   "id": "570cf4b7-a675-4d93-859b-49587e94c0e5",
   "metadata": {},
   "outputs": [],
   "source": [
    "#!pip install tensorflow_text==2.5.0.\n",
    "import pandas as pd\n",
    "import numpy as np\n",
    "from sklearn.metrics import accuracy_score, classification_report, confusion_matrix\n",
    "from scipy.stats import mode\n",
    "import re\n",
    "import tensorflow as tf\n",
    "import tensorflow.keras as keras\n",
    "import tensorflow_hub as hub\n",
    "import tensorflow_text as text\n",
    "from sklearn.model_selection import KFold"
   ]
  },
  {
   "cell_type": "code",
   "execution_count": 92,
   "id": "bf83866a",
   "metadata": {},
   "outputs": [
    {
     "data": {
      "text/plain": [
       "3.0    242886\n",
       "0.0     28720\n",
       "1.0     17797\n",
       "2.0      9885\n",
       "Name: Race, dtype: int64"
      ]
     },
     "execution_count": 92,
     "metadata": {},
     "output_type": "execute_result"
    }
   ],
   "source": [
    "df = pd.read_csv(\"labeled_tweet_table.csv\")\n",
    "df = df[df[\"Race\"].notna()]\n",
    "df = df[df[\"Race\"] != 5]\n",
    "df[\"Race\"] -= 1\n",
    "df[\"Race\"].value_counts()"
   ]
  },
  {
   "cell_type": "code",
   "execution_count": 93,
   "id": "0d0a7921",
   "metadata": {},
   "outputs": [],
   "source": [
    "x = df\n",
    "y = df['Race']"
   ]
  },
  {
   "cell_type": "code",
   "execution_count": 94,
   "id": "0b82c7d8",
   "metadata": {},
   "outputs": [],
   "source": [
    "x.drop(['Race'], inplace=True,axis=1)"
   ]
  },
  {
   "cell_type": "code",
   "execution_count": 96,
   "id": "dc45a3a2",
   "metadata": {},
   "outputs": [
    {
     "name": "stdout",
     "output_type": "stream",
     "text": [
      "original dataset shape: Counter({3.0: 242886, 0.0: 28720, 1.0: 17797, 2.0: 9885})\n",
      "Resample dataset shape Counter({0.0: 9885, 1.0: 9885, 2.0: 9885, 3.0: 9885})\n"
     ]
    }
   ],
   "source": [
    "from imblearn.under_sampling import RandomUnderSampler\n",
    "from collections import Counter\n",
    "\n",
    "rus = RandomUnderSampler(random_state=42, replacement=True)\n",
    "x_rus, y_rus = rus.fit_resample(x, y)\n",
    "\n",
    "print('original dataset shape:', Counter(y))\n",
    "print('Resample dataset shape', Counter(y_rus))"
   ]
  },
  {
   "cell_type": "code",
   "execution_count": 97,
   "id": "913caaa6",
   "metadata": {},
   "outputs": [
    {
     "name": "stdout",
     "output_type": "stream",
     "text": [
      "<class 'pandas.core.frame.DataFrame'>\n",
      "RangeIndex: 39540 entries, 0 to 39539\n",
      "Data columns (total 8 columns):\n",
      " #   Column       Non-Null Count  Dtype  \n",
      "---  ------       --------------  -----  \n",
      " 0   Tweet        39540 non-null  object \n",
      " 1   Name         39540 non-null  object \n",
      " 2   Screen Name  39538 non-null  object \n",
      " 3   Description  31986 non-null  object \n",
      " 4   Lang         0 non-null      float64\n",
      " 5   img_path     39540 non-null  object \n",
      " 6   Under 21     39540 non-null  int64  \n",
      " 7   Race         39540 non-null  float64\n",
      "dtypes: float64(2), int64(1), object(5)\n",
      "memory usage: 2.4+ MB\n"
     ]
    }
   ],
   "source": [
    "x_rus['Race'] = y_rus\n",
    "x_rus.info()"
   ]
  },
  {
   "cell_type": "code",
   "execution_count": 98,
   "id": "75e8dc28",
   "metadata": {},
   "outputs": [
    {
     "name": "stdout",
     "output_type": "stream",
     "text": [
      "<class 'pandas.core.frame.DataFrame'>\n",
      "RangeIndex: 39540 entries, 0 to 39539\n",
      "Data columns (total 8 columns):\n",
      " #   Column       Non-Null Count  Dtype  \n",
      "---  ------       --------------  -----  \n",
      " 0   Tweet        39540 non-null  object \n",
      " 1   Name         39540 non-null  object \n",
      " 2   Screen Name  39538 non-null  object \n",
      " 3   Description  31986 non-null  object \n",
      " 4   Lang         0 non-null      float64\n",
      " 5   img_path     39540 non-null  object \n",
      " 6   Under 21     39540 non-null  int64  \n",
      " 7   Race         39540 non-null  float64\n",
      "dtypes: float64(2), int64(1), object(5)\n",
      "memory usage: 2.4+ MB\n"
     ]
    }
   ],
   "source": [
    "twitter = x_rus\n",
    "twitter.info()"
   ]
  },
  {
   "cell_type": "code",
   "execution_count": 99,
   "id": "76afdc60-e714-46f9-8ea0-35dd0b91a6f0",
   "metadata": {},
   "outputs": [
    {
     "data": {
      "text/html": [
       "<div>\n",
       "<style scoped>\n",
       "    .dataframe tbody tr th:only-of-type {\n",
       "        vertical-align: middle;\n",
       "    }\n",
       "\n",
       "    .dataframe tbody tr th {\n",
       "        vertical-align: top;\n",
       "    }\n",
       "\n",
       "    .dataframe thead th {\n",
       "        text-align: right;\n",
       "    }\n",
       "</style>\n",
       "<table border=\"1\" class=\"dataframe\">\n",
       "  <thead>\n",
       "    <tr style=\"text-align: right;\">\n",
       "      <th></th>\n",
       "      <th>Tweet</th>\n",
       "      <th>Name</th>\n",
       "      <th>Screen Name</th>\n",
       "      <th>Description</th>\n",
       "      <th>Lang</th>\n",
       "      <th>img_path</th>\n",
       "      <th>Under 21</th>\n",
       "      <th>Race</th>\n",
       "    </tr>\n",
       "  </thead>\n",
       "  <tbody>\n",
       "    <tr>\n",
       "      <th>0</th>\n",
       "      <td>I have.</td>\n",
       "      <td>The Lean Show</td>\n",
       "      <td>ItsLeaninBaby</td>\n",
       "      <td>Catch me crapping on the news and wasting my b...</td>\n",
       "      <td>NaN</td>\n",
       "      <td>profile pics/61792.jpeg</td>\n",
       "      <td>0</td>\n",
       "      <td>0.0</td>\n",
       "    </tr>\n",
       "    <tr>\n",
       "      <th>1</th>\n",
       "      <td>All of these “patriots” chiming in talking ab...</td>\n",
       "      <td>Angel</td>\n",
       "      <td>whoangelnever</td>\n",
       "      <td>32. Mom. Style. Horror Aficionado.</td>\n",
       "      <td>NaN</td>\n",
       "      <td>profile pics/60770.jpeg</td>\n",
       "      <td>0</td>\n",
       "      <td>0.0</td>\n",
       "    </tr>\n",
       "    <tr>\n",
       "      <th>2</th>\n",
       "      <td>no really because WHAT is this lmfao</td>\n",
       "      <td>hot girl midsommar</td>\n",
       "      <td>verymimi</td>\n",
       "      <td>gemini, screenwriter, pop culture slut, real d...</td>\n",
       "      <td>NaN</td>\n",
       "      <td>profile pics/60277.jpeg</td>\n",
       "      <td>0</td>\n",
       "      <td>0.0</td>\n",
       "    </tr>\n",
       "    <tr>\n",
       "      <th>3</th>\n",
       "      <td>QueenGEe 1 Train Verse   via</td>\n",
       "      <td>Queen.</td>\n",
       "      <td>Goddess__Queen</td>\n",
       "      <td>Tell em' all I love em and tell them niggas I'...</td>\n",
       "      <td>NaN</td>\n",
       "      <td>profile pics/63107.jpeg</td>\n",
       "      <td>0</td>\n",
       "      <td>0.0</td>\n",
       "    </tr>\n",
       "    <tr>\n",
       "      <th>4</th>\n",
       "      <td>Actually, it’s taking away the option for F...</td>\n",
       "      <td>JaSm</td>\n",
       "      <td>JNSmi</td>\n",
       "      <td>A Veteran who doesn't let Fear...Interfere! #S...</td>\n",
       "      <td>NaN</td>\n",
       "      <td>profile pics/61625.jpeg</td>\n",
       "      <td>0</td>\n",
       "      <td>0.0</td>\n",
       "    </tr>\n",
       "    <tr>\n",
       "      <th>...</th>\n",
       "      <td>...</td>\n",
       "      <td>...</td>\n",
       "      <td>...</td>\n",
       "      <td>...</td>\n",
       "      <td>...</td>\n",
       "      <td>...</td>\n",
       "      <td>...</td>\n",
       "      <td>...</td>\n",
       "    </tr>\n",
       "    <tr>\n",
       "      <th>39535</th>\n",
       "      <td>A little heads up about the Europa league set...</td>\n",
       "      <td>TC</td>\n",
       "      <td>GoBlue71TC</td>\n",
       "      <td>NaN</td>\n",
       "      <td>NaN</td>\n",
       "      <td>profile pics/64022.jpeg</td>\n",
       "      <td>0</td>\n",
       "      <td>3.0</td>\n",
       "    </tr>\n",
       "    <tr>\n",
       "      <th>39536</th>\n",
       "      <td>My Hero Academia Blind Reaction Season 5 Episo...</td>\n",
       "      <td>Jessica Starks</td>\n",
       "      <td>kuramasgurl018</td>\n",
       "      <td>I'm a youtuber trying to provide entertaining ...</td>\n",
       "      <td>NaN</td>\n",
       "      <td>profile pics/63862.jpeg</td>\n",
       "      <td>0</td>\n",
       "      <td>3.0</td>\n",
       "    </tr>\n",
       "    <tr>\n",
       "      <th>39537</th>\n",
       "      <td>I will!!</td>\n",
       "      <td>Too Fat</td>\n",
       "      <td>iwantwhatshehas</td>\n",
       "      <td>SW: 155 CW: let's not talk about that... GW:10...</td>\n",
       "      <td>NaN</td>\n",
       "      <td>profile pics/64249.jpeg</td>\n",
       "      <td>0</td>\n",
       "      <td>3.0</td>\n",
       "    </tr>\n",
       "    <tr>\n",
       "      <th>39538</th>\n",
       "      <td>I cant log in or load the forgot password pag...</td>\n",
       "      <td>Shelby Kling</td>\n",
       "      <td>shellbellkling</td>\n",
       "      <td>Nerd, writer, marketing pro - living and lovin...</td>\n",
       "      <td>NaN</td>\n",
       "      <td>profile pics/63360.jpeg</td>\n",
       "      <td>0</td>\n",
       "      <td>3.0</td>\n",
       "    </tr>\n",
       "    <tr>\n",
       "      <th>39539</th>\n",
       "      <td>Metallica plays national anthem at Giants game...</td>\n",
       "      <td>Philly Casey</td>\n",
       "      <td>SixxAMPR93</td>\n",
       "      <td>Mom of Christopher Jacoby, wife of Chris. My l...</td>\n",
       "      <td>NaN</td>\n",
       "      <td>profile pics/60849.jpeg</td>\n",
       "      <td>0</td>\n",
       "      <td>3.0</td>\n",
       "    </tr>\n",
       "  </tbody>\n",
       "</table>\n",
       "<p>39540 rows × 8 columns</p>\n",
       "</div>"
      ],
      "text/plain": [
       "                                                   Tweet                Name  \\\n",
       "0                                                I have.       The Lean Show   \n",
       "1       All of these “patriots” chiming in talking ab...               Angel   \n",
       "2                   no really because WHAT is this lmfao  hot girl midsommar   \n",
       "3                          QueenGEe 1 Train Verse   via               Queen.   \n",
       "4         Actually, it’s taking away the option for F...                JaSm   \n",
       "...                                                  ...                 ...   \n",
       "39535   A little heads up about the Europa league set...                  TC   \n",
       "39536  My Hero Academia Blind Reaction Season 5 Episo...      Jessica Starks   \n",
       "39537                                           I will!!             Too Fat   \n",
       "39538   I cant log in or load the forgot password pag...        Shelby Kling   \n",
       "39539  Metallica plays national anthem at Giants game...        Philly Casey   \n",
       "\n",
       "           Screen Name                                        Description  \\\n",
       "0        ItsLeaninBaby  Catch me crapping on the news and wasting my b...   \n",
       "1        whoangelnever                 32. Mom. Style. Horror Aficionado.   \n",
       "2             verymimi  gemini, screenwriter, pop culture slut, real d...   \n",
       "3       Goddess__Queen  Tell em' all I love em and tell them niggas I'...   \n",
       "4                JNSmi  A Veteran who doesn't let Fear...Interfere! #S...   \n",
       "...                ...                                                ...   \n",
       "39535       GoBlue71TC                                                NaN   \n",
       "39536   kuramasgurl018  I'm a youtuber trying to provide entertaining ...   \n",
       "39537  iwantwhatshehas  SW: 155 CW: let's not talk about that... GW:10...   \n",
       "39538   shellbellkling  Nerd, writer, marketing pro - living and lovin...   \n",
       "39539       SixxAMPR93  Mom of Christopher Jacoby, wife of Chris. My l...   \n",
       "\n",
       "       Lang                 img_path  Under 21  Race  \n",
       "0       NaN  profile pics/61792.jpeg         0   0.0  \n",
       "1       NaN  profile pics/60770.jpeg         0   0.0  \n",
       "2       NaN  profile pics/60277.jpeg         0   0.0  \n",
       "3       NaN  profile pics/63107.jpeg         0   0.0  \n",
       "4       NaN  profile pics/61625.jpeg         0   0.0  \n",
       "...     ...                      ...       ...   ...  \n",
       "39535   NaN  profile pics/64022.jpeg         0   3.0  \n",
       "39536   NaN  profile pics/63862.jpeg         0   3.0  \n",
       "39537   NaN  profile pics/64249.jpeg         0   3.0  \n",
       "39538   NaN  profile pics/63360.jpeg         0   3.0  \n",
       "39539   NaN  profile pics/60849.jpeg         0   3.0  \n",
       "\n",
       "[39540 rows x 8 columns]"
      ]
     },
     "execution_count": 99,
     "metadata": {},
     "output_type": "execute_result"
    }
   ],
   "source": [
    "regexMap={r\"<[\\w'/'\\s]*>\": \"\",r\"[\\'\\\"\\-]+\": \"\",r\"@[\\w]+\":\"\",r\"http\\S+\" : \"\"}\n",
    "def preprocess(datainput):\n",
    "    t=datainput\n",
    "    for regx in regexMap.keys():\n",
    "        try:\n",
    "            t = re.sub(regx, regexMap[regx], t)\n",
    "        except TypeError:\n",
    "            continue\n",
    "    return t\n",
    "twitter[\"Tweet\"] = twitter[\"Tweet\"].apply(preprocess)\n",
    "twitter"
   ]
  },
  {
   "cell_type": "code",
   "execution_count": 100,
   "id": "15c197cf",
   "metadata": {},
   "outputs": [
    {
     "data": {
      "text/plain": [
       "0.0    9885\n",
       "2.0    9885\n",
       "3.0    9885\n",
       "1.0    9885\n",
       "Name: Race, dtype: int64"
      ]
     },
     "execution_count": 100,
     "metadata": {},
     "output_type": "execute_result"
    }
   ],
   "source": [
    "twitter['Race'].value_counts()"
   ]
  },
  {
   "cell_type": "code",
   "execution_count": 101,
   "id": "1bbe8b08-c47d-452b-98dd-8d53195712d2",
   "metadata": {},
   "outputs": [],
   "source": [
    "names = twitter[\"Name\"].unique()\n",
    "labels = []\n",
    "tweet_dict = {}\n",
    "for name in names:\n",
    "    tweet_dict[name] = twitter[twitter[\"Name\"] == name][\"Tweet\"].tolist()"
   ]
  },
  {
   "cell_type": "code",
   "execution_count": 102,
   "id": "8de3aa26-094a-410b-a78f-19089c05139d",
   "metadata": {},
   "outputs": [],
   "source": [
    "label_dict = twitter.set_index(\"Name\").to_dict()[\"Race\"]"
   ]
  },
  {
   "cell_type": "code",
   "execution_count": 103,
   "id": "95682a85",
   "metadata": {},
   "outputs": [
    {
     "data": {
      "text/plain": [
       "(2976, 2976, 2976)"
      ]
     },
     "execution_count": 103,
     "metadata": {},
     "output_type": "execute_result"
    }
   ],
   "source": [
    "concatenated_tweets = []\n",
    "labels = []\n",
    "for name in names:\n",
    "    concat = ''.join(str(tweet_dict[name]))\n",
    "    concatenated_tweets.append(concat)\n",
    "    labels.append(label_dict[name])\n",
    "\n",
    "concat_df = pd.DataFrame({\"User\": np.array(names), \"Tweet\": concatenated_tweets, \"Race\": np.array(labels)})\n",
    "len(names), len(concatenated_tweets), len(labels)"
   ]
  },
  {
   "cell_type": "code",
   "execution_count": 104,
   "id": "3bd764aa",
   "metadata": {
    "scrolled": true
   },
   "outputs": [
    {
     "name": "stdout",
     "output_type": "stream",
     "text": [
      "<class 'pandas.core.frame.DataFrame'>\n",
      "RangeIndex: 2976 entries, 0 to 2975\n",
      "Data columns (total 3 columns):\n",
      " #   Column  Non-Null Count  Dtype  \n",
      "---  ------  --------------  -----  \n",
      " 0   User    2976 non-null   object \n",
      " 1   Tweet   2976 non-null   object \n",
      " 2   Race    2976 non-null   float64\n",
      "dtypes: float64(1), object(2)\n",
      "memory usage: 69.9+ KB\n"
     ]
    },
    {
     "data": {
      "text/plain": [
       "3.0    2405\n",
       "0.0     291\n",
       "1.0     178\n",
       "2.0     102\n",
       "Name: Race, dtype: int64"
      ]
     },
     "execution_count": 104,
     "metadata": {},
     "output_type": "execute_result"
    }
   ],
   "source": [
    "concat_df.info()\n",
    "concat_df[\"Race\"].value_counts()"
   ]
  },
  {
   "cell_type": "code",
   "execution_count": 105,
   "id": "fdfca2b6",
   "metadata": {
    "scrolled": true
   },
   "outputs": [
    {
     "name": "stdout",
     "output_type": "stream",
     "text": [
      "Model: \"model_2\"\n",
      "__________________________________________________________________________________________________\n",
      "Layer (type)                    Output Shape         Param #     Connected to                     \n",
      "==================================================================================================\n",
      "input_4 (InputLayer)            [(None,)]            0                                            \n",
      "__________________________________________________________________________________________________\n",
      "keras_layer_6 (KerasLayer)      {'input_type_ids': ( 0           input_4[0][0]                    \n",
      "__________________________________________________________________________________________________\n",
      "keras_layer_7 (KerasLayer)      {'default': (None, 7 109482241   keras_layer_6[0][0]              \n",
      "                                                                 keras_layer_6[0][1]              \n",
      "                                                                 keras_layer_6[0][2]              \n",
      "__________________________________________________________________________________________________\n",
      "dense_4 (Dense)                 (None, 4)            3076        keras_layer_7[0][13]             \n",
      "==================================================================================================\n",
      "Total params: 109,485,317\n",
      "Trainable params: 3,076\n",
      "Non-trainable params: 109,482,241\n",
      "__________________________________________________________________________________________________\n"
     ]
    }
   ],
   "source": [
    "def constructModel():\n",
    "    bert_preprocess = hub.KerasLayer(\"https://tfhub.dev/tensorflow/bert_en_uncased_preprocess/3\")\n",
    "    bert_encoder = hub.KerasLayer(\"https://tfhub.dev/tensorflow/bert_en_uncased_L-12_H-768_A-12/4\")\n",
    "    text_input = keras.layers.Input(shape=(), dtype=tf.string)\n",
    "    preprocessed_text = bert_preprocess(text_input)\n",
    "    outputs = bert_encoder(preprocessed_text)\n",
    "\n",
    "    dense = keras.layers.Dense(4, activation='softmax')(outputs[\"pooled_output\"])\n",
    "\n",
    "    model = keras.Model(inputs=[text_input], outputs=[dense])\n",
    "    model.compile(optimizer='adam', loss = 'sparse_categorical_crossentropy', metrics = ['accuracy'])\n",
    "    model.summary()\n",
    "    return model\n",
    "\n",
    "model = constructModel()"
   ]
  },
  {
   "cell_type": "code",
   "execution_count": 68,
   "id": "5e804f33",
   "metadata": {},
   "outputs": [
    {
     "name": "stdout",
     "output_type": "stream",
     "text": [
      "Fold 1:\n",
      "\n",
      "Epoch 1/5\n",
      "75/75 [==============================] - 19s 118ms/step - loss: 0.0428 - accuracy: 0.9924\n",
      "Epoch 2/5\n",
      "75/75 [==============================] - 9s 118ms/step - loss: 0.0038 - accuracy: 0.9987\n",
      "Epoch 3/5\n",
      "75/75 [==============================] - 9s 118ms/step - loss: 0.0014 - accuracy: 1.0000\n",
      "Epoch 4/5\n",
      "75/75 [==============================] - 9s 119ms/step - loss: 6.7576e-04 - accuracy: 1.0000\n",
      "Epoch 5/5\n",
      "75/75 [==============================] - 9s 118ms/step - loss: 4.4598e-04 - accuracy: 1.0000\n",
      "Accuracy:  0.04194630872483222\n",
      "\n",
      "              precision    recall  f1-score   support\n",
      "\n",
      "         0.0       0.00      0.00      0.00       291\n",
      "         1.0       0.00      0.00      0.00       178\n",
      "         2.0       0.00      0.00      0.00       102\n",
      "         3.0       0.04      1.00      0.08        25\n",
      "\n",
      "    accuracy                           0.04       596\n",
      "   macro avg       0.01      0.25      0.02       596\n",
      "weighted avg       0.00      0.04      0.00       596\n",
      "\n",
      "\n",
      "[[0. 0. 0. 1.]\n",
      " [0. 0. 0. 1.]\n",
      " [0. 0. 0. 1.]\n",
      " [0. 0. 0. 1.]]\n",
      "\n",
      "Fold 2:\n",
      "\n",
      "Epoch 1/5\n",
      " 1/75 [..............................] - ETA: 9s - loss: 2.5211 - accuracy: 0.7500"
     ]
    },
    {
     "name": "stderr",
     "output_type": "stream",
     "text": [
      "/share/pkg.7/python3/3.8.10/install/lib/python3.8/site-packages/sklearn/metrics/_classification.py:1248: UndefinedMetricWarning: Precision and F-score are ill-defined and being set to 0.0 in labels with no predicted samples. Use `zero_division` parameter to control this behavior.\n",
      "  _warn_prf(average, modifier, msg_start, len(result))\n",
      "/share/pkg.7/python3/3.8.10/install/lib/python3.8/site-packages/sklearn/metrics/_classification.py:1248: UndefinedMetricWarning: Precision and F-score are ill-defined and being set to 0.0 in labels with no predicted samples. Use `zero_division` parameter to control this behavior.\n",
      "  _warn_prf(average, modifier, msg_start, len(result))\n",
      "/share/pkg.7/python3/3.8.10/install/lib/python3.8/site-packages/sklearn/metrics/_classification.py:1248: UndefinedMetricWarning: Precision and F-score are ill-defined and being set to 0.0 in labels with no predicted samples. Use `zero_division` parameter to control this behavior.\n",
      "  _warn_prf(average, modifier, msg_start, len(result))\n"
     ]
    },
    {
     "name": "stdout",
     "output_type": "stream",
     "text": [
      "75/75 [==============================] - 10s 130ms/step - loss: 0.8639 - accuracy: 0.7463\n",
      "Epoch 2/5\n",
      "75/75 [==============================] - 10s 129ms/step - loss: 0.6455 - accuracy: 0.7698\n",
      "Epoch 3/5\n",
      "75/75 [==============================] - 10s 130ms/step - loss: 0.5895 - accuracy: 0.7787\n",
      "Epoch 4/5\n",
      "75/75 [==============================] - 10s 130ms/step - loss: 0.5899 - accuracy: 0.7770\n",
      "Epoch 5/5\n",
      "75/75 [==============================] - 10s 129ms/step - loss: 0.5575 - accuracy: 0.7824\n",
      "Accuracy:  0.9764705882352941\n",
      "\n",
      "              precision    recall  f1-score   support\n",
      "\n",
      "         0.0       0.00      0.00      0.00         0\n",
      "         1.0       0.00      0.00      0.00         0\n",
      "         3.0       1.00      0.98      0.99       595\n",
      "\n",
      "    accuracy                           0.98       595\n",
      "   macro avg       0.33      0.33      0.33       595\n",
      "weighted avg       1.00      0.98      0.99       595\n",
      "\n",
      "\n",
      "[[0.         0.         0.        ]\n",
      " [0.         0.         0.        ]\n",
      " [0.02184874 0.00168067 0.97647059]]\n",
      "\n",
      "Fold 3:\n",
      "\n",
      "Epoch 1/5\n",
      " 1/75 [..............................] - ETA: 10s - loss: 0.6975 - accuracy: 0.7188"
     ]
    },
    {
     "name": "stderr",
     "output_type": "stream",
     "text": [
      "/share/pkg.7/python3/3.8.10/install/lib/python3.8/site-packages/sklearn/metrics/_classification.py:1248: UndefinedMetricWarning: Recall and F-score are ill-defined and being set to 0.0 in labels with no true samples. Use `zero_division` parameter to control this behavior.\n",
      "  _warn_prf(average, modifier, msg_start, len(result))\n",
      "/share/pkg.7/python3/3.8.10/install/lib/python3.8/site-packages/sklearn/metrics/_classification.py:1248: UndefinedMetricWarning: Recall and F-score are ill-defined and being set to 0.0 in labels with no true samples. Use `zero_division` parameter to control this behavior.\n",
      "  _warn_prf(average, modifier, msg_start, len(result))\n",
      "/share/pkg.7/python3/3.8.10/install/lib/python3.8/site-packages/sklearn/metrics/_classification.py:1248: UndefinedMetricWarning: Recall and F-score are ill-defined and being set to 0.0 in labels with no true samples. Use `zero_division` parameter to control this behavior.\n",
      "  _warn_prf(average, modifier, msg_start, len(result))\n"
     ]
    },
    {
     "name": "stdout",
     "output_type": "stream",
     "text": [
      "75/75 [==============================] - 10s 129ms/step - loss: 0.5385 - accuracy: 0.7908\n",
      "Epoch 2/5\n",
      "75/75 [==============================] - 10s 130ms/step - loss: 0.5322 - accuracy: 0.7984\n",
      "Epoch 3/5\n",
      "75/75 [==============================] - 10s 129ms/step - loss: 0.5322 - accuracy: 0.7892\n",
      "Epoch 4/5\n",
      "75/75 [==============================] - 10s 129ms/step - loss: 0.5185 - accuracy: 0.8030\n",
      "Epoch 5/5\n",
      "75/75 [==============================] - 10s 130ms/step - loss: 0.5131 - accuracy: 0.8068\n",
      "Accuracy:  0.9495798319327731\n",
      "\n",
      "              precision    recall  f1-score   support\n",
      "\n",
      "         0.0       0.00      0.00      0.00         0\n",
      "         3.0       1.00      0.95      0.97       595\n",
      "\n",
      "    accuracy                           0.95       595\n",
      "   macro avg       0.50      0.47      0.49       595\n",
      "weighted avg       1.00      0.95      0.97       595\n",
      "\n",
      "\n",
      "[[0.         0.        ]\n",
      " [0.05042017 0.94957983]]\n",
      "\n",
      "Fold 4:\n",
      "\n",
      "Epoch 1/5\n",
      " 1/75 [..............................] - ETA: 9s - loss: 0.5874 - accuracy: 0.7500"
     ]
    },
    {
     "name": "stderr",
     "output_type": "stream",
     "text": [
      "/share/pkg.7/python3/3.8.10/install/lib/python3.8/site-packages/sklearn/metrics/_classification.py:1248: UndefinedMetricWarning: Recall and F-score are ill-defined and being set to 0.0 in labels with no true samples. Use `zero_division` parameter to control this behavior.\n",
      "  _warn_prf(average, modifier, msg_start, len(result))\n",
      "/share/pkg.7/python3/3.8.10/install/lib/python3.8/site-packages/sklearn/metrics/_classification.py:1248: UndefinedMetricWarning: Recall and F-score are ill-defined and being set to 0.0 in labels with no true samples. Use `zero_division` parameter to control this behavior.\n",
      "  _warn_prf(average, modifier, msg_start, len(result))\n",
      "/share/pkg.7/python3/3.8.10/install/lib/python3.8/site-packages/sklearn/metrics/_classification.py:1248: UndefinedMetricWarning: Recall and F-score are ill-defined and being set to 0.0 in labels with no true samples. Use `zero_division` parameter to control this behavior.\n",
      "  _warn_prf(average, modifier, msg_start, len(result))\n"
     ]
    },
    {
     "name": "stdout",
     "output_type": "stream",
     "text": [
      "75/75 [==============================] - 10s 130ms/step - loss: 0.5194 - accuracy: 0.8047\n",
      "Epoch 2/5\n",
      "75/75 [==============================] - 10s 130ms/step - loss: 0.5165 - accuracy: 0.8018\n",
      "Epoch 3/5\n",
      "75/75 [==============================] - 10s 131ms/step - loss: 0.5206 - accuracy: 0.7984\n",
      "Epoch 4/5\n",
      "75/75 [==============================] - 10s 130ms/step - loss: 0.5147 - accuracy: 0.7988\n",
      "Epoch 5/5\n",
      "75/75 [==============================] - 10s 129ms/step - loss: 0.5045 - accuracy: 0.7992\n",
      "Accuracy:  0.9663865546218487\n",
      "\n",
      "              precision    recall  f1-score   support\n",
      "\n",
      "         0.0       0.00      0.00      0.00         0\n",
      "         1.0       0.00      0.00      0.00         0\n",
      "         3.0       1.00      0.97      0.98       595\n",
      "\n",
      "    accuracy                           0.97       595\n",
      "   macro avg       0.33      0.32      0.33       595\n",
      "weighted avg       1.00      0.97      0.98       595\n",
      "\n",
      "\n",
      "[[0.         0.         0.        ]\n",
      " [0.         0.         0.        ]\n",
      " [0.01176471 0.02184874 0.96638655]]\n",
      "\n",
      "Fold 5:\n",
      "\n",
      "Epoch 1/5\n",
      " 1/75 [..............................] - ETA: 9s - loss: 0.4707 - accuracy: 0.7812"
     ]
    },
    {
     "name": "stderr",
     "output_type": "stream",
     "text": [
      "/share/pkg.7/python3/3.8.10/install/lib/python3.8/site-packages/sklearn/metrics/_classification.py:1248: UndefinedMetricWarning: Recall and F-score are ill-defined and being set to 0.0 in labels with no true samples. Use `zero_division` parameter to control this behavior.\n",
      "  _warn_prf(average, modifier, msg_start, len(result))\n",
      "/share/pkg.7/python3/3.8.10/install/lib/python3.8/site-packages/sklearn/metrics/_classification.py:1248: UndefinedMetricWarning: Recall and F-score are ill-defined and being set to 0.0 in labels with no true samples. Use `zero_division` parameter to control this behavior.\n",
      "  _warn_prf(average, modifier, msg_start, len(result))\n",
      "/share/pkg.7/python3/3.8.10/install/lib/python3.8/site-packages/sklearn/metrics/_classification.py:1248: UndefinedMetricWarning: Recall and F-score are ill-defined and being set to 0.0 in labels with no true samples. Use `zero_division` parameter to control this behavior.\n",
      "  _warn_prf(average, modifier, msg_start, len(result))\n"
     ]
    },
    {
     "name": "stdout",
     "output_type": "stream",
     "text": [
      "75/75 [==============================] - 10s 131ms/step - loss: 0.5214 - accuracy: 0.8047\n",
      "Epoch 2/5\n",
      "75/75 [==============================] - 10s 131ms/step - loss: 0.5279 - accuracy: 0.8018\n",
      "Epoch 3/5\n",
      "75/75 [==============================] - 10s 131ms/step - loss: 0.5341 - accuracy: 0.8001\n",
      "Epoch 4/5\n",
      "75/75 [==============================] - 10s 130ms/step - loss: 0.5245 - accuracy: 0.7988\n",
      "Epoch 5/5\n",
      "75/75 [==============================] - 10s 131ms/step - loss: 0.5187 - accuracy: 0.8034\n",
      "Accuracy:  0.9966386554621849\n",
      "\n",
      "              precision    recall  f1-score   support\n",
      "\n",
      "         0.0       0.00      0.00      0.00         0\n",
      "         3.0       1.00      1.00      1.00       595\n",
      "\n",
      "    accuracy                           1.00       595\n",
      "   macro avg       0.50      0.50      0.50       595\n",
      "weighted avg       1.00      1.00      1.00       595\n",
      "\n",
      "\n",
      "[[0.         0.        ]\n",
      " [0.00336134 0.99663866]]\n",
      "\n"
     ]
    },
    {
     "name": "stderr",
     "output_type": "stream",
     "text": [
      "/share/pkg.7/python3/3.8.10/install/lib/python3.8/site-packages/sklearn/metrics/_classification.py:1248: UndefinedMetricWarning: Recall and F-score are ill-defined and being set to 0.0 in labels with no true samples. Use `zero_division` parameter to control this behavior.\n",
      "  _warn_prf(average, modifier, msg_start, len(result))\n",
      "/share/pkg.7/python3/3.8.10/install/lib/python3.8/site-packages/sklearn/metrics/_classification.py:1248: UndefinedMetricWarning: Recall and F-score are ill-defined and being set to 0.0 in labels with no true samples. Use `zero_division` parameter to control this behavior.\n",
      "  _warn_prf(average, modifier, msg_start, len(result))\n",
      "/share/pkg.7/python3/3.8.10/install/lib/python3.8/site-packages/sklearn/metrics/_classification.py:1248: UndefinedMetricWarning: Recall and F-score are ill-defined and being set to 0.0 in labels with no true samples. Use `zero_division` parameter to control this behavior.\n",
      "  _warn_prf(average, modifier, msg_start, len(result))\n"
     ]
    }
   ],
   "source": [
    "accs = []\n",
    "reports = []\n",
    "confusion_matrices = []\n",
    "\n",
    "kf = KFold(n_splits = 5)\n",
    "i = 1\n",
    "for train, test in kf.split(concat_df):\n",
    "    print(\"Fold %d:\" % i)\n",
    "    print()\n",
    "    i += 1\n",
    "    train_df = concat_df.iloc[train]\n",
    "    test_df = concat_df.iloc[test]\n",
    "    \n",
    "    x_train, y_train = train_df[\"Tweet\"], train_df[\"Race\"]\n",
    "    x_test, y_test = test_df[\"Tweet\"], test_df[\"Race\"]\n",
    "    \n",
    "    model.fit(x_train, y_train, epochs = 5)\n",
    "    y_pred = np.argmax(model.predict(x_test), axis=1)\n",
    "    acc = accuracy_score(y_test, y_pred)\n",
    "    accs.append(acc)\n",
    "    print(\"Accuracy: \", acc)\n",
    "    print()\n",
    "    report = classification_report(y_test, y_pred)\n",
    "    print(report)\n",
    "    print()\n",
    "    reports.append(report)\n",
    "    cm = confusion_matrix(y_test, y_pred, normalize='true')\n",
    "    print(cm)\n",
    "    print()\n",
    "    confusion_matrices.append(cm)"
   ]
  },
  {
   "cell_type": "code",
   "execution_count": 70,
   "id": "720356d2",
   "metadata": {},
   "outputs": [
    {
     "data": {
      "text/plain": [
       "0.7862043877953866"
      ]
     },
     "execution_count": 70,
     "metadata": {},
     "output_type": "execute_result"
    }
   ],
   "source": [
    "np.average(accs)"
   ]
  },
  {
   "cell_type": "code",
   "execution_count": 72,
   "id": "078cf900",
   "metadata": {},
   "outputs": [
    {
     "ename": "ValueError",
     "evalue": "operands could not be broadcast together with shapes (4,4) (3,3) ",
     "output_type": "error",
     "traceback": [
      "\u001b[0;31m---------------------------------------------------------------------------\u001b[0m",
      "\u001b[0;31mValueError\u001b[0m                                Traceback (most recent call last)",
      "\u001b[0;32m<ipython-input-72-cbf0186bf750>\u001b[0m in \u001b[0;36m<module>\u001b[0;34m\u001b[0m\n\u001b[0;32m----> 1\u001b[0;31m \u001b[0msum\u001b[0m\u001b[0;34m(\u001b[0m\u001b[0mconfusion_matrices\u001b[0m\u001b[0;34m)\u001b[0m \u001b[0;34m/\u001b[0m \u001b[0;36m5\u001b[0m\u001b[0;34m\u001b[0m\u001b[0;34m\u001b[0m\u001b[0m\n\u001b[0m",
      "\u001b[0;31mValueError\u001b[0m: operands could not be broadcast together with shapes (4,4) (3,3) "
     ]
    }
   ],
   "source": [
    "sum(confusion_matrices) / 5"
   ]
  }
 ],
 "metadata": {
  "kernelspec": {
   "display_name": "Python 3",
   "language": "python",
   "name": "python3"
  },
  "language_info": {
   "codemirror_mode": {
    "name": "ipython",
    "version": 3
   },
   "file_extension": ".py",
   "mimetype": "text/x-python",
   "name": "python",
   "nbconvert_exporter": "python",
   "pygments_lexer": "ipython3",
   "version": "3.8.10"
  }
 },
 "nbformat": 4,
 "nbformat_minor": 5
}
