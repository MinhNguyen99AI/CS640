{
 "cells": [
  {
   "cell_type": "code",
   "execution_count": 314,
   "id": "570cf4b7-a675-4d93-859b-49587e94c0e5",
   "metadata": {},
   "outputs": [],
   "source": [
    "#!pip install tensorflow_text==2.5.0.\n",
    "import pandas as pd\n",
    "import numpy as np\n",
    "from sklearn.metrics import accuracy_score, classification_report, confusion_matrix\n",
    "from scipy.stats import mode\n",
    "import re\n",
    "import tensorflow as tf\n",
    "import tensorflow.keras as keras\n",
    "import tensorflow_hub as hub\n",
    "import tensorflow_text as text\n",
    "from sklearn.model_selection import KFold"
   ]
  },
  {
   "cell_type": "code",
   "execution_count": 318,
   "id": "bf83866a",
   "metadata": {},
   "outputs": [
    {
     "data": {
      "text/plain": [
       "3.0    242886\n",
       "0.0     28719\n",
       "1.0     17797\n",
       "2.0      9885\n",
       "Name: Race, dtype: int64"
      ]
     },
     "execution_count": 318,
     "metadata": {},
     "output_type": "execute_result"
    }
   ],
   "source": [
    "twitter = pd.read_csv(\"labeled_tweet_table.csv\")\n",
    "twitter = twitter[twitter[\"Race\"].notna() & twitter[\"Tweet\"].notna()]\n",
    "twitter = twitter[twitter[\"Race\"] != 5]\n",
    "twitter[\"Race\"] -= 1\n",
    "twitter[\"Race\"].value_counts()"
   ]
  },
  {
   "cell_type": "code",
   "execution_count": 319,
   "id": "76afdc60-e714-46f9-8ea0-35dd0b91a6f0",
   "metadata": {},
   "outputs": [
    {
     "data": {
      "text/html": [
       "<div>\n",
       "<style scoped>\n",
       "    .dataframe tbody tr th:only-of-type {\n",
       "        vertical-align: middle;\n",
       "    }\n",
       "\n",
       "    .dataframe tbody tr th {\n",
       "        vertical-align: top;\n",
       "    }\n",
       "\n",
       "    .dataframe thead th {\n",
       "        text-align: right;\n",
       "    }\n",
       "</style>\n",
       "<table border=\"1\" class=\"dataframe\">\n",
       "  <thead>\n",
       "    <tr style=\"text-align: right;\">\n",
       "      <th></th>\n",
       "      <th>Tweet</th>\n",
       "      <th>Name</th>\n",
       "      <th>Screen Name</th>\n",
       "      <th>Description</th>\n",
       "      <th>Lang</th>\n",
       "      <th>img_path</th>\n",
       "      <th>Race</th>\n",
       "      <th>Under 21</th>\n",
       "    </tr>\n",
       "  </thead>\n",
       "  <tbody>\n",
       "    <tr>\n",
       "      <th>0</th>\n",
       "      <td>YKAR, a futuristic sans serif font by   #Freeb...</td>\n",
       "      <td>Chad Boyce</td>\n",
       "      <td>djsnipa1</td>\n",
       "      <td>Multimedia Developer, Graphic Designer, DJ, an...</td>\n",
       "      <td>NaN</td>\n",
       "      <td>profile pics/60147.jpeg</td>\n",
       "      <td>3.0</td>\n",
       "      <td>0</td>\n",
       "    </tr>\n",
       "    <tr>\n",
       "      <th>1</th>\n",
       "      <td>Who can I contact about the very rude and poo...</td>\n",
       "      <td>Chad Boyce</td>\n",
       "      <td>djsnipa1</td>\n",
       "      <td>Multimedia Developer, Graphic Designer, DJ, an...</td>\n",
       "      <td>NaN</td>\n",
       "      <td>profile pics/60147.jpeg</td>\n",
       "      <td>3.0</td>\n",
       "      <td>0</td>\n",
       "    </tr>\n",
       "    <tr>\n",
       "      <th>2</th>\n",
       "      <td>I’d like to win!</td>\n",
       "      <td>Chad Boyce</td>\n",
       "      <td>djsnipa1</td>\n",
       "      <td>Multimedia Developer, Graphic Designer, DJ, an...</td>\n",
       "      <td>NaN</td>\n",
       "      <td>profile pics/60147.jpeg</td>\n",
       "      <td>3.0</td>\n",
       "      <td>0</td>\n",
       "    </tr>\n",
       "    <tr>\n",
       "      <th>3</th>\n",
       "      <td></td>\n",
       "      <td>Chad Boyce</td>\n",
       "      <td>djsnipa1</td>\n",
       "      <td>Multimedia Developer, Graphic Designer, DJ, an...</td>\n",
       "      <td>NaN</td>\n",
       "      <td>profile pics/60147.jpeg</td>\n",
       "      <td>3.0</td>\n",
       "      <td>0</td>\n",
       "    </tr>\n",
       "    <tr>\n",
       "      <th>4</th>\n",
       "      <td>Now Im heading to B1000th Floor! #quickrogue</td>\n",
       "      <td>Chad Boyce</td>\n",
       "      <td>djsnipa1</td>\n",
       "      <td>Multimedia Developer, Graphic Designer, DJ, an...</td>\n",
       "      <td>NaN</td>\n",
       "      <td>profile pics/60147.jpeg</td>\n",
       "      <td>3.0</td>\n",
       "      <td>0</td>\n",
       "    </tr>\n",
       "    <tr>\n",
       "      <th>...</th>\n",
       "      <td>...</td>\n",
       "      <td>...</td>\n",
       "      <td>...</td>\n",
       "      <td>...</td>\n",
       "      <td>...</td>\n",
       "      <td>...</td>\n",
       "      <td>...</td>\n",
       "      <td>...</td>\n",
       "    </tr>\n",
       "    <tr>\n",
       "      <th>313398</th>\n",
       "      <td>Im raising money for Help Feed the Homeless. C...</td>\n",
       "      <td>Joseph Aragunde</td>\n",
       "      <td>thomasaragu</td>\n",
       "      <td>General Contractor plus construction worker go...</td>\n",
       "      <td>NaN</td>\n",
       "      <td>profile pics/64221.jpeg</td>\n",
       "      <td>3.0</td>\n",
       "      <td>0</td>\n",
       "    </tr>\n",
       "    <tr>\n",
       "      <th>313399</th>\n",
       "      <td>Im raising money for Help Feed the Homeless. C...</td>\n",
       "      <td>Joseph Aragunde</td>\n",
       "      <td>thomasaragu</td>\n",
       "      <td>General Contractor plus construction worker go...</td>\n",
       "      <td>NaN</td>\n",
       "      <td>profile pics/64221.jpeg</td>\n",
       "      <td>3.0</td>\n",
       "      <td>0</td>\n",
       "    </tr>\n",
       "    <tr>\n",
       "      <th>313400</th>\n",
       "      <td>Im raising money for Help Feed the Homeless. C...</td>\n",
       "      <td>Joseph Aragunde</td>\n",
       "      <td>thomasaragu</td>\n",
       "      <td>General Contractor plus construction worker go...</td>\n",
       "      <td>NaN</td>\n",
       "      <td>profile pics/64221.jpeg</td>\n",
       "      <td>3.0</td>\n",
       "      <td>0</td>\n",
       "    </tr>\n",
       "    <tr>\n",
       "      <th>313401</th>\n",
       "      <td>Im raising money for Help Feed the Homeless. C...</td>\n",
       "      <td>Joseph Aragunde</td>\n",
       "      <td>thomasaragu</td>\n",
       "      <td>General Contractor plus construction worker go...</td>\n",
       "      <td>NaN</td>\n",
       "      <td>profile pics/64221.jpeg</td>\n",
       "      <td>3.0</td>\n",
       "      <td>0</td>\n",
       "    </tr>\n",
       "    <tr>\n",
       "      <th>313402</th>\n",
       "      <td>Im raising money for Help Feed the Homeless. C...</td>\n",
       "      <td>Joseph Aragunde</td>\n",
       "      <td>thomasaragu</td>\n",
       "      <td>General Contractor plus construction worker go...</td>\n",
       "      <td>NaN</td>\n",
       "      <td>profile pics/64221.jpeg</td>\n",
       "      <td>3.0</td>\n",
       "      <td>0</td>\n",
       "    </tr>\n",
       "  </tbody>\n",
       "</table>\n",
       "<p>299287 rows × 8 columns</p>\n",
       "</div>"
      ],
      "text/plain": [
       "                                                    Tweet             Name  \\\n",
       "0       YKAR, a futuristic sans serif font by   #Freeb...       Chad Boyce   \n",
       "1        Who can I contact about the very rude and poo...       Chad Boyce   \n",
       "2                                        I’d like to win!       Chad Boyce   \n",
       "3                                                               Chad Boyce   \n",
       "4            Now Im heading to B1000th Floor! #quickrogue       Chad Boyce   \n",
       "...                                                   ...              ...   \n",
       "313398  Im raising money for Help Feed the Homeless. C...  Joseph Aragunde   \n",
       "313399  Im raising money for Help Feed the Homeless. C...  Joseph Aragunde   \n",
       "313400  Im raising money for Help Feed the Homeless. C...  Joseph Aragunde   \n",
       "313401  Im raising money for Help Feed the Homeless. C...  Joseph Aragunde   \n",
       "313402  Im raising money for Help Feed the Homeless. C...  Joseph Aragunde   \n",
       "\n",
       "        Screen Name                                        Description  Lang  \\\n",
       "0          djsnipa1  Multimedia Developer, Graphic Designer, DJ, an...   NaN   \n",
       "1          djsnipa1  Multimedia Developer, Graphic Designer, DJ, an...   NaN   \n",
       "2          djsnipa1  Multimedia Developer, Graphic Designer, DJ, an...   NaN   \n",
       "3          djsnipa1  Multimedia Developer, Graphic Designer, DJ, an...   NaN   \n",
       "4          djsnipa1  Multimedia Developer, Graphic Designer, DJ, an...   NaN   \n",
       "...             ...                                                ...   ...   \n",
       "313398  thomasaragu  General Contractor plus construction worker go...   NaN   \n",
       "313399  thomasaragu  General Contractor plus construction worker go...   NaN   \n",
       "313400  thomasaragu  General Contractor plus construction worker go...   NaN   \n",
       "313401  thomasaragu  General Contractor plus construction worker go...   NaN   \n",
       "313402  thomasaragu  General Contractor plus construction worker go...   NaN   \n",
       "\n",
       "                       img_path  Race  Under 21  \n",
       "0       profile pics/60147.jpeg   3.0         0  \n",
       "1       profile pics/60147.jpeg   3.0         0  \n",
       "2       profile pics/60147.jpeg   3.0         0  \n",
       "3       profile pics/60147.jpeg   3.0         0  \n",
       "4       profile pics/60147.jpeg   3.0         0  \n",
       "...                         ...   ...       ...  \n",
       "313398  profile pics/64221.jpeg   3.0         0  \n",
       "313399  profile pics/64221.jpeg   3.0         0  \n",
       "313400  profile pics/64221.jpeg   3.0         0  \n",
       "313401  profile pics/64221.jpeg   3.0         0  \n",
       "313402  profile pics/64221.jpeg   3.0         0  \n",
       "\n",
       "[299287 rows x 8 columns]"
      ]
     },
     "execution_count": 319,
     "metadata": {},
     "output_type": "execute_result"
    }
   ],
   "source": [
    "regexMap={r\"<[\\w'/'\\s]*>\": \"\",r\"[\\'\\\"\\-]+\": \"\",r\"@[\\w]+\":\"\",r\"http\\S+\" : \"\"}\n",
    "def preprocess(datainput):\n",
    "    t=datainput\n",
    "    for regx in regexMap.keys():\n",
    "        try:\n",
    "            t = re.sub(regx, regexMap[regx], t)\n",
    "        except TypeError:\n",
    "            continue\n",
    "    return t\n",
    "twitter[\"Tweet\"] = twitter[\"Tweet\"].apply(preprocess)\n",
    "twitter"
   ]
  },
  {
   "cell_type": "code",
   "execution_count": 320,
   "id": "1bbe8b08-c47d-452b-98dd-8d53195712d2",
   "metadata": {},
   "outputs": [],
   "source": [
    "names = twitter[\"Name\"].unique()\n",
    "labels = []\n",
    "tweet_dict = {}\n",
    "for name in names:\n",
    "    tweet_dict[name] = twitter[twitter[\"Name\"] == name][\"Tweet\"].tolist()"
   ]
  },
  {
   "cell_type": "code",
   "execution_count": 332,
   "id": "8de3aa26-094a-410b-a78f-19089c05139d",
   "metadata": {},
   "outputs": [],
   "source": [
    "label_dict = twitter.set_index(\"Name\").to_dict()[\"Race\"]"
   ]
  },
  {
   "cell_type": "code",
   "execution_count": 333,
   "id": "95682a85",
   "metadata": {},
   "outputs": [
    {
     "data": {
      "text/plain": [
       "(3056, 3056, 3056)"
      ]
     },
     "execution_count": 333,
     "metadata": {},
     "output_type": "execute_result"
    }
   ],
   "source": [
    "concatenated_tweets = []\n",
    "labels = []\n",
    "for name in names:\n",
    "    concat = ' '.join([str(x) for x in tweet_dict[name]])\n",
    "    concatenated_tweets.append(concat)\n",
    "    labels.append(label_dict[name])\n",
    "\n",
    "concat_df = pd.DataFrame({\"User\": np.array(names), \"Tweet\": concatenated_tweets, \"Race\": np.array(labels)})\n",
    "len(names), len(concatenated_tweets), len(labels)"
   ]
  },
  {
   "cell_type": "code",
   "execution_count": 334,
   "id": "3bd764aa",
   "metadata": {
    "scrolled": true
   },
   "outputs": [
    {
     "data": {
      "text/plain": [
       "3.0    2475\n",
       "0.0     298\n",
       "1.0     181\n",
       "2.0     102\n",
       "Name: Race, dtype: int64"
      ]
     },
     "execution_count": 334,
     "metadata": {},
     "output_type": "execute_result"
    }
   ],
   "source": [
    "concat_df[\"Race\"].value_counts()"
   ]
  },
  {
   "cell_type": "code",
   "execution_count": 374,
   "id": "a18c396d",
   "metadata": {},
   "outputs": [
    {
     "data": {
      "text/plain": [
       "((2444, 5000), (612, 5000))"
      ]
     },
     "execution_count": 374,
     "metadata": {},
     "output_type": "execute_result"
    }
   ],
   "source": [
    "from sklearn.feature_extraction.text import TfidfVectorizer\n",
    "from sklearn.model_selection import train_test_split\n",
    "tfidf = TfidfVectorizer(stop_words='english', max_features=5000)\n",
    "\n",
    "x_train, x_test, y_train, y_test = train_test_split(concat_df[\"Tweet\"], concat_df[\"Race\"], test_size=.2)\n",
    "tfidf.fit(x_train)\n",
    "x_train = tfidf.transform(x_train)\n",
    "x_test = tfidf.transform(x_test)\n",
    "\n",
    "x_train.shape, x_test.shape"
   ]
  },
  {
   "cell_type": "code",
   "execution_count": 375,
   "id": "e479b01b",
   "metadata": {},
   "outputs": [
    {
     "data": {
      "text/plain": [
       "LogisticRegression(class_weight='balanced', max_iter=1000000)"
      ]
     },
     "execution_count": 375,
     "metadata": {},
     "output_type": "execute_result"
    }
   ],
   "source": [
    "from sklearn.linear_model import LogisticRegression\n",
    "log = LogisticRegression(class_weight = 'balanced', max_iter = 10 ** 6)\n",
    "log.fit(x_train, y_train)"
   ]
  },
  {
   "cell_type": "code",
   "execution_count": 376,
   "id": "5d8a339f",
   "metadata": {},
   "outputs": [
    {
     "name": "stdout",
     "output_type": "stream",
     "text": [
      "0.7532679738562091\n",
      "              precision    recall  f1-score   support\n",
      "\n",
      "         0.0       0.46      0.50      0.48        68\n",
      "         1.0       0.16      0.16      0.16        38\n",
      "         2.0       0.17      0.21      0.19        19\n",
      "         3.0       0.87      0.86      0.86       487\n",
      "\n",
      "    accuracy                           0.75       612\n",
      "   macro avg       0.42      0.43      0.42       612\n",
      "weighted avg       0.76      0.75      0.76       612\n",
      "\n"
     ]
    }
   ],
   "source": [
    "y_pred = log.predict(x_test)\n",
    "print(accuracy_score(y_pred, y_test))\n",
    "print(classification_report(y_test, y_pred))"
   ]
  },
  {
   "cell_type": "code",
   "execution_count": 377,
   "id": "8c28e7e8",
   "metadata": {},
   "outputs": [
    {
     "name": "stdout",
     "output_type": "stream",
     "text": [
      "[[0.45945946 0.12162162 0.01351351 0.40540541]\n",
      " [0.05405405 0.16216216 0.08108108 0.7027027 ]\n",
      " [0.08695652 0.13043478 0.17391304 0.60869565]\n",
      " [0.06276151 0.041841   0.02301255 0.87238494]]\n"
     ]
    }
   ],
   "source": [
    "print(confusion_matrix(y_pred, y_test, normalize='true'))"
   ]
  },
  {
   "cell_type": "code",
   "execution_count": 193,
   "id": "9bb6f91c",
   "metadata": {},
   "outputs": [
    {
     "data": {
      "text/plain": [
       "4.0    3184\n",
       "1.0     374\n",
       "2.0     241\n",
       "5.0     153\n",
       "3.0     140\n",
       "Name: race, dtype: int64"
      ]
     },
     "execution_count": 193,
     "metadata": {},
     "output_type": "execute_result"
    }
   ],
   "source": [
    "labeled_users = pd.read_csv(\"labeled_users.csv\")\n",
    "labeled_users[\"race\"].value_counts()"
   ]
  },
  {
   "cell_type": "code",
   "execution_count": 184,
   "id": "46fa8aa6",
   "metadata": {},
   "outputs": [],
   "source": [
    "x = concat_df\n",
    "y = concat_df['Race']"
   ]
  },
  {
   "cell_type": "code",
   "execution_count": 185,
   "id": "38917036",
   "metadata": {},
   "outputs": [
    {
     "data": {
      "text/html": [
       "<div>\n",
       "<style scoped>\n",
       "    .dataframe tbody tr th:only-of-type {\n",
       "        vertical-align: middle;\n",
       "    }\n",
       "\n",
       "    .dataframe tbody tr th {\n",
       "        vertical-align: top;\n",
       "    }\n",
       "\n",
       "    .dataframe thead th {\n",
       "        text-align: right;\n",
       "    }\n",
       "</style>\n",
       "<table border=\"1\" class=\"dataframe\">\n",
       "  <thead>\n",
       "    <tr style=\"text-align: right;\">\n",
       "      <th></th>\n",
       "      <th>User</th>\n",
       "      <th>Tweet</th>\n",
       "    </tr>\n",
       "  </thead>\n",
       "  <tbody>\n",
       "    <tr>\n",
       "      <th>0</th>\n",
       "      <td>Chad Boyce</td>\n",
       "      <td>YKAR, a futuristic sans serif font by   #Freeb...</td>\n",
       "    </tr>\n",
       "    <tr>\n",
       "      <th>1</th>\n",
       "      <td>Tomato 😷</td>\n",
       "      <td>In other words, it’s good news about the vacci...</td>\n",
       "    </tr>\n",
       "    <tr>\n",
       "      <th>2</th>\n",
       "      <td>parker</td>\n",
       "      <td>❤️ 🙏  bonk #FFXIV400kSweepstakes Nice  Ed McB...</td>\n",
       "    </tr>\n",
       "    <tr>\n",
       "      <th>3</th>\n",
       "      <td>Kevin Jones</td>\n",
       "      <td>How about pizza dipped in water 🤦🏻‍♂️Day 21 o...</td>\n",
       "    </tr>\n",
       "    <tr>\n",
       "      <th>4</th>\n",
       "      <td>Joe Duhamel</td>\n",
       "      <td>\\n1) Hire better programmers\\n2) Your websit...</td>\n",
       "    </tr>\n",
       "    <tr>\n",
       "      <th>...</th>\n",
       "      <td>...</td>\n",
       "      <td>...</td>\n",
       "    </tr>\n",
       "    <tr>\n",
       "      <th>3051</th>\n",
       "      <td>Shortie</td>\n",
       "      <td>. on #Periscope: Im back someone called hungry...</td>\n",
       "    </tr>\n",
       "    <tr>\n",
       "      <th>3052</th>\n",
       "      <td>Ben</td>\n",
       "      <td></td>\n",
       "    </tr>\n",
       "    <tr>\n",
       "      <th>3053</th>\n",
       "      <td>Meagan Lovely</td>\n",
       "      <td>Womens Guide to Burn Fat and Build Muscle: The...</td>\n",
       "    </tr>\n",
       "    <tr>\n",
       "      <th>3054</th>\n",
       "      <td>Megan Schuitema</td>\n",
       "      <td>Even though school is cancelled and grades do...</td>\n",
       "    </tr>\n",
       "    <tr>\n",
       "      <th>3055</th>\n",
       "      <td>Joseph Aragunde</td>\n",
       "      <td>\\nAnd what are you a drunk Hillary supporter ...</td>\n",
       "    </tr>\n",
       "  </tbody>\n",
       "</table>\n",
       "<p>3056 rows × 2 columns</p>\n",
       "</div>"
      ],
      "text/plain": [
       "                 User                                              Tweet\n",
       "0          Chad Boyce  YKAR, a futuristic sans serif font by   #Freeb...\n",
       "1            Tomato 😷  In other words, it’s good news about the vacci...\n",
       "2              parker   ❤️ 🙏  bonk #FFXIV400kSweepstakes Nice  Ed McB...\n",
       "3         Kevin Jones   How about pizza dipped in water 🤦🏻‍♂️Day 21 o...\n",
       "4         Joe Duhamel    \\n1) Hire better programmers\\n2) Your websit...\n",
       "...               ...                                                ...\n",
       "3051          Shortie  . on #Periscope: Im back someone called hungry...\n",
       "3052              Ben                                                   \n",
       "3053    Meagan Lovely  Womens Guide to Burn Fat and Build Muscle: The...\n",
       "3054  Megan Schuitema   Even though school is cancelled and grades do...\n",
       "3055  Joseph Aragunde   \\nAnd what are you a drunk Hillary supporter ...\n",
       "\n",
       "[3056 rows x 2 columns]"
      ]
     },
     "execution_count": 185,
     "metadata": {},
     "output_type": "execute_result"
    }
   ],
   "source": [
    "x.drop('Race',inplace=True,axis=1)\n",
    "x"
   ]
  },
  {
   "cell_type": "code",
   "execution_count": 188,
   "id": "f9faa87d",
   "metadata": {},
   "outputs": [
    {
     "name": "stdout",
     "output_type": "stream",
     "text": [
      "Original dataset shape Counter({3.0: 2475, 0.0: 298, 1.0: 181, 2.0: 102})\n",
      "Resample dataset shape Counter({3.0: 2475, 2.0: 2475, 0.0: 2475, 1.0: 2475})\n"
     ]
    }
   ],
   "source": [
    "#!pip install imblearn\n",
    "from imblearn.over_sampling import RandomOverSampler\n",
    "from collections import Counter\n",
    "\n",
    "ros = RandomOverSampler(random_state=42)\n",
    "\n",
    "x_ros, y_ros = ros.fit_resample(x, y)\n",
    "\n",
    "print('Original dataset shape', Counter(y))\n",
    "print('Resample dataset shape', Counter(y_ros))"
   ]
  },
  {
   "cell_type": "code",
   "execution_count": 189,
   "id": "c8eeeccc",
   "metadata": {},
   "outputs": [
    {
     "data": {
      "text/html": [
       "<div>\n",
       "<style scoped>\n",
       "    .dataframe tbody tr th:only-of-type {\n",
       "        vertical-align: middle;\n",
       "    }\n",
       "\n",
       "    .dataframe tbody tr th {\n",
       "        vertical-align: top;\n",
       "    }\n",
       "\n",
       "    .dataframe thead th {\n",
       "        text-align: right;\n",
       "    }\n",
       "</style>\n",
       "<table border=\"1\" class=\"dataframe\">\n",
       "  <thead>\n",
       "    <tr style=\"text-align: right;\">\n",
       "      <th></th>\n",
       "      <th>User</th>\n",
       "      <th>Tweet</th>\n",
       "      <th>Race</th>\n",
       "    </tr>\n",
       "  </thead>\n",
       "  <tbody>\n",
       "    <tr>\n",
       "      <th>0</th>\n",
       "      <td>Chad Boyce</td>\n",
       "      <td>YKAR, a futuristic sans serif font by   #Freeb...</td>\n",
       "      <td>3.0</td>\n",
       "    </tr>\n",
       "    <tr>\n",
       "      <th>1</th>\n",
       "      <td>Tomato 😷</td>\n",
       "      <td>In other words, it’s good news about the vacci...</td>\n",
       "      <td>3.0</td>\n",
       "    </tr>\n",
       "    <tr>\n",
       "      <th>2</th>\n",
       "      <td>parker</td>\n",
       "      <td>❤️ 🙏  bonk #FFXIV400kSweepstakes Nice  Ed McB...</td>\n",
       "      <td>3.0</td>\n",
       "    </tr>\n",
       "    <tr>\n",
       "      <th>3</th>\n",
       "      <td>Kevin Jones</td>\n",
       "      <td>How about pizza dipped in water 🤦🏻‍♂️Day 21 o...</td>\n",
       "      <td>3.0</td>\n",
       "    </tr>\n",
       "    <tr>\n",
       "      <th>4</th>\n",
       "      <td>Joe Duhamel</td>\n",
       "      <td>\\n1) Hire better programmers\\n2) Your websit...</td>\n",
       "      <td>3.0</td>\n",
       "    </tr>\n",
       "    <tr>\n",
       "      <th>...</th>\n",
       "      <td>...</td>\n",
       "      <td>...</td>\n",
       "      <td>...</td>\n",
       "    </tr>\n",
       "    <tr>\n",
       "      <th>9895</th>\n",
       "      <td>Abhishek Chaliha</td>\n",
       "      <td>The four cylinder WagonR makes a comeback in t...</td>\n",
       "      <td>2.0</td>\n",
       "    </tr>\n",
       "    <tr>\n",
       "      <th>9896</th>\n",
       "      <td>Devendra</td>\n",
       "      <td>I think you mean...  Bruh I deleted all that...</td>\n",
       "      <td>2.0</td>\n",
       "    </tr>\n",
       "    <tr>\n",
       "      <th>9897</th>\n",
       "      <td>díẹ̀kọláàánútímorígba</td>\n",
       "      <td>Ọmọ this album that Adekunle Gold is cooking i...</td>\n",
       "      <td>2.0</td>\n",
       "    </tr>\n",
       "    <tr>\n",
       "      <th>9898</th>\n",
       "      <td>jun 💌</td>\n",
       "      <td>*grapples the baki* DOES ANYONE HAVE THAT ONE ...</td>\n",
       "      <td>2.0</td>\n",
       "    </tr>\n",
       "    <tr>\n",
       "      <th>9899</th>\n",
       "      <td>Cdr S Krishna Kumar</td>\n",
       "      <td>children are always the asset of the country....</td>\n",
       "      <td>2.0</td>\n",
       "    </tr>\n",
       "  </tbody>\n",
       "</table>\n",
       "<p>9900 rows × 3 columns</p>\n",
       "</div>"
      ],
      "text/plain": [
       "                       User  \\\n",
       "0                Chad Boyce   \n",
       "1                  Tomato 😷   \n",
       "2                    parker   \n",
       "3               Kevin Jones   \n",
       "4               Joe Duhamel   \n",
       "...                     ...   \n",
       "9895       Abhishek Chaliha   \n",
       "9896               Devendra   \n",
       "9897  díẹ̀kọláàánútímorígba   \n",
       "9898                  jun 💌   \n",
       "9899    Cdr S Krishna Kumar   \n",
       "\n",
       "                                                  Tweet  Race  \n",
       "0     YKAR, a futuristic sans serif font by   #Freeb...   3.0  \n",
       "1     In other words, it’s good news about the vacci...   3.0  \n",
       "2      ❤️ 🙏  bonk #FFXIV400kSweepstakes Nice  Ed McB...   3.0  \n",
       "3      How about pizza dipped in water 🤦🏻‍♂️Day 21 o...   3.0  \n",
       "4       \\n1) Hire better programmers\\n2) Your websit...   3.0  \n",
       "...                                                 ...   ...  \n",
       "9895  The four cylinder WagonR makes a comeback in t...   2.0  \n",
       "9896    I think you mean...  Bruh I deleted all that...   2.0  \n",
       "9897  Ọmọ this album that Adekunle Gold is cooking i...   2.0  \n",
       "9898  *grapples the baki* DOES ANYONE HAVE THAT ONE ...   2.0  \n",
       "9899   children are always the asset of the country....   2.0  \n",
       "\n",
       "[9900 rows x 3 columns]"
      ]
     },
     "execution_count": 189,
     "metadata": {},
     "output_type": "execute_result"
    }
   ],
   "source": [
    "df = x_ros\n",
    "df['Race'] = y_ros\n",
    "df"
   ]
  },
  {
   "cell_type": "code",
   "execution_count": 84,
   "id": "fdfca2b6",
   "metadata": {
    "scrolled": true
   },
   "outputs": [
    {
     "name": "stdout",
     "output_type": "stream",
     "text": [
      "Model: \"model_10\"\n",
      "__________________________________________________________________________________________________\n",
      "Layer (type)                    Output Shape         Param #     Connected to                     \n",
      "==================================================================================================\n",
      "input_12 (InputLayer)           [(None,)]            0                                            \n",
      "__________________________________________________________________________________________________\n",
      "keras_layer_22 (KerasLayer)     {'input_word_ids': ( 0           input_12[0][0]                   \n",
      "__________________________________________________________________________________________________\n",
      "keras_layer_23 (KerasLayer)     {'default': (None, 7 109482241   keras_layer_22[0][0]             \n",
      "                                                                 keras_layer_22[0][1]             \n",
      "                                                                 keras_layer_22[0][2]             \n",
      "__________________________________________________________________________________________________\n",
      "dense_15 (Dense)                (None, 4)            3076        keras_layer_23[0][13]            \n",
      "==================================================================================================\n",
      "Total params: 109,485,317\n",
      "Trainable params: 3,076\n",
      "Non-trainable params: 109,482,241\n",
      "__________________________________________________________________________________________________\n"
     ]
    }
   ],
   "source": [
    "def constructModel():\n",
    "    bert_preprocess = hub.KerasLayer(\"https://tfhub.dev/tensorflow/bert_en_uncased_preprocess/3\")\n",
    "    bert_encoder = hub.KerasLayer(\"https://tfhub.dev/tensorflow/bert_en_uncased_L-12_H-768_A-12/4\")\n",
    "    text_input = keras.layers.Input(shape=(), dtype=tf.string)\n",
    "    preprocessed_text = bert_preprocess(text_input)\n",
    "    outputs = bert_encoder(preprocessed_text)\n",
    "\n",
    "    dense = keras.layers.Dense(4, activation='softmax')(outputs[\"pooled_output\"])\n",
    "\n",
    "    model = keras.Model(inputs=[text_input], outputs=[dense])\n",
    "    model.compile(optimizer='adam', loss = 'sparse_categorical_crossentropy', metrics = ['accuracy'])\n",
    "    model.summary()\n",
    "    return model\n",
    "\n",
    "model = constructModel()"
   ]
  },
  {
   "cell_type": "code",
   "execution_count": 191,
   "id": "5e804f33",
   "metadata": {},
   "outputs": [
    {
     "name": "stdout",
     "output_type": "stream",
     "text": [
      "Fold 1:\n",
      "\n",
      "Epoch 1/5\n",
      "77/77 [==============================] - 23s 303ms/step - loss: 0.9220 - accuracy: 0.7520\n",
      "Epoch 2/5\n",
      "77/77 [==============================] - 23s 302ms/step - loss: 0.6647 - accuracy: 0.8024\n",
      "Epoch 3/5\n",
      "77/77 [==============================] - 23s 304ms/step - loss: 0.6572 - accuracy: 0.8040\n",
      "Epoch 4/5\n",
      "77/77 [==============================] - 23s 304ms/step - loss: 0.6583 - accuracy: 0.8048\n",
      "Epoch 5/5\n",
      "77/77 [==============================] - 23s 302ms/step - loss: 0.6577 - accuracy: 0.8052\n",
      "Accuracy:  0.8316993464052288\n",
      "\n",
      "              precision    recall  f1-score   support\n",
      "\n",
      "         0.0       0.00      0.00      0.00        52\n",
      "         1.0       0.00      0.00      0.00        36\n",
      "         2.0       0.00      0.00      0.00        15\n",
      "         3.0       0.83      1.00      0.91       509\n",
      "\n",
      "    accuracy                           0.83       612\n",
      "   macro avg       0.21      0.25      0.23       612\n",
      "weighted avg       0.69      0.83      0.76       612\n",
      "\n",
      "\n",
      "[[0. 0. 0. 1.]\n",
      " [0. 0. 0. 1.]\n",
      " [0. 0. 0. 1.]\n",
      " [0. 0. 0. 1.]]\n",
      "\n",
      "Fold 2:\n",
      "\n",
      "Epoch 1/5\n"
     ]
    },
    {
     "name": "stderr",
     "output_type": "stream",
     "text": [
      "/share/pkg.7/python3/3.8.10/install/lib/python3.8/site-packages/sklearn/metrics/_classification.py:1248: UndefinedMetricWarning: Precision and F-score are ill-defined and being set to 0.0 in labels with no predicted samples. Use `zero_division` parameter to control this behavior.\n",
      "  _warn_prf(average, modifier, msg_start, len(result))\n",
      "/share/pkg.7/python3/3.8.10/install/lib/python3.8/site-packages/sklearn/metrics/_classification.py:1248: UndefinedMetricWarning: Precision and F-score are ill-defined and being set to 0.0 in labels with no predicted samples. Use `zero_division` parameter to control this behavior.\n",
      "  _warn_prf(average, modifier, msg_start, len(result))\n",
      "/share/pkg.7/python3/3.8.10/install/lib/python3.8/site-packages/sklearn/metrics/_classification.py:1248: UndefinedMetricWarning: Precision and F-score are ill-defined and being set to 0.0 in labels with no predicted samples. Use `zero_division` parameter to control this behavior.\n",
      "  _warn_prf(average, modifier, msg_start, len(result))\n"
     ]
    },
    {
     "name": "stdout",
     "output_type": "stream",
     "text": [
      "77/77 [==============================] - 23s 304ms/step - loss: 0.6356 - accuracy: 0.8155\n",
      "Epoch 2/5\n",
      "77/77 [==============================] - 23s 303ms/step - loss: 0.6330 - accuracy: 0.8164\n",
      "Epoch 3/5\n",
      "22/77 [=======>......................] - ETA: 16s - loss: 0.6699 - accuracy: 0.8026"
     ]
    },
    {
     "ename": "KeyboardInterrupt",
     "evalue": "",
     "output_type": "error",
     "traceback": [
      "\u001b[0;31m---------------------------------------------------------------------------\u001b[0m",
      "\u001b[0;31mKeyboardInterrupt\u001b[0m                         Traceback (most recent call last)",
      "\u001b[0;32m<ipython-input-191-062b6bfc61e4>\u001b[0m in \u001b[0;36m<module>\u001b[0;34m\u001b[0m\n\u001b[1;32m     15\u001b[0m     \u001b[0mx_test\u001b[0m\u001b[0;34m,\u001b[0m \u001b[0my_test\u001b[0m \u001b[0;34m=\u001b[0m \u001b[0mtest_df\u001b[0m\u001b[0;34m[\u001b[0m\u001b[0;34m\"Tweet\"\u001b[0m\u001b[0;34m]\u001b[0m\u001b[0;34m,\u001b[0m \u001b[0mtest_df\u001b[0m\u001b[0;34m[\u001b[0m\u001b[0;34m\"Race\"\u001b[0m\u001b[0;34m]\u001b[0m\u001b[0;34m\u001b[0m\u001b[0;34m\u001b[0m\u001b[0m\n\u001b[1;32m     16\u001b[0m \u001b[0;34m\u001b[0m\u001b[0m\n\u001b[0;32m---> 17\u001b[0;31m     \u001b[0mmodel\u001b[0m\u001b[0;34m.\u001b[0m\u001b[0mfit\u001b[0m\u001b[0;34m(\u001b[0m\u001b[0mx_train\u001b[0m\u001b[0;34m,\u001b[0m \u001b[0my_train\u001b[0m\u001b[0;34m,\u001b[0m \u001b[0mepochs\u001b[0m \u001b[0;34m=\u001b[0m \u001b[0;36m5\u001b[0m\u001b[0;34m)\u001b[0m\u001b[0;34m\u001b[0m\u001b[0;34m\u001b[0m\u001b[0m\n\u001b[0m\u001b[1;32m     18\u001b[0m     \u001b[0my_pred\u001b[0m \u001b[0;34m=\u001b[0m \u001b[0mnp\u001b[0m\u001b[0;34m.\u001b[0m\u001b[0margmax\u001b[0m\u001b[0;34m(\u001b[0m\u001b[0mmodel\u001b[0m\u001b[0;34m.\u001b[0m\u001b[0mpredict\u001b[0m\u001b[0;34m(\u001b[0m\u001b[0mx_test\u001b[0m\u001b[0;34m)\u001b[0m\u001b[0;34m,\u001b[0m \u001b[0maxis\u001b[0m\u001b[0;34m=\u001b[0m\u001b[0;36m1\u001b[0m\u001b[0;34m)\u001b[0m\u001b[0;34m\u001b[0m\u001b[0;34m\u001b[0m\u001b[0m\n\u001b[1;32m     19\u001b[0m     \u001b[0macc\u001b[0m \u001b[0;34m=\u001b[0m \u001b[0maccuracy_score\u001b[0m\u001b[0;34m(\u001b[0m\u001b[0my_test\u001b[0m\u001b[0;34m,\u001b[0m \u001b[0my_pred\u001b[0m\u001b[0;34m)\u001b[0m\u001b[0;34m\u001b[0m\u001b[0;34m\u001b[0m\u001b[0m\n",
      "\u001b[0;32m/share/pkg.7/tensorflow/2.5.0/install/lib/SCC/../python3.8/site-packages/tensorflow/python/keras/engine/training.py\u001b[0m in \u001b[0;36mfit\u001b[0;34m(self, x, y, batch_size, epochs, verbose, callbacks, validation_split, validation_data, shuffle, class_weight, sample_weight, initial_epoch, steps_per_epoch, validation_steps, validation_batch_size, validation_freq, max_queue_size, workers, use_multiprocessing)\u001b[0m\n\u001b[1;32m   1181\u001b[0m                 _r=1):\n\u001b[1;32m   1182\u001b[0m               \u001b[0mcallbacks\u001b[0m\u001b[0;34m.\u001b[0m\u001b[0mon_train_batch_begin\u001b[0m\u001b[0;34m(\u001b[0m\u001b[0mstep\u001b[0m\u001b[0;34m)\u001b[0m\u001b[0;34m\u001b[0m\u001b[0;34m\u001b[0m\u001b[0m\n\u001b[0;32m-> 1183\u001b[0;31m               \u001b[0mtmp_logs\u001b[0m \u001b[0;34m=\u001b[0m \u001b[0mself\u001b[0m\u001b[0;34m.\u001b[0m\u001b[0mtrain_function\u001b[0m\u001b[0;34m(\u001b[0m\u001b[0miterator\u001b[0m\u001b[0;34m)\u001b[0m\u001b[0;34m\u001b[0m\u001b[0;34m\u001b[0m\u001b[0m\n\u001b[0m\u001b[1;32m   1184\u001b[0m               \u001b[0;32mif\u001b[0m \u001b[0mdata_handler\u001b[0m\u001b[0;34m.\u001b[0m\u001b[0mshould_sync\u001b[0m\u001b[0;34m:\u001b[0m\u001b[0;34m\u001b[0m\u001b[0;34m\u001b[0m\u001b[0m\n\u001b[1;32m   1185\u001b[0m                 \u001b[0mcontext\u001b[0m\u001b[0;34m.\u001b[0m\u001b[0masync_wait\u001b[0m\u001b[0;34m(\u001b[0m\u001b[0;34m)\u001b[0m\u001b[0;34m\u001b[0m\u001b[0;34m\u001b[0m\u001b[0m\n",
      "\u001b[0;32m/share/pkg.7/tensorflow/2.5.0/install/lib/SCC/../python3.8/site-packages/tensorflow/python/eager/def_function.py\u001b[0m in \u001b[0;36m__call__\u001b[0;34m(self, *args, **kwds)\u001b[0m\n\u001b[1;32m    887\u001b[0m \u001b[0;34m\u001b[0m\u001b[0m\n\u001b[1;32m    888\u001b[0m       \u001b[0;32mwith\u001b[0m \u001b[0mOptionalXlaContext\u001b[0m\u001b[0;34m(\u001b[0m\u001b[0mself\u001b[0m\u001b[0;34m.\u001b[0m\u001b[0m_jit_compile\u001b[0m\u001b[0;34m)\u001b[0m\u001b[0;34m:\u001b[0m\u001b[0;34m\u001b[0m\u001b[0;34m\u001b[0m\u001b[0m\n\u001b[0;32m--> 889\u001b[0;31m         \u001b[0mresult\u001b[0m \u001b[0;34m=\u001b[0m \u001b[0mself\u001b[0m\u001b[0;34m.\u001b[0m\u001b[0m_call\u001b[0m\u001b[0;34m(\u001b[0m\u001b[0;34m*\u001b[0m\u001b[0margs\u001b[0m\u001b[0;34m,\u001b[0m \u001b[0;34m**\u001b[0m\u001b[0mkwds\u001b[0m\u001b[0;34m)\u001b[0m\u001b[0;34m\u001b[0m\u001b[0;34m\u001b[0m\u001b[0m\n\u001b[0m\u001b[1;32m    890\u001b[0m \u001b[0;34m\u001b[0m\u001b[0m\n\u001b[1;32m    891\u001b[0m       \u001b[0mnew_tracing_count\u001b[0m \u001b[0;34m=\u001b[0m \u001b[0mself\u001b[0m\u001b[0;34m.\u001b[0m\u001b[0mexperimental_get_tracing_count\u001b[0m\u001b[0;34m(\u001b[0m\u001b[0;34m)\u001b[0m\u001b[0;34m\u001b[0m\u001b[0;34m\u001b[0m\u001b[0m\n",
      "\u001b[0;32m/share/pkg.7/tensorflow/2.5.0/install/lib/SCC/../python3.8/site-packages/tensorflow/python/eager/def_function.py\u001b[0m in \u001b[0;36m_call\u001b[0;34m(self, *args, **kwds)\u001b[0m\n\u001b[1;32m    915\u001b[0m       \u001b[0;31m# In this case we have created variables on the first call, so we run the\u001b[0m\u001b[0;34m\u001b[0m\u001b[0;34m\u001b[0m\u001b[0;34m\u001b[0m\u001b[0m\n\u001b[1;32m    916\u001b[0m       \u001b[0;31m# defunned version which is guaranteed to never create variables.\u001b[0m\u001b[0;34m\u001b[0m\u001b[0;34m\u001b[0m\u001b[0;34m\u001b[0m\u001b[0m\n\u001b[0;32m--> 917\u001b[0;31m       \u001b[0;32mreturn\u001b[0m \u001b[0mself\u001b[0m\u001b[0;34m.\u001b[0m\u001b[0m_stateless_fn\u001b[0m\u001b[0;34m(\u001b[0m\u001b[0;34m*\u001b[0m\u001b[0margs\u001b[0m\u001b[0;34m,\u001b[0m \u001b[0;34m**\u001b[0m\u001b[0mkwds\u001b[0m\u001b[0;34m)\u001b[0m  \u001b[0;31m# pylint: disable=not-callable\u001b[0m\u001b[0;34m\u001b[0m\u001b[0;34m\u001b[0m\u001b[0m\n\u001b[0m\u001b[1;32m    918\u001b[0m     \u001b[0;32melif\u001b[0m \u001b[0mself\u001b[0m\u001b[0;34m.\u001b[0m\u001b[0m_stateful_fn\u001b[0m \u001b[0;32mis\u001b[0m \u001b[0;32mnot\u001b[0m \u001b[0;32mNone\u001b[0m\u001b[0;34m:\u001b[0m\u001b[0;34m\u001b[0m\u001b[0;34m\u001b[0m\u001b[0m\n\u001b[1;32m    919\u001b[0m       \u001b[0;31m# Release the lock early so that multiple threads can perform the call\u001b[0m\u001b[0;34m\u001b[0m\u001b[0;34m\u001b[0m\u001b[0;34m\u001b[0m\u001b[0m\n",
      "\u001b[0;32m/share/pkg.7/tensorflow/2.5.0/install/lib/SCC/../python3.8/site-packages/tensorflow/python/eager/function.py\u001b[0m in \u001b[0;36m__call__\u001b[0;34m(self, *args, **kwargs)\u001b[0m\n\u001b[1;32m   3021\u001b[0m       (graph_function,\n\u001b[1;32m   3022\u001b[0m        filtered_flat_args) = self._maybe_define_function(args, kwargs)\n\u001b[0;32m-> 3023\u001b[0;31m     return graph_function._call_flat(\n\u001b[0m\u001b[1;32m   3024\u001b[0m         filtered_flat_args, captured_inputs=graph_function.captured_inputs)  # pylint: disable=protected-access\n\u001b[1;32m   3025\u001b[0m \u001b[0;34m\u001b[0m\u001b[0m\n",
      "\u001b[0;32m/share/pkg.7/tensorflow/2.5.0/install/lib/SCC/../python3.8/site-packages/tensorflow/python/eager/function.py\u001b[0m in \u001b[0;36m_call_flat\u001b[0;34m(self, args, captured_inputs, cancellation_manager)\u001b[0m\n\u001b[1;32m   1958\u001b[0m         and executing_eagerly):\n\u001b[1;32m   1959\u001b[0m       \u001b[0;31m# No tape is watching; skip to running the function.\u001b[0m\u001b[0;34m\u001b[0m\u001b[0;34m\u001b[0m\u001b[0;34m\u001b[0m\u001b[0m\n\u001b[0;32m-> 1960\u001b[0;31m       return self._build_call_outputs(self._inference_function.call(\n\u001b[0m\u001b[1;32m   1961\u001b[0m           ctx, args, cancellation_manager=cancellation_manager))\n\u001b[1;32m   1962\u001b[0m     forward_backward = self._select_forward_and_backward_functions(\n",
      "\u001b[0;32m/share/pkg.7/tensorflow/2.5.0/install/lib/SCC/../python3.8/site-packages/tensorflow/python/eager/function.py\u001b[0m in \u001b[0;36mcall\u001b[0;34m(self, ctx, args, cancellation_manager)\u001b[0m\n\u001b[1;32m    589\u001b[0m       \u001b[0;32mwith\u001b[0m \u001b[0m_InterpolateFunctionError\u001b[0m\u001b[0;34m(\u001b[0m\u001b[0mself\u001b[0m\u001b[0;34m)\u001b[0m\u001b[0;34m:\u001b[0m\u001b[0;34m\u001b[0m\u001b[0;34m\u001b[0m\u001b[0m\n\u001b[1;32m    590\u001b[0m         \u001b[0;32mif\u001b[0m \u001b[0mcancellation_manager\u001b[0m \u001b[0;32mis\u001b[0m \u001b[0;32mNone\u001b[0m\u001b[0;34m:\u001b[0m\u001b[0;34m\u001b[0m\u001b[0;34m\u001b[0m\u001b[0m\n\u001b[0;32m--> 591\u001b[0;31m           outputs = execute.execute(\n\u001b[0m\u001b[1;32m    592\u001b[0m               \u001b[0mstr\u001b[0m\u001b[0;34m(\u001b[0m\u001b[0mself\u001b[0m\u001b[0;34m.\u001b[0m\u001b[0msignature\u001b[0m\u001b[0;34m.\u001b[0m\u001b[0mname\u001b[0m\u001b[0;34m)\u001b[0m\u001b[0;34m,\u001b[0m\u001b[0;34m\u001b[0m\u001b[0;34m\u001b[0m\u001b[0m\n\u001b[1;32m    593\u001b[0m               \u001b[0mnum_outputs\u001b[0m\u001b[0;34m=\u001b[0m\u001b[0mself\u001b[0m\u001b[0;34m.\u001b[0m\u001b[0m_num_outputs\u001b[0m\u001b[0;34m,\u001b[0m\u001b[0;34m\u001b[0m\u001b[0;34m\u001b[0m\u001b[0m\n",
      "\u001b[0;32m/share/pkg.7/tensorflow/2.5.0/install/lib/SCC/../python3.8/site-packages/tensorflow/python/eager/execute.py\u001b[0m in \u001b[0;36mquick_execute\u001b[0;34m(op_name, num_outputs, inputs, attrs, ctx, name)\u001b[0m\n\u001b[1;32m     57\u001b[0m   \u001b[0;32mtry\u001b[0m\u001b[0;34m:\u001b[0m\u001b[0;34m\u001b[0m\u001b[0;34m\u001b[0m\u001b[0m\n\u001b[1;32m     58\u001b[0m     \u001b[0mctx\u001b[0m\u001b[0;34m.\u001b[0m\u001b[0mensure_initialized\u001b[0m\u001b[0;34m(\u001b[0m\u001b[0;34m)\u001b[0m\u001b[0;34m\u001b[0m\u001b[0;34m\u001b[0m\u001b[0m\n\u001b[0;32m---> 59\u001b[0;31m     tensors = pywrap_tfe.TFE_Py_Execute(ctx._handle, device_name, op_name,\n\u001b[0m\u001b[1;32m     60\u001b[0m                                         inputs, attrs, num_outputs)\n\u001b[1;32m     61\u001b[0m   \u001b[0;32mexcept\u001b[0m \u001b[0mcore\u001b[0m\u001b[0;34m.\u001b[0m\u001b[0m_NotOkStatusException\u001b[0m \u001b[0;32mas\u001b[0m \u001b[0me\u001b[0m\u001b[0;34m:\u001b[0m\u001b[0;34m\u001b[0m\u001b[0;34m\u001b[0m\u001b[0m\n",
      "\u001b[0;31mKeyboardInterrupt\u001b[0m: "
     ]
    }
   ],
   "source": [
    "'''\n",
    "accs = []\n",
    "reports = []\n",
    "confusion_matrices = []\n",
    "\n",
    "kf = KFold(n_splits = 5)\n",
    "i = 1\n",
    "for train, test in kf.split(concat_df):\n",
    "    \n",
    "    print(\"Fold %d:\" % i)\n",
    "    print()\n",
    "    i += 1\n",
    "    train_df = df.iloc[train]\n",
    "    test_df = df.iloc[test]\n",
    "    \n",
    "    x_train, y_train = train_df[\"Tweet\"], train_df[\"Race\"]\n",
    "    x_test, y_test = test_df[\"Tweet\"], test_df[\"Race\"]\n",
    "    \n",
    "    model.fit(x_train, y_train, epochs = 5)\n",
    "    y_pred = np.argmax(model.predict(x_test), axis=1)\n",
    "    acc = accuracy_score(y_test, y_pred)\n",
    "    accs.append(acc)\n",
    "    print(\"Accuracy: \", acc)\n",
    "    print()\n",
    "    report = classification_report(y_test, y_pred)\n",
    "    print(report)\n",
    "    print()\n",
    "    reports.append(report)\n",
    "    cm = confusion_matrix(y_test, y_pred, normalize='true')\n",
    "    print(cm)\n",
    "    print()\n",
    "    confusion_matrices.append(cm)\n",
    "'''"
   ]
  },
  {
   "cell_type": "code",
   "execution_count": 38,
   "id": "720356d2",
   "metadata": {},
   "outputs": [
    {
     "data": {
      "text/plain": [
       "0.8092203930126333"
      ]
     },
     "execution_count": 38,
     "metadata": {},
     "output_type": "execute_result"
    }
   ],
   "source": [
    "np.average(accs)"
   ]
  },
  {
   "cell_type": "code",
   "execution_count": 39,
   "id": "078cf900",
   "metadata": {},
   "outputs": [
    {
     "data": {
      "text/plain": [
       "array([[2.85714286e-03, 0.00000000e+00, 0.00000000e+00, 9.97142857e-01],\n",
       "       [0.00000000e+00, 0.00000000e+00, 0.00000000e+00, 1.00000000e+00],\n",
       "       [0.00000000e+00, 0.00000000e+00, 0.00000000e+00, 1.00000000e+00],\n",
       "       [7.93650794e-04, 0.00000000e+00, 3.96825397e-04, 9.98809524e-01]])"
      ]
     },
     "execution_count": 39,
     "metadata": {},
     "output_type": "execute_result"
    }
   ],
   "source": [
    "sum(confusion_matrices) / 5"
   ]
  }
 ],
 "metadata": {
  "kernelspec": {
   "display_name": "Python 3",
   "language": "python",
   "name": "python3"
  },
  "language_info": {
   "codemirror_mode": {
    "name": "ipython",
    "version": 3
   },
   "file_extension": ".py",
   "mimetype": "text/x-python",
   "name": "python",
   "nbconvert_exporter": "python",
   "pygments_lexer": "ipython3",
   "version": "3.8.10"
  }
 },
 "nbformat": 4,
 "nbformat_minor": 5
}
