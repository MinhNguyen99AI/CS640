{
 "cells": [
  {
   "cell_type": "code",
   "execution_count": null,
   "id": "570cf4b7-a675-4d93-859b-49587e94c0e5",
   "metadata": {},
   "outputs": [],
   "source": [
    "#!pip install tensorflow_text==2.5.0.\n",
    "import pandas as pd\n",
    "import numpy as np\n",
    "from sklearn.metrics import accuracy_score, classification_report, confusion_matrix\n",
    "from scipy.stats import mode\n",
    "import re\n",
    "import tensorflow as tf\n",
    "import tensorflow.keras as keras\n",
    "import tensorflow_hub as hub\n",
    "import tensorflow_text as text\n",
    "from sklearn.model_selection import KFold"
   ]
  },
  {
   "cell_type": "code",
   "execution_count": null,
   "id": "bf83866a",
   "metadata": {},
   "outputs": [],
   "source": [
    "twitter = pd.read_csv(\"labeled_tweet_table.csv\")\n",
    "twitter = twitter[twitter[\"Race\"].notna()]\n",
    "twitter = twitter[twitter[\"Race\"] != 5]\n",
    "twitter[\"Race\"] -= 1\n",
    "twitter[\"Race\"].value_counts()"
   ]
  },
  {
   "cell_type": "code",
   "execution_count": null,
   "id": "76afdc60-e714-46f9-8ea0-35dd0b91a6f0",
   "metadata": {},
   "outputs": [],
   "source": [
    "regexMap={r\"<[\\w'/'\\s]*>\": \"\",r\"[\\'\\\"\\-]+\": \"\",r\"@[\\w]+\":\"\",r\"http\\S+\" : \"\"}\n",
    "def preprocess(datainput):\n",
    "    t=datainput\n",
    "    for regx in regexMap.keys():\n",
    "        try:\n",
    "            t = re.sub(regx, regexMap[regx], t)\n",
    "        except TypeError:\n",
    "            continue\n",
    "    return t\n",
    "twitter[\"Tweet\"] = twitter[\"Tweet\"].apply(preprocess)\n",
    "twitter"
   ]
  },
  {
   "cell_type": "code",
   "execution_count": null,
   "id": "1bbe8b08-c47d-452b-98dd-8d53195712d2",
   "metadata": {},
   "outputs": [],
   "source": [
    "names = twitter[\"Name\"].unique()\n",
    "labels = []\n",
    "tweet_dict = {}\n",
    "for name in names:\n",
    "    tweet_dict[name] = twitter[twitter[\"Name\"] == name][\"Tweet\"].tolist()"
   ]
  },
  {
   "cell_type": "code",
   "execution_count": null,
   "id": "8de3aa26-094a-410b-a78f-19089c05139d",
   "metadata": {},
   "outputs": [],
   "source": [
    "label_dict = twitter.set_index(\"Name\").to_dict()[\"Race\"]"
   ]
  },
  {
   "cell_type": "code",
   "execution_count": null,
   "id": "95682a85",
   "metadata": {},
   "outputs": [],
   "source": [
    "concatenated_tweets = []\n",
    "labels = []\n",
    "for name in names:\n",
    "    concat = ''.join(str(tweet_dict[name]))\n",
    "    concatenated_tweets.append(concat)\n",
    "    labels.append(label_dict[name])\n",
    "\n",
    "concat_df = pd.DataFrame({\"User\": np.array(names), \"Tweet\": concatenated_tweets, \"Race\": np.array(labels)})\n",
    "len(names), len(concatenated_tweets), len(labels)"
   ]
  },
  {
   "cell_type": "code",
   "execution_count": null,
   "id": "3bd764aa",
   "metadata": {},
   "outputs": [],
   "source": [
    "concat_df"
   ]
  },
  {
   "cell_type": "code",
   "execution_count": null,
   "id": "fdfca2b6",
   "metadata": {},
   "outputs": [],
   "source": [
    "def constructModel():\n",
    "    bert_preprocess = hub.KerasLayer(\"https://tfhub.dev/tensorflow/bert_en_uncased_preprocess/3\")\n",
    "    bert_encoder = hub.KerasLayer(\"https://tfhub.dev/tensorflow/bert_en_uncased_L-12_H-768_A-12/4\")\n",
    "    text_input = keras.layers.Input(shape=(), dtype=tf.string)\n",
    "    preprocessed_text = bert_preprocess(text_input)\n",
    "    outputs = bert_encoder(preprocessed_text)\n",
    "    \n",
    "    hidden_layer = keras.layers.Dense(100, activation='relu')(outputs[\"pooled_output\"])\n",
    "\n",
    "    dense = keras.layers.Dense(4, activation='softmax')(hidden_layer)\n",
    "\n",
    "    model = keras.Model(inputs=[text_input], outputs=[dense])\n",
    "    model.compile(optimizer='adam', loss = 'sparse_categorical_crossentropy', metrics = ['accuracy'])\n",
    "    model.summary()\n",
    "    return model\n",
    "\n",
    "model = constructModel()"
   ]
  },
  {
   "cell_type": "code",
   "execution_count": null,
   "id": "5e804f33",
   "metadata": {},
   "outputs": [],
   "source": [
    "accs = []\n",
    "reports = []\n",
    "confusion_matrices = []\n",
    "\n",
    "kf = KFold(n_splits = 5)\n",
    "i = 1\n",
    "for train, test in kf.split(concat_df):\n",
    "    print(\"Fold %d:\" % i)\n",
    "    print()\n",
    "    i += 1\n",
    "    train_df = concat_df.iloc[train]\n",
    "    test_df = concat_df.iloc[test]\n",
    "    \n",
    "    x_train, y_train = train_df[\"Tweet\"], train_df[\"Race\"]\n",
    "    x_test, y_test = test_df[\"Tweet\"], test_df[\"Race\"]\n",
    "    \n",
    "    model.fit(x_train, y_train, epochs = 5)\n",
    "    y_pred = np.argmax(model.predict(x_test), axis=1)\n",
    "    acc = accuracy_score(y_test, y_pred)\n",
    "    accs.append(acc)\n",
    "    print(\"Accuracy: \", acc)\n",
    "    print()\n",
    "    report = classification_report(y_test, y_pred)\n",
    "    print(report)\n",
    "    print()\n",
    "    reports.append(report)\n",
    "    cm = confusion_matrix(y_test, y_pred, normalize='true')\n",
    "    print(cm)\n",
    "    print()\n",
    "    confusion_matrices.append(cm)"
   ]
  },
  {
   "cell_type": "code",
   "execution_count": null,
   "id": "720356d2",
   "metadata": {},
   "outputs": [],
   "source": [
    "np.average(accs)"
   ]
  },
  {
   "cell_type": "code",
   "execution_count": null,
   "id": "078cf900",
   "metadata": {},
   "outputs": [],
   "source": [
    "sum(confusions) / 5"
   ]
  }
 ],
 "metadata": {
  "kernelspec": {
   "display_name": "Python 3",
   "language": "python",
   "name": "python3"
  },
  "language_info": {
   "codemirror_mode": {
    "name": "ipython",
    "version": 3
   },
   "file_extension": ".py",
   "mimetype": "text/x-python",
   "name": "python",
   "nbconvert_exporter": "python",
   "pygments_lexer": "ipython3",
   "version": "3.8.10"
  }
 },
 "nbformat": 4,
 "nbformat_minor": 5
}
