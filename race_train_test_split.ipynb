{
 "cells": [
  {
   "cell_type": "code",
   "execution_count": 6,
   "id": "c7d8cc06-083a-4523-ad89-83d926cd52ab",
   "metadata": {},
   "outputs": [],
   "source": [
    "import pandas as pd\n",
    "from sklearn.model_selection import train_test_split"
   ]
  },
  {
   "cell_type": "code",
   "execution_count": 13,
   "id": "2ec5f9ae-9a02-462f-867a-f41bbdc49199",
   "metadata": {},
   "outputs": [],
   "source": [
    "profiles = pd.read_csv(\"labeled_users.csv\")"
   ]
  },
  {
   "cell_type": "code",
   "execution_count": 14,
   "id": "083f5df9-3e4f-4277-85b2-989f70558737",
   "metadata": {},
   "outputs": [],
   "source": [
    "train_profiles, test_profiles, train_labels, test_labels = train_test_split(profiles[\"user_id\"], profiles[\"race\"], test_size = .15, random_state = 0)"
   ]
  },
  {
   "cell_type": "code",
   "execution_count": 15,
   "id": "e62882e2-04bf-4498-9e56-dab9461a6952",
   "metadata": {},
   "outputs": [
    {
     "data": {
      "text/plain": [
       "((3512,), (620,), (3512,), (620,))"
      ]
     },
     "execution_count": 15,
     "metadata": {},
     "output_type": "execute_result"
    }
   ],
   "source": [
    "train_profiles.shape, test_profiles.shape, train_labels.shape, test_labels.shape"
   ]
  },
  {
   "cell_type": "code",
   "execution_count": 16,
   "id": "e577446a-6130-4329-b98b-0d7407a3928d",
   "metadata": {},
   "outputs": [
    {
     "data": {
      "text/plain": [
       "4.0    2699\n",
       "1.0     320\n",
       "2.0     215\n",
       "5.0     129\n",
       "3.0     114\n",
       "Name: race, dtype: int64"
      ]
     },
     "execution_count": 16,
     "metadata": {},
     "output_type": "execute_result"
    }
   ],
   "source": [
    "train_labels.value_counts()"
   ]
  },
  {
   "cell_type": "code",
   "execution_count": 18,
   "id": "762ca37e-2291-4834-8de5-3fcf96583f1e",
   "metadata": {},
   "outputs": [
    {
     "data": {
      "text/plain": [
       "4.0    485\n",
       "1.0     54\n",
       "2.0     26\n",
       "3.0     26\n",
       "5.0     24\n",
       "Name: race, dtype: int64"
      ]
     },
     "execution_count": 18,
     "metadata": {},
     "output_type": "execute_result"
    }
   ],
   "source": [
    "test_labels.value_counts()"
   ]
  },
  {
   "cell_type": "code",
   "execution_count": 22,
   "id": "0f8e73ec-2dca-4292-b56d-0f51debca67d",
   "metadata": {},
   "outputs": [],
   "source": [
    "train_df = pd.DataFrame({\"user_id\": train_profiles, \"race\": train_labels})\n",
    "train_df.to_csv(\"race_train.csv\")"
   ]
  },
  {
   "cell_type": "code",
   "execution_count": null,
   "id": "5109ee8b-a03e-4ddc-ba09-3be5f9971e4b",
   "metadata": {},
   "outputs": [],
   "source": []
  }
 ],
 "metadata": {
  "kernelspec": {
   "display_name": "Python 3 (ipykernel)",
   "language": "python",
   "name": "python3"
  },
  "language_info": {
   "codemirror_mode": {
    "name": "ipython",
    "version": 3
   },
   "file_extension": ".py",
   "mimetype": "text/x-python",
   "name": "python",
   "nbconvert_exporter": "python",
   "pygments_lexer": "ipython3",
   "version": "3.8.11"
  }
 },
 "nbformat": 4,
 "nbformat_minor": 5
}
