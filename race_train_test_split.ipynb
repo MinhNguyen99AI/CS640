{
 "cells": [
  {
   "cell_type": "code",
   "execution_count": 33,
   "id": "c7d8cc06-083a-4523-ad89-83d926cd52ab",
   "metadata": {},
   "outputs": [],
   "source": [
    "import pandas as pd\n",
    "from sklearn.model_selection import train_test_split"
   ]
  },
  {
   "cell_type": "code",
   "execution_count": 34,
   "id": "2ec5f9ae-9a02-462f-867a-f41bbdc49199",
   "metadata": {},
   "outputs": [],
   "source": [
    "profiles = pd.read_csv(\"labeled_users.csv\")\n",
    "profiles = profiles[profiles[\"race\"] != 5]\n",
    "profiles = profiles[profiles[\"race\"].notna()]\n",
    "profiles[\"race\"] -= 1"
   ]
  },
  {
   "cell_type": "code",
   "execution_count": 35,
   "id": "083f5df9-3e4f-4277-85b2-989f70558737",
   "metadata": {},
   "outputs": [],
   "source": [
    "train_profiles, test_profiles, train_labels, test_labels = train_test_split(profiles[\"user_id\"], profiles[\"race\"], test_size = .15, random_state = 0)"
   ]
  },
  {
   "cell_type": "code",
   "execution_count": 36,
   "id": "e62882e2-04bf-4498-9e56-dab9461a6952",
   "metadata": {},
   "outputs": [
    {
     "data": {
      "text/plain": [
       "((3348,), (591,), (3348,), (591,))"
      ]
     },
     "execution_count": 36,
     "metadata": {},
     "output_type": "execute_result"
    }
   ],
   "source": [
    "train_profiles.shape, test_profiles.shape, train_labels.shape, test_labels.shape"
   ]
  },
  {
   "cell_type": "code",
   "execution_count": 37,
   "id": "e577446a-6130-4329-b98b-0d7407a3928d",
   "metadata": {},
   "outputs": [
    {
     "data": {
      "text/plain": [
       "3.0    2709\n",
       "0.0     310\n",
       "1.0     206\n",
       "2.0     123\n",
       "Name: race, dtype: int64"
      ]
     },
     "execution_count": 37,
     "metadata": {},
     "output_type": "execute_result"
    }
   ],
   "source": [
    "train_labels.value_counts()"
   ]
  },
  {
   "cell_type": "code",
   "execution_count": 38,
   "id": "762ca37e-2291-4834-8de5-3fcf96583f1e",
   "metadata": {},
   "outputs": [
    {
     "data": {
      "text/plain": [
       "3.0    475\n",
       "0.0     64\n",
       "1.0     35\n",
       "2.0     17\n",
       "Name: race, dtype: int64"
      ]
     },
     "execution_count": 38,
     "metadata": {},
     "output_type": "execute_result"
    }
   ],
   "source": [
    "test_labels.value_counts()"
   ]
  },
  {
   "cell_type": "code",
   "execution_count": 39,
   "id": "0f8e73ec-2dca-4292-b56d-0f51debca67d",
   "metadata": {},
   "outputs": [],
   "source": [
    "train_df = pd.DataFrame({\"user_id\": train_profiles, \"race\": train_labels})\n",
    "train_df.to_csv(\"race_train.csv\")"
   ]
  },
  {
   "cell_type": "code",
   "execution_count": 40,
   "id": "5109ee8b-a03e-4ddc-ba09-3be5f9971e4b",
   "metadata": {},
   "outputs": [],
   "source": [
    "test_df = pd.DataFrame({\"user_id\": test_profiles, \"race\": test_labels})\n",
    "test_df.to_csv(\"race_test.csv\")"
   ]
  }
 ],
 "metadata": {
  "kernelspec": {
   "display_name": "Python 3 (ipykernel)",
   "language": "python",
   "name": "python3"
  },
  "language_info": {
   "codemirror_mode": {
    "name": "ipython",
    "version": 3
   },
   "file_extension": ".py",
   "mimetype": "text/x-python",
   "name": "python",
   "nbconvert_exporter": "python",
   "pygments_lexer": "ipython3",
   "version": "3.8.11"
  }
 },
 "nbformat": 4,
 "nbformat_minor": 5
}
