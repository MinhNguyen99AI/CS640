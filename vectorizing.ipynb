{
 "cells": [
  {
   "cell_type": "code",
   "execution_count": 17,
   "id": "dde3e9e4-d700-4c63-9b00-e77759ea58b2",
   "metadata": {},
   "outputs": [],
   "source": [
    "import pandas as pd"
   ]
  },
  {
   "cell_type": "code",
   "execution_count": 18,
   "id": "ec7a2d95-8313-4ed2-ad02-24dc7dafc807",
   "metadata": {},
   "outputs": [
    {
     "data": {
      "text/html": [
       "<div>\n",
       "<style scoped>\n",
       "    .dataframe tbody tr th:only-of-type {\n",
       "        vertical-align: middle;\n",
       "    }\n",
       "\n",
       "    .dataframe tbody tr th {\n",
       "        vertical-align: top;\n",
       "    }\n",
       "\n",
       "    .dataframe thead th {\n",
       "        text-align: right;\n",
       "    }\n",
       "</style>\n",
       "<table border=\"1\" class=\"dataframe\">\n",
       "  <thead>\n",
       "    <tr style=\"text-align: right;\">\n",
       "      <th></th>\n",
       "      <th>Tweet</th>\n",
       "      <th>Screen Name</th>\n",
       "      <th>img_path</th>\n",
       "      <th>Under 21</th>\n",
       "    </tr>\n",
       "  </thead>\n",
       "  <tbody>\n",
       "    <tr>\n",
       "      <th>0</th>\n",
       "      <td>@AdvoBarryRoux @GetVidBot</td>\n",
       "      <td>_____zac_____</td>\n",
       "      <td>0</td>\n",
       "      <td>1</td>\n",
       "    </tr>\n",
       "    <tr>\n",
       "      <th>1</th>\n",
       "      <td>The owner of drip doesn't even have 100 mill, ...</td>\n",
       "      <td>_____zac_____</td>\n",
       "      <td>0</td>\n",
       "      <td>1</td>\n",
       "    </tr>\n",
       "    <tr>\n",
       "      <th>2</th>\n",
       "      <td>even Lekau the owner of Drip was saying that i...</td>\n",
       "      <td>_____zac_____</td>\n",
       "      <td>0</td>\n",
       "      <td>1</td>\n",
       "    </tr>\n",
       "    <tr>\n",
       "      <th>3</th>\n",
       "      <td>@casspernyovest is cappin  that \"R100m\" figure...</td>\n",
       "      <td>_____zac_____</td>\n",
       "      <td>0</td>\n",
       "      <td>1</td>\n",
       "    </tr>\n",
       "    <tr>\n",
       "      <th>4</th>\n",
       "      <td>I want a recipe from @JBscotchSA for #JBLemona...</td>\n",
       "      <td>_____zac_____</td>\n",
       "      <td>0</td>\n",
       "      <td>1</td>\n",
       "    </tr>\n",
       "    <tr>\n",
       "      <th>...</th>\n",
       "      <td>...</td>\n",
       "      <td>...</td>\n",
       "      <td>...</td>\n",
       "      <td>...</td>\n",
       "    </tr>\n",
       "    <tr>\n",
       "      <th>106309</th>\n",
       "      <td>uci fucking evil for making me go to school to...</td>\n",
       "      <td>zzzakari4</td>\n",
       "      <td>3279</td>\n",
       "      <td>0</td>\n",
       "    </tr>\n",
       "    <tr>\n",
       "      <th>106310</th>\n",
       "      <td>incredibly hot take, but i just think its funn...</td>\n",
       "      <td>zzzakari4</td>\n",
       "      <td>3279</td>\n",
       "      <td>0</td>\n",
       "    </tr>\n",
       "    <tr>\n",
       "      <th>106311</th>\n",
       "      <td>@valedesmadre u knw how i am 😫 its too much pr...</td>\n",
       "      <td>zzzakari4</td>\n",
       "      <td>3279</td>\n",
       "      <td>0</td>\n",
       "    </tr>\n",
       "    <tr>\n",
       "      <th>106312</th>\n",
       "      <td>will be needing a couple more business days to...</td>\n",
       "      <td>zzzakari4</td>\n",
       "      <td>3279</td>\n",
       "      <td>0</td>\n",
       "    </tr>\n",
       "    <tr>\n",
       "      <th>106313</th>\n",
       "      <td>its been 15 days since the final and ive final...</td>\n",
       "      <td>zzzakari4</td>\n",
       "      <td>3279</td>\n",
       "      <td>0</td>\n",
       "    </tr>\n",
       "  </tbody>\n",
       "</table>\n",
       "<p>106314 rows × 4 columns</p>\n",
       "</div>"
      ],
      "text/plain": [
       "                                                    Tweet    Screen Name  \\\n",
       "0                               @AdvoBarryRoux @GetVidBot  _____zac_____   \n",
       "1       The owner of drip doesn't even have 100 mill, ...  _____zac_____   \n",
       "2       even Lekau the owner of Drip was saying that i...  _____zac_____   \n",
       "3       @casspernyovest is cappin  that \"R100m\" figure...  _____zac_____   \n",
       "4       I want a recipe from @JBscotchSA for #JBLemona...  _____zac_____   \n",
       "...                                                   ...            ...   \n",
       "106309  uci fucking evil for making me go to school to...      zzzakari4   \n",
       "106310  incredibly hot take, but i just think its funn...      zzzakari4   \n",
       "106311  @valedesmadre u knw how i am 😫 its too much pr...      zzzakari4   \n",
       "106312  will be needing a couple more business days to...      zzzakari4   \n",
       "106313  its been 15 days since the final and ive final...      zzzakari4   \n",
       "\n",
       "        img_path  Under 21  \n",
       "0              0         1  \n",
       "1              0         1  \n",
       "2              0         1  \n",
       "3              0         1  \n",
       "4              0         1  \n",
       "...          ...       ...  \n",
       "106309      3279         0  \n",
       "106310      3279         0  \n",
       "106311      3279         0  \n",
       "106312      3279         0  \n",
       "106313      3279         0  \n",
       "\n",
       "[106314 rows x 4 columns]"
      ]
     },
     "execution_count": 18,
     "metadata": {},
     "output_type": "execute_result"
    }
   ],
   "source": [
    "data = pd.read_csv(\"labeled_tweet_table_Age.csv\")\n",
    "data"
   ]
  },
  {
   "cell_type": "code",
   "execution_count": 19,
   "id": "801d8761-6870-4871-aa84-f337b2138aa6",
   "metadata": {},
   "outputs": [
    {
     "data": {
      "text/plain": [
       "((106314,), (106314,))"
      ]
     },
     "execution_count": 19,
     "metadata": {},
     "output_type": "execute_result"
    }
   ],
   "source": [
    "tweets = data[\"Tweet\"]\n",
    "ageLabels = data[\"Under 21\"]\n",
    "tweets.shape, ageLabels.shape"
   ]
  },
  {
   "cell_type": "code",
   "execution_count": 20,
   "id": "24d01951-fe82-41e0-a3a7-da42236b912a",
   "metadata": {},
   "outputs": [],
   "source": [
    "from sklearn.feature_extraction.text import TfidfVectorizer\n",
    "vectorizer = TfidfVectorizer(stop_words='english')\n",
    "X = vectorizer.fit_transform(tweets)"
   ]
  },
  {
   "cell_type": "code",
   "execution_count": 21,
   "id": "a0afd688-48a9-441a-a262-48d6ad10b0a5",
   "metadata": {},
   "outputs": [
    {
     "data": {
      "text/plain": [
       "((106314,), (106314, 105418))"
      ]
     },
     "execution_count": 21,
     "metadata": {},
     "output_type": "execute_result"
    }
   ],
   "source": [
    "tweets.shape, X.shape"
   ]
  },
  {
   "cell_type": "code",
   "execution_count": 22,
   "id": "60475d2c-2ded-4d6b-a476-67a1f8b964bc",
   "metadata": {},
   "outputs": [],
   "source": [
    "from sklearn.model_selection import train_test_split\n",
    "x_train, x_test, y_train, y_test = train_test_split(X, ageLabels, test_size = .1)"
   ]
  },
  {
   "cell_type": "code",
   "execution_count": 23,
   "id": "d37eee46-3566-4d4a-97c2-6273a66d2fa8",
   "metadata": {},
   "outputs": [
    {
     "data": {
      "text/plain": [
       "LogisticRegression(max_iter=1000000)"
      ]
     },
     "execution_count": 23,
     "metadata": {},
     "output_type": "execute_result"
    }
   ],
   "source": [
    "from sklearn.linear_model import LogisticRegression\n",
    "model = LogisticRegression(max_iter=10**6)\n",
    "model.fit(x_train, y_train)"
   ]
  },
  {
   "cell_type": "code",
   "execution_count": 24,
   "id": "cc713879-fe91-4a24-bf07-d6dc47f3dc27",
   "metadata": {},
   "outputs": [
    {
     "name": "stdout",
     "output_type": "stream",
     "text": [
      "Training acc:  0.8554378043937209\n",
      "Testing acc:  0.6701467268623025\n"
     ]
    }
   ],
   "source": [
    "from sklearn.metrics import accuracy_score\n",
    "print(\"Training acc: \", accuracy_score(model.predict(x_train), y_train))\n",
    "print(\"Testing acc: \",  accuracy_score(model.predict(x_test), y_test))"
   ]
  },
  {
   "cell_type": "code",
   "execution_count": 25,
   "id": "e82b8594-59b8-4dab-9a34-9e7f8f6496e2",
   "metadata": {},
   "outputs": [],
   "source": [
    "import tensorflow as tf\n",
    "import tensorflow.keras as keras\n",
    "import tensorflow_hub as hub\n",
    "import tensorflow_text as text"
   ]
  },
  {
   "cell_type": "raw",
   "id": "3b84c54e-4229-4607-995a-01412e81ee4d",
   "metadata": {},
   "source": [
    "bert_preprocess = hub.KerasLayer(\"https://tfhub.dev/tensorflow/bert_en_uncased_preprocess/3\")\n",
    "bert_encoder = hub.KerasLayer(\"https://tfhub.dev/tensorflow/bert_en_uncased_L-12_H-768_A-12/4\")"
   ]
  },
  {
   "cell_type": "code",
   "execution_count": 34,
   "id": "a3aee3f8-316e-471d-a5d0-861ecd75ee2c",
   "metadata": {},
   "outputs": [
    {
     "name": "stdout",
     "output_type": "stream",
     "text": [
      "Model: \"model_4\"\n",
      "__________________________________________________________________________________________________\n",
      " Layer (type)                   Output Shape         Param #     Connected to                     \n",
      "==================================================================================================\n",
      " input_6 (InputLayer)           [(None,)]            0           []                               \n",
      "                                                                                                  \n",
      " keras_layer (KerasLayer)       {'input_mask': (Non  0           ['input_6[0][0]']                \n",
      "                                e, 128),                                                          \n",
      "                                 'input_type_ids':                                                \n",
      "                                (None, 128),                                                      \n",
      "                                 'input_word_ids':                                                \n",
      "                                (None, 128)}                                                      \n",
      "                                                                                                  \n",
      " keras_layer_1 (KerasLayer)     {'sequence_output':  109482241   ['keras_layer[4][0]',            \n",
      "                                 (None, 128, 768),                'keras_layer[4][1]',            \n",
      "                                 'pooled_output': (               'keras_layer[4][2]']            \n",
      "                                None, 768),                                                       \n",
      "                                 'default': (None,                                                \n",
      "                                768),                                                             \n",
      "                                 'encoder_outputs':                                               \n",
      "                                 [(None, 128, 768),                                               \n",
      "                                 (None, 128, 768),                                                \n",
      "                                 (None, 128, 768),                                                \n",
      "                                 (None, 128, 768),                                                \n",
      "                                 (None, 128, 768),                                                \n",
      "                                 (None, 128, 768),                                                \n",
      "                                 (None, 128, 768),                                                \n",
      "                                 (None, 128, 768),                                                \n",
      "                                 (None, 128, 768),                                                \n",
      "                                 (None, 128, 768),                                                \n",
      "                                 (None, 128, 768),                                                \n",
      "                                 (None, 128, 768)]}                                               \n",
      "                                                                                                  \n",
      " dense_7 (Dense)                (None, 1)            769         ['keras_layer_1[4][13]']         \n",
      "                                                                                                  \n",
      "==================================================================================================\n",
      "Total params: 109,483,010\n",
      "Trainable params: 769\n",
      "Non-trainable params: 109,482,241\n",
      "__________________________________________________________________________________________________\n"
     ]
    }
   ],
   "source": [
    "text_input = keras.layers.Input(shape=(), dtype=tf.string)\n",
    "preprocessed_text = bert_preprocess(text_input)\n",
    "outputs = bert_encoder(preprocessed_text)\n",
    "\n",
    "layer1 = keras.layers.Dense(1, activation='sigmoid')(outputs[\"pooled_output\"])\n",
    "model = keras.Model(inputs=[text_input], outputs=[layer1])\n",
    "\n",
    "model.summary()\n",
    "model.compile(optimizer='adam', loss = 'binary_crossentropy', metrics = ['accuracy'])"
   ]
  },
  {
   "cell_type": "code",
   "execution_count": 36,
   "id": "d3ccc89e-aa87-4da9-a327-b17b5a52267c",
   "metadata": {},
   "outputs": [
    {
     "name": "stdout",
     "output_type": "stream",
     "text": [
      "Epoch 1/5\n",
      "16/16 [==============================] - 52s 3s/step - loss: 0.6834 - accuracy: 0.5300\n",
      "Epoch 2/5\n",
      "16/16 [==============================] - 53s 3s/step - loss: 0.6691 - accuracy: 0.5680\n",
      "Epoch 3/5\n",
      "16/16 [==============================] - 52s 3s/step - loss: 0.6773 - accuracy: 0.5660\n",
      "Epoch 4/5\n",
      "16/16 [==============================] - 55s 3s/step - loss: 0.6668 - accuracy: 0.5860\n",
      "Epoch 5/5\n",
      "16/16 [==============================] - 54s 3s/step - loss: 0.6652 - accuracy: 0.5660\n"
     ]
    },
    {
     "data": {
      "text/plain": [
       "<keras.callbacks.History at 0x1c16b2864f0>"
      ]
     },
     "execution_count": 36,
     "metadata": {},
     "output_type": "execute_result"
    }
   ],
   "source": [
    "x_train, x_test, y_train, y_test = train_test_split(tweets, ageLabels, test_size = .1)\n",
    "example_x, example_y = x_train[:500], y_train[:500]\n",
    "model.fit(example_x, example_y, epochs=5)"
   ]
  }
 ],
 "metadata": {
  "kernelspec": {
   "display_name": "Python 3 (ipykernel)",
   "language": "python",
   "name": "python3"
  },
  "language_info": {
   "codemirror_mode": {
    "name": "ipython",
    "version": 3
   },
   "file_extension": ".py",
   "mimetype": "text/x-python",
   "name": "python",
   "nbconvert_exporter": "python",
   "pygments_lexer": "ipython3",
   "version": "3.8.11"
  }
 },
 "nbformat": 4,
 "nbformat_minor": 5
}
