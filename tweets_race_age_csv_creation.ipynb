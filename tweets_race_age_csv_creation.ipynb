{
 "cells": [
  {
   "cell_type": "markdown",
   "id": "d64c1f81",
   "metadata": {},
   "source": [
    "The original labelled_users.csv had an unequal distribution of age \n",
    "(312672 items for \"0\", 801 items for \"1\")\n",
    "\n",
    "Prof Derry posted a new dataset with equal distribution in age. She said we can use old data for race and this new data for age. (https://piazza.com/class/ksrsk4bt97t221?cid=173)\n",
    "\n",
    "I created the dataset for Age using the new dataset. The race dataset is same as the one Nick created, I just removed the age label."
   ]
  },
  {
   "cell_type": "code",
   "execution_count": 1,
   "id": "e13a4fc1",
   "metadata": {},
   "outputs": [],
   "source": [
    "import json\n",
    "import pandas as pd"
   ]
  },
  {
   "cell_type": "markdown",
   "id": "3a323f69",
   "metadata": {},
   "source": [
    "# For Age"
   ]
  },
  {
   "cell_type": "code",
   "execution_count": 2,
   "id": "d24f14aa",
   "metadata": {},
   "outputs": [],
   "source": [
    "with open(\"./labeled_users_1145/tweets.json\", encoding=\"utf8\") as file:\n",
    "    text = file.read()\n",
    "    tweets_1145 = json.loads(text)"
   ]
  },
  {
   "cell_type": "code",
   "execution_count": 3,
   "id": "eaf59a80",
   "metadata": {},
   "outputs": [
    {
     "data": {
      "text/plain": [
       "dict_keys(['_____zac_____', '___aleia', '___Dals', '___schaeffer___', '__andresiscool', '__blowCeeKisses', '__Bone2', '__drewc', '__EmilyRice__', '__ginaaaa__', '__KDA_', '__masonsmith__', '__sammybear__', '__shawtyx3', '_AJoseph_', '_alfiee11', '_amina_r', '_aniyagraham', '_ashleelyon', '_ashleyshaffer', '_Baaaates724', '_BattsMan_', '_boogs23', '_briannadevaux', '_celiaaaxo', '_chiara475', '_CoVeRtToWn_', '_crayolacrayon', '_DemiNeutron', '_donishav', '_dxVi5', '_elisamtz', '_espibarrera', '_EWillB', '_FatPapiOrtiz', '_FatThor', '_GabiBozeman', '_Gavin0304', '_gilliansummer_', '_GiuliannaTapia', '_haileyevans', '_Heidz95', '_hey_its_steph', '_Huey93', '_ItsLinaa', '_jameshatfield_', '_jaydezha', '_jmiller27', '_jonstephen', '_Jurrasicore', '_kaylinsuzanne_', '_kbatch', '_keagannn', '_Kellyann_C', '_Kingdarrion', '_knweedman', '_lexi_lopezz_', '_madisonage', '_Mattintosh_', '_megodeck', '_mustac_10', '_mvmacita', '_nikkidaniellee', '_notblakegray', '_olisehh', '_PAULWHISKEY', '_PONYBOI_', '_rorr_', '_sacredHeart', '_Schubby', '_sebas365', '_selgo_', '_tayloralexis13', '_taylornuyen', '_tayshel_2', '_thedreamwell', '_xogloria', '05Panico', '10oso1996', '15_noemiii', '1DanLawson', '1grn_eyez', '24_archito', '2no_avail', '2raosanjiv', '307cork', '312dude', '3d3lyn', '3toughsons', '40zandshorties', '4vyom4', '6Fubae', 'A6thSense', 'aabramson', 'Aamot4life', 'Aaron_Isaac25', 'aaronanthonyjr', 'aaronwarnick', 'AaronWebb77', 'AbagailLane', 'abandoneddisco', 'abate_danielle', 'abbsoxo', 'Abby_Anyse', 'aBigMess', 'AbramCazares', 'abscocosirb', 'absolutexangel', 'adammchd17', 'AdamMorales_', 'AdamSizemore83', 'Adrianaa_9_', 'adriannamorriis', 'adventurecbd', 'agsair', 'ahegaoemoji_', 'AhrenGray', 'aimeecow', 'AIMTOKILLEVAN', 'ainhoairin_', 'ainsleylynn', 'airmescain', 'AishaAlMuslim', 'aj_flu', 'aj_towers', 'aja72425899', 'AkechetaCatori', 'akramuddin91', 'aksocceremma', 'Al_Marie_', 'alanmhancock', 'aleabigail45', 'aleahcims08', 'Alecjenson', 'alenajarvis324', 'aleneaaa', 'alexaba33684941', 'AlexandriaBord1', 'AlexArmenta36', 'alexastclair', 'alexfriesenn', 'AlexHpackMiller', 'alexis3michelle', 'AlexisMcKayy', 'Alexmau191', 'alexo774', 'alexolsen24', 'alexsitaaaa', 'alexvivonia', 'alexx_101', 'AliciaLeeFarns1', 'aliciamq_', 'AliciaStayReal', 'alienlilith', 'alisonannyoung', 'AlisonBuki', 'alisonw0nder', 'AliviaDufay', 'allenahrhyan', 'alli33s', 'alliebruy', 'allisoncierra_', 'allisonclay23', 'allthepaper', 'AllyWebb15', 'alorahjade', 'alpalmarie', 'alrightykenny', 'alrightymarilyn', 'alrodriguesx', 'AltheaLarson98', 'alyakCoakley', 'alys_eg', 'alyshavillacis', 'Alysonspell5', 'alyssa_baileyy_', 'alyssa_cusack2', 'Alyssa_Rose03', 'alyssaadellea', 'Alyssaazo', 'alyssamurphy', 'AlyssaWeymann', 'alyyykat', 'Amandabookk', 'amandadowdm', 'amandakater', 'AmAustinClark', 'AmberBenson', 'amberisthecoIor', 'AmberLynnGilli2', 'ambs_718', 'americafirst217', 'amerissnicole', 'ami_brazyy', 'amiable_chelz', 'amy_chafee', 'AmzGrace56', 'anaevardone', 'Anahicazares02', 'ananolascoooo', 'AnaSheffield21', 'Anashtisul', 'and_rach_', 'andishehnouraee', 'andreaclaire33', 'andreacorbito', 'andreamazing', 'AndrethaKnight', 'Andrew_Baxter23', 'andrew_carruth', 'andrewbutlerr', 'AndrewGunn_', 'andrewjfiore', 'andronic123', 'andydeelacruz', 'AndyHolt4TN', 'andymagnes', 'anerito97', 'Angela_Y_Yang', 'angelagwalters', 'angelbibiano74', 'AngelykkaMarrie', 'angieantell', 'angiiee225', 'AngusDwyer', 'AnimeXFan2016', 'aniyahLanae04', 'anjanaaaaaa', 'annaarnoldd', 'annabrooke_', 'AnnaManae', 'annamariiiaaaa', 'Annie_Mac27', 'AnnieCordoba', 'anniethefischer', 'AnnikaTuttle', 'Annotto', 'aNOLEnymous', 'anon_opin', 'anotarian', 'AntasiaAdamjee', 'anthonygaetano_', 'AnthonyHenshaw9', 'anthonyyoberlin', 'AnthPeezy', 'Antonio_giron16', 'AntonioReyX360', 'anudawn_', 'anxious_maria', 'ApocalypticaNow', 'aquameleon', 'Aracely21211915', 'araikaym', 'ArcadiaMikeRiz', 'arctanprime', 'arguablygay', 'ArielRayy', 'arleneeramirez', 'arlenejuarez_', 'ArleneRyndak', 'Artsmah_', 'asapmari', 'ashahoffmn', 'AsherRehsaa', 'Ashin_Kusher__', 'ashleighlayer', 'ashleytench16', 'ashlybillings', 'AstroValerie', 'athamebluefox', 'Atheist_T_Girl', 'Atuuttt', 'aub_marks', 'audreyland3', 'AudreyS23511436', 'AudreyVerfurth', 'austin__vance', 'AustinRatzki', 'AustinReess', 'autismepi', 'averyshaye', 'AwesomeStoryBro', 'AwfulWally', 'awizzzzz', 'axelfoley12', 'ay_p329', 'AyalaDeer', 'aydin091', 'AyeChrisMendez', 'AyeeeitsAriel_', 'ayoitshannahh', 'ayyyy_tay', 'AzAnnabel', 'AzathTV', 'Azazel0928', 'AZcbw', 'azo_gini', 'baaaaaylee', 'babeslovegabe', 'Baby_Klar', 'babycay37', 'BabyTommyTorres', 'bahdbambi', 'BaileyEllege', 'BaileyMalia', 'baileyymeredith', 'bame_keegan', 'BammerJH', 'bananasplitbrie', 'BankrollJP', 'barbabun', 'Barbara37152749', 'BartlettErica', 'BaseballWesty', 'basednonez', 'BasedSteban', 'basically_adri', 'basicllybella', 'BatalieRose', 'bauhausboi', 'BayyBruu', 'BBBNEYS27', 'bbkwiat', 'Bbushbaby1', 'bbutton2010', 'Beachlife0769', 'beauvans', 'becbecbobec__', 'Beccs_15', 'BeckAndersonID', 'beckygilley13', 'beeludlow', 'beerandnosh', 'Beers_Amanda02', 'beesbrain', 'BekahFern', 'BellaTrantinez', 'Ben_Johnson15', 'benEling', 'BennnyJK', 'benviagas', 'bequitaQ', 'beshevatal', 'BethBSwartz', 'bethrosenstein', 'beulahdude51', 'Beverlyb11', 'BGHEPE', 'bianca_barraza_', 'Bianca_mata_', 'BiblioFiglio', 'Big_James123', 'bigbabyem', 'bigfack', 'bigg_mike217', 'BigVixie', 'billclevenger', 'billheads', 'BillTooke', 'billyduprey', 'bishman316', 'bjoewolf', 'bjorlax_', 'blackcat3119', 'blackmansVW', 'blackmon_ross', 'blairkitsch', 'blake_no_', 'blake_ohdam', 'blakefisher_', 'BlakeLeffel2', 'blasejaise', 'blessdndeed', 'BLITZENTERPRISE', 'Blk_Intellect', 'Blonde_Bunnie', 'blondebabe46', 'Blooming_SAJ', 'BLucid4', 'bluntneeks', 'bmoleary', 'bncantrell', 'bngelb', 'BobbyBarcelo', 'BodyForWife', 'BoltLizard', 'bombshell2119', 'BondzBoy007', 'boofpackjones', 'BossRVA', 'BoudahJ', 'BradHeat', 'bradleycarn', 'Brady_McCormick', 'Bradytheboss210', 'bramflake', 'brandizzzy', 'Brandon_lam8', 'brandonawilson2', 'brandonroobz', 'BrandonStepka', 'Brandt_Markie', 'Braydin25Abrew', 'breannabelleee_', 'BreannaHBenoit', 'breannh8syou', 'breault_alexis', 'bree_mck', 'breegeiling2', 'itsOwenarcher', 'itsyaboiKris', 'itsyagorlkg', 'Itts__bbrawnaa', 'iTwon', 'itzelgioh', 'ivettesantillan', 'IVHoop', 'Ixr_xo', 'iYoung1__', 'IzzlanHakim', 'izzy_fleenor', 'IzzyRodriquez_', 'j_angliss', 'J_Cuban24', 'J_Steinberger97', 'J3RMZ0R0', 'jabs611', 'Jaci101', 'Jack_Whiteman', 'JackDamn', 'JackJohnnieMac', 'jackman_nick69', 'jackyboy210', 'jacobbbray', 'jacobrowland123', 'JaeMariex3', 'JagerX', 'jaguar_1006', 'jaidenpope_', 'jaime_0916', 'jaimelcabrera', 'Jaimepfloress', 'jairalynn', 'JakeDaSnake1112', 'jakehc_22', 'JakeJrciv', 'jakepie97', 'JakeRegan_', 'jakestlouis1', 'jalynthompson00', 'James_Jorg', 'james_koffler', 'jamesbade474', 'jamesm10983', 'jamesreyesgrant', 'jamie_mntr', 'JaneStanley64', 'jannamaee1', 'Janrha1', 'JAPiacentini', 'jarad44bulpin', 'Jared_Boyce', 'JaredCutts1', 'jashngooyen', 'Jasmin7230', 'jasmine_uresti', 'JasmineYui', 'Jason_Bellenger', 'JasonEGalvan', 'jasonneucere', 'JasperSoot', 'Jass_Victoria', 'JaszyJaszx3', 'javii_sotoo', 'jay_littell99', 'JayJay_310', 'JayneeCollins_', 'JayRJordan', 'Jayylin', 'JazzyJadeHarley', 'jbro_convo', 'JBullock35', 'Jcbartone', 'jchimselfbigpo2', 'Jckschrdr', 'jcruzdot', 'Jdc473', 'Jdhigg1996', 'Jeal3212', 'JeffCheney', 'JeffreyTowson', 'JEKleckner', 'jenn_gerhard', 'jennasalis32', 'jennaski', 'JenniForsmann', 'Jenniliciousxo', 'Jennmprins', 'JennSchanzWXYZ', 'jennsters16', 'JEPR320', 'Jeremy_OHWX', 'jericmendoski', 'jerronsajester', 'jess_paigej', 'jessehdzz', 'jessehe18', 'jessenaluna', 'jessicaa_c1', 'JessicaaMarieeM', 'JessicaVelle', 'jessiicaguan', 'jesus_juul', 'JesusBeDrunk', 'jeweleawnuh', 'JGucciCuh', 'jhaveri_komal', 'JhuskyDuh', 'ji_nkies', 'JillySwaggy', 'Jim_WGEM', 'JimClerkinRadio', 'JimiDevine', 'Jimminy', 'jimmyjammieman', 'JimmyMalloy13', 'Jimmysimo_', 'jimstroud', 'jinni_mcc', 'Jjlavs2', 'jjtrey1', 'jkaiulanif', 'jkobe2000', 'JKrew2', 'jkrew44', 'jle0na', 'jmadds0', 'jmesstuff', 'jmontanti31', 'jmsprandel', 'Jmurraybil', 'JNATH86287623', 'jnnyhg', 'JNobeSr', 'Joan21788838', 'JoaquinLopez85', 'jobertaro', 'joelmsiegel', 'JoePowerMcGarry', 'joew8302', 'Joey_DoItBetter', 'JoeyGold24k', 'Joeymamunes', 'JoeyMancuso21', 'John_Harland', 'johnebel', 'johnkaiser13', 'johnmauceri21', 'JohnOGriobhta', 'johnson_aubrey', 'johnxmar', 'jokesonike', 'joliegauvain_', 'jolieschoj', 'JolysaMcKay', 'Jon_Lojko', 'jonah_german', 'Jonesinfilm', 'jonny868', 'JonnyBigBlock', 'JonReflex', 'jordaanjohnston', 'jordannnsimmons', 'Jordyn_Lubeach', 'josee_cruz5', 'JoseMattle15', 'JosephineShaker', 'JosephLord98', 'JosephT_music', 'joshcokerrr', 'Josie0430', 'JosieePadilla', 'JoslynHammond', 'jouradn', 'JovanaBulatovi', 'JoyJenn1', 'jp_bourget', 'jpappafotis', 'JPert13', 'jpschaaf', 'Jr_Biggie_', 'Jr_Palladino', 'JRMRS22', 'Jrz04Melissa', 'JScammy', 'jtierney6', 'JTursich', 'JujuFromigia', 'juliabranis', 'juliaisadumbass', 'JuliaxColleran', 'juliedianeexo', 'JulioFranko17', 'JulisaBernal', 'June_LaLonde', 'JunkFc3', 'Just_Kitty2013', 'just_m0en', 'justamber09', 'Justin_Denaro', 'JustinAlmighty', 'JustinHDavidson', 'Justininoo', 'JustinJairam', 'JustinMrBald', 'JustinWPruett', 'justjensart', 'justvonnaaa', 'Jvckknox', 'Jxllxn', 'Jziegeldorf', 'Jzientz', 'jzmincm', 'k_itsune', 'k_moore123', 'kaelee_hortman', 'kaelialexys', 'KaileeSullivan2', 'kailyxdesantos', 'kaitapgar', 'kaitlinbc11', 'KaitlinXTesla', 'KaitoKaito', 'kaitwx', 'KaityBrooke1', 'KaiyahMoore', 'kalanigaddyy', 'KaLebSpEIlMan74', 'kalee_renee', 'kaleighmckillip', 'KalishaPhaiboun', 'Kaloian__', 'Kamanchii', 'KamBarr55', 'KaramFAF23', 'KariannNicoler', 'karinamvela', 'Karl_Carr', 'Karl_Deigert_RX', 'karluwu', 'karmensmithivey', 'KarsynBlaire', 'kasailapaige', 'kashmoneykamri', 'kassahndra', 'kasssino', 'kateannelle', 'kategleske', 'katelyn_tuckerr', 'katelyndowse', 'katerams26', 'katevictorriaa', 'katherinecabr', 'kathleenhayden', 'KathrynPotter', 'KatieLemoine', 'katierosman', 'katrocada', 'katthequeen_', 'kay_benz_', 'kayjack_', 'kaykayrozay_', 'Kayla_Setti', 'kayla_wallace90', 'kaylalivyy', 'kaylawalker__', 'kayleelindd', 'kayleyxmartin', 'kayray', 'KBehee', 'kbunnx3', 'kcarpenter5', 'KChatwin22', 'KDNNRS', 'keegan_craddock', 'KeepRuminating', 'KeithMShaffer', 'kellyh2199', 'kelsiedeanna', 'kendall_maxey', 'kendii_', 'Kennaboo911', 'KennaShirer', 'KennedyHughes9', 'kennysouthwell', 'kenzaayyeee', 'kenzlaplace', 'kern_michael', 'kevperera23', 'kg4gwa', 'KhalaniIman', 'kharyp', 'Khycosey__', 'kianak05', 'kiara__10', 'kiaramarie_2', 'kieahwilley', 'KienYouNot', 'KIERAsaidTHAT', 'kiirraa__', 'Kikideliver_', 'kikiluvv22', 'KILLAEI99', 'KillerStain002', 'Kimberlynngg', 'Kimberryjugo', 'kimmyislame', 'KindaCurvedDick', 'Kingboozie_', 'KingEmmJ', 'KingMatttt', 'kingmecvc', 'kiralies', 'kirxstin', 'kishkedeesmom', 'KissMy_Elegance', 'kitrookie', 'Kiyanalovee', 'kjgonzo3', 'kkatelynreese', 'kkdonutslinger', 'kkqtopeka', 'KL04655767', 'kmerocks', 'KMerrit13', 'KMorsett', 'kobey224j', 'kodybeal7', 'kokorogoboki', 'KolbycIsMe', 'koolkatkrystal', 'Koolmom12Nance', 'Korozjin', 'kreger_jarrin', 'kristi_falbo', 'KristineGraczyk', 'KristiRawlings', 'krystalxevette', 'kspringsss', 'ktazwells', 'kuladudette', 'KuroNeko_Style', 'KyanKento', 'Kylamhook', 'KyleeRenaee', 'kyleworrix', 'kymcfarland', 'KyraInABox', 'LabbieJake', 'Laces_CS', 'laeldubz_', 'laineyoswalt04', 'lakrenek', 'lalabug_89', 'LamboForte', 'landandskygirl', 'langwiser', 'lanie_jns', 'LaRompeToto', 'laura_nemes', 'lauraxoisabel', 'Lauren_Imbriano', 'Lauren420_69', 'laurenjxnae', 'LaurenLindsayDj', 'laurenludovico', 'laurenmasapollo', 'laurennn140', 'Laurennsomers', 'lauryn_elizaa', 'lauryn_jaydee', 'lauryn_quinn', 'lauurreenna', 'LaydiexSkull', 'lazaruseffect79', 'lazthedj', 'lbateman40', 'lbgoforth1978', 'lbhalfdime', 'LBoogi2', 'lcortner09', 'leaaves', 'leah_milios', 'LeahCapezzuto', 'leahh_163_', 'LeahOliver0502', 'leahperrino1', 'leahwiinters', 'leealvarado101', 'LeeBrewer2NA', 'LeemanRobertF', 'lei_fle', 'leilaclaire', 'leimer', 'Len_Evans', 'LesSuggs', 'lesxmoreno', 'levichpaige', 'Lexa_Danyelle', 'lexnstuff', 'lgeisheimer', 'liamschmidt15', 'librawithcancer', 'LiedkeChristian', 'LieutenantDerm', 'lifeasjarrell', 'Lil_Kermy', 'Lil_OSO97', 'lilaahhh', 'lilangrybaby', 'lilbaabyhan', 'Lilebboo', 'LilHannyVert', 'LilJJ__', 'lilmexboy1999', 'lilmike_2013', 'lilveemac', 'lilyschie', 'lindsayRaeg', 'lindsey_robarge', 'lindseybr00keb', 'LindssAbraham', 'lis_sux', 'LisetteValaree', 'LiseyFreije', 'lissavibes', 'Lissyd0ll99', 'littlelemon_boy', 'livefastdiejohn', 'livetolove_000', 'LIVINGDEAD4LIFE', 'LivOD', 'lizb411', 'Lizeth_J97', 'lizwithcon', 'lizxortiz', 'lizziecwrong59', 'Lizzifus0606', 'lizzoot', 'LJosephGarcia', 'Logan_McNeill23', 'lolocanavan', 'lolskatherine', 'lonelybabylon', 'LongLivHevyMetl', 'Lopthien', 'LordJoey615', 'lorena_anyssa', 'realliltush', 'realphillipsA', 'RealReala', 'RebeccaCarmen', 'rebekkamains', 'RecoveringProf', 'redrumxx', 'reeferbandit', 'reepsrolyat', 'reevynap', 'rei_dogg', 'reichert_liz', 'relapsequietly', 'relentlessbecca', 'renz360', 'RepDrewFerguson', 'reppocs', 'ReverendJon', 'RGarcia63', 'rhawk55', 'RHBrowning', 'RhondaRYoung', 'RHSMP', 'rianlanasa12', 'ricee_cake', 'Richardwisler', 'Rickmil69704052', 'ricktimbs', 'rickyig', 'rigorrmorrtis', 'Rilaniii', 'rileighgraham', 'RileiTrebotic', 'rilyneischens', 'rioscivanna', 'RJurgy_12', 'rldged', 'Rmccloud93', 'Rob_L_Collier', 'Robbie_Reed1104', 'robbyFNblaze', 'robbyjmoore', 'Robd1005', 'robert_tedesco', 'RobertS1ngleton', 'robertthepotter', 'Robin_McCoy_', 'robinrockswell', 'RobiReach', 'Robynnlea_', 'rockomacias', 'RockySavannah', 'rocnhog1', 'Roddy5200', 'rogeliomartian', 'rohan98111', 'rohry_music', 'rollergir1', 'rolyatetak', 'Romayroh', 'RonHogan', 'RonWyden', 'roocrow', 'rosehoban', 'roselynnn_1', 'RossFennell', 'RoweRikW', 'rriceboii', 'RSL012548', 'RubyRanda_', 'rudehunch', 'ruizphysique', 'Runitup_nana', 'RUOffendedYetB', 'ruthymunoz', 'ruxbat', 'ruzthedirector', 'ryan_dbaugh', 'Ryan_squared', 'RyanNumber15', 'RyleaLutz', 'saaarahh14', 'sad_grrrrl', 'sadgirlfall', 'sadieanne01', 'sadpalemami', 'saesee_steven', 'sahara_hansen', 'SaintFDW', 'sakeena_n', 'Sal_palz', 'salexiselebra', 'SalsaPrice', 'SaltyPapo', 'sam_nunes_21', 'samanthalucyxox', 'samantharrenay', 'Sammy_nino_', 'Samstorm18052', 'SamStout_', 'sandbox100', 'SandraGlanton', 'SangilloAnthony', 'saniom1', 'sapphiceevee', 'sar__uhhh', 'sar_ah2567', 'saraaleone', 'sarahapanek', 'sarahcdougherty', 'sarahellenbell', 'saraheneedleman', 'sarahhhaddonn', 'SarahMessina_', 'sarahrfrost', 'SarahTStewart', 'SarcsmNMistakes', 'sassy_gramma', 'sassyxkarina', 'saturnrosee', 'saucy_joey23', 'savannahnanbell', 'savbeckwith', 'sawitwosw', 'Sawybeans_', 'saylabeee', 'sberghuis43', 'sbjames2327', 'SBocade', 'scabbyscribe56', 'Scarlet_Kitteh', 'scbaldwin', 'SCemensky', 'schefflermax', 'ScienceBandit7', 'sckrjoe', 'scolipoliolli', 'Scotlandfog', 'scottconso', 'sean_chris10', 'Sean_mauricee', 'SeanM_FootBall', 'seanwhiteaight', 'Seattlesbadboy', 'SebastinNichols', 'seho82', 'Sejoyo', 'selamisandwich', 'sellielali', 'selyna408', 'SenorVee', 'sergadry', 'SergSayz', 'serkif', 'sevenonetrey', 'sevohnalexis', 'sh_rk_tt_ck', 'sha_jebara', 'shadowdiosama', 'shadyymaria', 'shakabrawl', 'shakdadday', 'ShakkarPapa', 'shane_prender15', 'ShaneH121', 'shaniahlavacek', 'shannontwote', 'Shanzeenah', 'sharebear817', 'SharonZJewelry', 'shaungriff', 'shawnngee', 'SheHasNoName999', 'sheiladelgadog', 'Shelbaby14', 'shelbaerobx', 'shelby_mcadams', 'shelbymuzny', 'ShellyLonginot2', 'sherijr', 'sherrykdelaney', 'ShesSteeleLoved', 'ShianneShippy', 'Shikona', 'shiloh_miller70', 'shimor', 'shiraabel', 'ShitNotYouAgain', 'Shrewd33', 'SHSjacketvball', 'shyanigans', 'SiederRyan', 'sierrasevier', 'siiddd7', 'simsdough', 'Sir_Mart_Ash', 'sirburrus', 'Sirenscrytoo', 'sjsbeats', 'SkapesDancer99', 'skateboardk_', 'skeleton_spoopi', 'skyjjj', 'SkylieMarie_', 'slapstck', 'Slimee17', 'slkaplanmd', 'smilemorepenny', 'SmokeSeattle', 'smoresmartin', 'smugsnailcos', 'Smuttysquid', 'SnuggleSerpent', 'so_curly10', 'Sockslynks', 'Soenda', 'sofiilroy', 'sohrkhai', 'SoOvrTheRainbow', 'sophiebushman', 'sophiekhadija', 'sophiugh', 'sp_acevex', 'SpacedOwt01', 'spacehailey', 'spacerose94', 'SpeakerCoughlin', 'speshul_wes', 'spherection', 'spookylauren', 'spunkiscientist', 'SquallStaffan', 'Srslyomgwtfbro', 'ssliik', 'sssydneyhehe', 'sstorm01', 'St0rmii__', 'stacee_sgotti', 'Stacy_B', 'stainfacemane', 'STAN_ABBA', 'starfallgoddess', 'StateRepBain', 'stav_tavo', 'steamboatwillyo', 'stefisbright', 'StefonBaguette', 'Stepha_Nie_Vee', 'stephaniedvine', 'StephanySaid_', 'StephenSailsPDX', 'STEVE_BOZIC', 'stevenmurillo21', 'stevenyangxx', 'StewartDestany', 'stonedcoId', 'StorySlug', 'stphil', 'straightail', 'StreetSouls16', 'Strike_CVI', 'strwbrrymlkt', 'stubdastud', 'StylezxGaming', 'subatomicdoc', 'SublimeSeaweed', 'Suck_My_Sam', 'suckafreeebri', 'suckmylizzz', 'summersmith326', 'sunoveristambul', 'SupaDolphan', 'superpixels', 'SupraN2Omar', 'suziraeee', 'SvechinLarisa', 'svveetalexa', 'swagger372', 'swalker_43', 'swamp_surprise', 'Swanny23', 'swavey_orlando', 'swavydreams', 'sweetdayla', 'sweetestthreat', 'sweetflipsbrah', 'swerve2850', 'syd_wilburn', 'sydastry', 'sydfcarter', 'sydnesingleton', 'Sydney_Smith99', 'sydsheehan5', 'SykoHeatherrr', 'syorkMI', 'syydddoooo', 'SzaraCole', 't_abee33', 'Taaccardo01', 'TacticalFruit', 'TagleAlexx', 'takeashortROUTT', 'Tall_Ayden', 'TamaraTaco', 'taniella67', 'TannerA_Olson', 'taryn_mackennaa', 'TatumLBS', 'taugenthaler', 'taylor_hockey8', 'Taylor_Kayy_', 'taylorrdawnnnn', 'taylorrrdeanne', 'taythewelder', 'tc_terrell', 'tcapspresident', 'TchouMd', 'tcomer4418', 'Techgnostik', 'teddy_montoya', 'TedKoppyNBC', 'Teepers1', 'teghanbartee_', 'tellithowitis24', 'tenshioskar', 'TGrienier34', 'thalyamk', 'ThatBoyAnt15', 'thatguyaj36', 'Thathigga', 'ThatJoeHerrmann', 'ThatNevilsKid', 'thattkay', 'The_Davenporter', 'the_grand_marsh', 'The_Jessixa', 'the_jose_negro', 'the_Naypalm', 'The_Psi_Lord', 'the_ravefairy', 'the23rdjoker', 'TheAnxietyBoi', 'thebeast456158', 'TheBigManJimmyT', 'thebillbuchanan', 'thebiospace', 'thecandymancant', 'thecaseygram', 'thecassychase', 'thecgist22', 'TheChadow', 'thecoolestdaisy', 'TheDeaconCash', 'THEE_TOMCAT', 'TheeHenryAdjah', 'TheElrodJr_31', 'thefunction13', 'Thegabegarza', 'thegreatlexini', 'TheHannahLacey', 'thehomiemigz', 'TheJakobRose', 'thejaymoe', 'TheJourneymanGC', 'ThekidnamedNY', 'thelatinochild', 'thelittlebunn', 'TheRealATCinema', 'TheRealKamerynB', 'TheRealLaBruna', 'TheRocketRalph', 'thesageRR3', 'thescorpio69', 'theTRminator01', 'TheUncannySnail', 'TheWhaler', 'thewhovianjedi', 'theyhatetaylor', 'theylovejills', 'thiccoangelos', 'thirtywaytrai', 'thom_ahs', 'Thomas_Quig', 'ThomasDeshon', 'thomasewalter', 'thornsberry44', 'threadslut', 'threatofjoy_', 'Thrillho22', 'thrown_salad', 'thumphries06', 'thvggadej', 'TiannaDeGroff', 'tianrossi', 'tiaralo_', 'TiaraMonee', 'tiffanyharttt', 'tiinyy__', 'tim_ronquillo', 'TimConnellyMD', 'TimJMasterson', 'timmy_albers', 'TinSoldier6', 'TJD2755', 'TKyzer', 'TNRLM', 'Toady86Nj', 'TobyBaratta', 'todayimbecca', 'toddmitchell550', 'ToExcogitate', 'toiletliner', 'tom_mcmurray', 'tom7275', 'Tomm117', 'tommygun083', 'tonebonebeats', 'tonightisabel', 'TonsOfFun16', 'TonyLoveTwinkie', 'TonyPlayboi', 'Too_ManyFaces', 'TooNastieTTV', 'toothpickisgay', 'TopherWaree', 'Toraad4u', 'tori_shorty00', 'tori123isabella', 'totally__kyle__', 'Towndog3', 'traplord_doober', 'travelinman1966', 'TravisYoung12', 'BrendanMortimer', 'brennanccaber', 'brentkuluris', 'brettdonar', 'BrettJ33', 'BrettJamesGallo', 'brewestry', 'bri__henderson', 'Brian_PriceNYC', 'brianalin99', 'briannaaa_janay', 'brianulizio', 'brianxdin', 'briiivn', 'britjax', 'BritnyBollinger', 'britt_mallow', 'Brittany_Lynn__', 'brittt__3', 'brittyrog', 'brivashti', 'Brivnna_', 'bro_salie', 'brock__copas', 'brockshort_', 'BroganDaphne', 'BrokePanda', 'Bronnystixx', 'brookeeegabriel', 'brooklynmc04', 'brooklynpstory', 'BrookRaccoon', 'BrownjulieJulie', 'Bryan_275', 'bryan_mooore', 'BryanaPaulino', 'Bryce_imai', 'bryceless', 'BSlimInDaCut', 'Bubba9856', 'buckyp_', 'Bullet546', 'BummerTime', 'bunnalien', 'BurmistrzakJ', 'ButchWal', 'butterbaugh15', 'buzbeebooks', 'Buzzkill59', 'byee_feliciaaaa', 'bylauragomezr', 'byLaurenTaylor', 'byowenbenfield', 'Byron_Pineiro', 'C_Staxxz', 'C0rpsePimp', 'CA_DiPasquale', 'cachetitos__', 'caitiewompus', 'Caitikinns', 'caitlinrain', 'caitlyn_ashh', 'caitonw12', 'Caitynedwards27', 'Caleb_3624', 'calista_kweon', 'CallaghanPeter', 'callienicole16', 'Callumgraphy', 'calnevsafety', 'cameronrene34', 'camfaiith', 'camlee60', 'Cammeh18', 'campbe11emma1', 'camrebidue', 'CamrinPfluger', 'camronmoniz', 'camrynlee104', 'CANC3RBOY', 'candicetobin', 'CaptainBarks', 'Captaincartoon2', 'carguybilly', 'carliejohnson01', 'CarlitoManchito', 'carlmb88', 'CarlParnellJr3', 'carly_reed15', 'carlygobbie', 'CarlyTargaryen', 'carm_baio', 'caro_number7', 'carolinemanno', 'carolynholtt', 'carolynrlundin', 'CarrilloWestley', 'CarsonEWallace', 'carupanero', 'casenieb', 'caseydanielg', 'cashbackid', 'cassicalthings', 'cassiepurry', 'CassKyla_', 'catejanusz', 'catwarships', 'Cauble', 'CBD1129', 'cbdwaterbed', 'CBosley_7', 'ccgirl', 'cchauvet', 'CezerSenpai', 'cfhockey35', 'CG10_CESAR', 'CGang85', 'CGarrettPadilla', 'CGH_x_', 'ChadajahKooper', 'chancebright', 'chaneIIas', 'Chappie60Noah', 'CharlesRandolp3', 'CharleZeus_', 'Charliesmith87', 'charliewplatt', 'charnetzki3', 'Chase5021', 'ChaseSamuelson', 'Chavard11', 'ChavezGilci', 'chedfisher', 'cheesenip14', 'ChefDee98', 'chestmedicine', 'Chey_enn_e', 'chhhloooe', 'chiaropteran', 'chicagooan', 'chiddy_O', 'childs_trent', 'ChiTownLawyer', 'chlo_ariel24', 'Chris_Ogden08', 'chrisdanne2', 'chrisdesalvo34', 'chrisfauxta', 'chrisgoodmanlex', 'chrisknowlestv', 'ChrisLevinson', 'ChrisPalmiero', 'destinylafave22', 'DestinyMac1', 'dev_monet', 'deviantlight1', 'DevilKnotty', 'DevonAdams11', 'devonhailey31', 'deydey_14', 'dezthecreator15', 'dfeurnek', 'diacobraaa', 'diaksnkayaks', 'diamond_022', 'dianadotjean', 'dianejcarter', 'dianeri5', 'Diesel2199', 'dietsch', 'dinoLAUR99', 'DirtyGert', 'disco_socialist', 'DittrichDawson', 'divinedierra', 'DjMatchiz', 'Djones_25', 'dkbascom', 'DKR_independent', 'dmays31', 'DmitriyKizhikin', 'Dmpe_141', 'DocHoIIiday', 'DOCTORHELLOW8YM', 'DohnJolsen', 'Dola_Billz_954', 'Domi_vivian15', 'dominiiique__', 'dominique_micha', 'DonataLueck', 'dondvjr', 'DonJonSlaughter', 'donna__morales', 'dontpanic1955', 'Dope_Desi', 'DopeBoyFrench', 'dosnostalgic', 'doubl3_E', 'DougKlaaJohnson', 'DpressoExpresso', 'dr0ss34', 'Drake_Kuyper', 'dramaticclaire', 'Dran0n', 'Dray2Arrogant', 'DRDishman', 'DrewRivello', 'drewskiroooski', 'DrFredPHS', 'DrIanWeissman', 'drkwingduck', 'drnknluvv', 'DrRandyFriese', 'DrTiffTaft', 'DruncleSamm', 'DRVGXNKXNG', 'ducksinrows', 'duenas_irving', 'dumbrunaway', 'Dylan_Vitale23', 'DylanBusby19', 'DylanDunman', 'dylanw', 'dylegendairy', 'DysIsMatthew', 'DysonReagan', 'EastCoastBlazed', 'EBAlvarez', 'EbkNoah', 'eccentric_mia_', 'EchoPlusCOD', 'eckomitchell', 'Ed_NewsJunkie', 'Editorspic', 'edumbass_', 'eebarnes1400', 'efboltz', 'eidetickinetic', 'eIlipses', 'ejayboii', 'ejw__', 'ElainaPickles', 'eldritchfeline', 'elenaalece', 'elicelestecohen', 'elisa_rdrgz', 'elise__fowler', 'elizabethkuebel', 'ElizabethMAlex', 'Elliegator123', 'Elliott_Sadler', 'elms___', 'elsafuerst', 'embee13', 'emberrs', 'EmEllllis', 'emhull3', 'emidesudesu', 'EmileeCornelius', 'emilllyyy07_', 'emily_flaig', 'emily_haden1', 'Emily_MacIntyre', 'emilyliford', 'emilylong2020', 'Emilymariebohn', 'emilypoet25', 'Emilyy20Emilyy', 'emilyycamposs', 'emilyyspraker', 'emjayjacko', 'emjb53', 'emma_palmer14', 'emmadonnbledore', 'EmmaLetky', 'Emms317', 'emmy_hxpe', 'emmykate62', 'emokidsforever', 'emricchini', 'emsbari', 'emsdan148', 'Ena_Hodzicc', 'endlesspoptart', 'energy_ann', 'eraserheadbabby', 'ericabmel', 'EricaDavis00', 'EricelleC', 'ericjschuster', 'EricSeconds', 'erikamarcenaro_', 'erin_belle_', 'erinn_ward', 'errnchristine', 'Ese_JJ7', 'ESFordo', 'EthanBrownMyrda', 'ethanmulligan17', 'eurobeatboomer', 'EVA1778401130', 'evalporter', 'EveKaitlyn', 'evelyn_llanas', 'evelynegrace01', 'evilchrisj', 'eyeamminotu', 'eyelightter', 'eyesonthestars_', 'ezra_elise', 'F_Hall', 'F3CousinIT', 'Faeron93', 'fairygodmary', 'faithlhall', 'faithschmidttt', 'falcowitz', 'FalenGillespie', 'faroffeyes', 'farstarsys_gary', 'fatboyoso', 'fdknight', 'fedor4', 'FeehanPres', 'felicityokay1', 'feliidaes', 'felip_aye', 'fenbrazier', 'FeralCatholic', 'ferrermd', 'FFefnir', 'FFHrtBrkn', 'ficklenuts', 'finessedmyself1', 'firebreather144', 'firewat4', 'FlawedDreaming', 'Flayta_', 'fledglinguistic', 'Fletchlight_', 'FloatingFishPoo', 'FloppyGoffer', 'flor_demaga', 'flowers_anis', 'FM_DarkerHorse', 'fmkillakid', 'FnAmazing23', 'FocusedCompound', 'foreverNadiaaa', 'FortniteFeet', 'foxgopher', 'fran_elaina', 'francojvcky', 'FranSzpylczyn', 'frazzledjazz', 'FreakingxFeb', 'Freny101', 'FrenzyJW', 'Freuds_Worst_Rx', 'FriskJoshua', 'Frogofthelaw', 'Fromaista', 'Frostay_', 'fucknewport', 'fufflebutt', 'FurnariMichael', 'FutureTroyTTV', 'FyerFistAce', 'FynnBurow', 'g0rnelas', 'gab_matthews', 'gabby_reding', 'gabbyjaaay_', 'gabbyndavis', 'GabiDay1', 'GabrielSander20', 'GACKSTETTERLEII', 'GageColeman0404', 'GageDinan', 'gamewillpdx', 'garciaisabellac', 'garv67', 'garza_mackenzie', 'gav_jacobson', 'GavinPrestonMD', 'gawdz0rz', 'gayvalkyries', 'gayyyybe', 'gecaj_chris', 'Geeky_Jay9', 'Geena_Nichole', 'GenAirwreck', 'genebeesknees', 'GenerikAsian', 'Geniviva', 'gentledragon66', 'GeograspTV', 'georgieeeeadae', 'GETSETFREENOW', 'gettemchris_', 'gettinghighwith', 'Ggarconcomedy', 'ghbledsoe', 'gianna_mcmahon', 'gigigonzalezzz', 'GildedSantiago', 'gizzz23', 'glacich', 'GlobalMediaBuzz', 'glowitter', 'gmalmatos', 'gnostica64', 'goalkeeperking1', 'GOATGabriel', 'goawayhav', 'gobet34', 'GodFatherTTP', 'GodsLoveHeals1', 'GoldenDonQ', 'goldilx16', 'GoldSoulSwank', 'Gomena_SIKE', 'GonyeaBryant', 'GoodBoy10204293', 'gopvikeen', 'gothamshitty', 'gothgranny_', 'Grace__Tuttle', 'Grace3305', 'GraceDwyer5', 'Gre7gL', 'GreasyTonys', 'gregavilashah', 'gregbroadwell', 'gregorypoor', 'grevealyssa', 'GriffithJen', 'GrimAllison', 'GrinsteadChad', 'grxpejuice', 'GT_M162', 'gtfohar', 'guerrette79', 'gummybears1300', 'gurkinboonloop', 'gutterbruja', 'gwydfam', 'GYoung3017', 'ha13yparks', 'HaghighiHannah', 'hailey_reiter', 'HaileyBanks_', 'haileytirado', 'Hairweaveboss1', 'HakethKOTB', 'Haley___ellis', 'Haley_T_143', 'haleyeyeyeyey', 'haleyglaze18', 'haleynicohl', 'HaleyTadlock', 'HaliPawz', 'Hallibolfa', 'halliegh123', 'hannah_storm15', 'HannahBasques', 'hannahcpreston', 'hannahluzu24', 'hannahreneee2', 'HannahSternburg', 'Hansolocup3', 'haplessromantik', 'hardway21', 'harryburns5680', 'harrykay4', 'HassingerAmanda', 'HastenSays', 'HayChristine23', 'HaydenByers5', 'Hayyydean', 'hbk_korbo', 'headphoneblastn', 'heatherswifty', 'Heights97186652', 'hellahellacious', 'herbertholler', 'hethrnes', 'hey_claire', 'Hey_Meghan', 'heykatiemay87', 'HeymanShari', 'heymiax', 'hglolz', 'HipHopHeadJerry', 'HippyHill_', 'hiraeth_ruby', 'hitaylord', 'hitmekb1mortime', 'HoeBeans', 'hollabackhays', 'hollalalolly', 'holland_tkp', 'hollertheballer', 'hollishamilton', 'holyheckitshope', 'HooliganNY', 'HopeNoellee', 'hopkinsian24', 'hornypancakes', 'Hounddog8434', 'HowBoutDemOsHon', 'howdy_ann', 'hrobert454', 'HRokadiaMD', 'https_maddie', 'htx_campbell', 'HuangNicholaus', 'Hudsomania', 'hueholtmadison', 'hughbartling', 'chrispullen23', 'chrissth14', 'ChristianBd_', 'christianminaj1', 'ChristiansFeed2', 'Christianxcviii', 'Christie_Ileto', 'christinakc_', 'christmasace', 'Christo52317208', 'christy_eckels', 'chrisvxz', 'ChronicTami', 'ChyC_', 'ciiarajade', 'cilla_contreras', 'cincity809', 'cindykrzmz', 'CindyMonty', 'cispt2', 'citgoman21', 'CityofCalabasas', 'cjenmm', 'CJF_NC', 'Cjkapp', 'CJTrey_5', 'ClairReynaud', 'Clay_casey', 'ClayNFerno', 'clE_aaron5', 'ClintNims', 'Cloudyktae', 'ClovisMint', 'cmcdevitt23', 'cmjohnston06', 'cmoc14', 'Cmularz_3', 'CoachMeMaria', 'CoenLollis', 'Coin_Mutt', 'colbi_maurer', 'ColeIchida', 'colin_jackson5', 'CollinStan', 'Colton_Mc23', 'ComfusedBangtan', 'Connee_Marie', 'connolly_carrie', 'Connor_Reid40', 'ConnorChinnis_', 'ConnorDensmore', 'Connorlassiterr', 'continuants', 'coolhandjennie', 'CoronaCoreanici', 'CoronaIsmerai', 'CoryPerry', 'coupscorgi', 'CourageousAmy_', 'courtcat55', 'courtdoeshair_', 'CourtneyLuther4', 'courtpaigee11', 'CPart24', 'CptxCurbStomp', 'crazyprofessor', 'Crington', 'cristian65o', 'Cromero5oh', 'crystallinesd', 'csmurray27', 'CucinaDominic', 'curanderarella', 'Cutepacabra', 'cutetiapine', 'CvilleCyber', 'cyd_curle', 'CydTrilla', 'cymiller14', 'cynconant', 'cyntiaa167', 'D_Wilcoxson', 'Dabbin_Daddy', 'DaCucster15', 'daddierika', 'Daddy_Defoe', 'dadnamedbrad', 'dafarnum', 'dafranchise_', 'daiSenseiLunas', 'dallasmcglaun', 'Damarii_98', 'DamonGJY', 'dan_ilag', 'dan_tracey3', 'danielanievesss', 'danielehare', 'DanielElkin', 'danielleward', 'DanielS2000b', 'danijunebug', 'Danikawall2', 'DaniSki13', 'dannnimorgan', 'DannyEstrada20', 'danpincus', 'Dante_Etnad_', 'darrenrovell', 'DaRUDEMAGAZINE', 'DataDavidDeluxe', 'davedaniels', 'davegoldhahn', 'davemanuel0', 'David1904OG', 'David36191644', 'davidgsIoT', 'davidheinzmann', 'DavidRFisher17', 'davidsalix', 'dawwveeed', 'daydaay', 'dayman23', 'DaynaWilson3', 'DBagg_', 'dcckm', 'ddias0014', 'ddouglasgoody', 'deasiabethea28', 'Decal_Gal', 'deeply_Zinc', 'deesbarbara', 'Default_Dalen', 'deisi_xoxo', 'delaneyyschmidt', 'delgado_hunter', 'deliasalcido', 'DenverCartwrigh', 'Denverdood', 'derek_morris97', 'DerwinWorrell', 'DeSchlong', 'huhwhatmoo', 'Hullzyy_', 'hunterhill89', 'hunterrrmartin', 'HunterRuthhhh', 'huntthegoat', 'hxxxneybee', 'hyeyoothere', 'hyjjus', 'hyme_lexie', 'HyperboleGrant', 'iamjohnnd', 'iamtheschmidt99', 'IBussolotta', 'IcarusCrusader', 'iDraMattic', 'Iewdish', 'ight_b', 'IilShammy', 'iitskels', 'ilianadays', 'illestdamon', 'ilovealexisa', 'ilovesparky3', 'imadamcollins', 'imanilpatterson', 'imDanielValdes', 'ImDeweyy', 'imrustyokay', 'ImSoSarah', 'Imuetinyan_I', 'ImZefx', 'incisivetea', 'indigenous_a', 'ineedmycrown', 'InfamousDucky', 'insta_trixx', 'InstaLukeDuke', 'iOG_eazy', 'Is__hell', 'isaackrakowka', 'IsabellaLitchka', 'isabelsoto_7', 'IsaiahFromThe6', 'IsiahMichael_', 'isisnavena', 'iso__tovar', 'isrodent', 'ItMeansFaith', 'its_cyber_kitty', 'Its_Dragzz', 'Its_Joshhuwa', 'its_melo2', 'its_nicollex3', 'Its_Savannnah8', 'ItsBeeBreezy', 'itsbraybray', 'itsenufalready', 'ItsGracieeBaby', 'itsjustvivee', 'ItsKiddMisfit', 'itsmicchilly', 'itsnotherbie', 'Lori_Charlton', 'lorynveilleux', 'lostlxtus', 'LovelylLeger', 'Lovenrainalways', 'lovingnerys', 'lptutoringco', 'LSwokowski', 'LuciSkydyme', 'lucy_clinkscale', 'lucywright00', 'Luke_Cameron5', 'LukeLaidAndThin', 'LuxasTheMutt', 'lydiaanoell', 'lydiuhhh', 'Lyndsey_Warren', 'LyndsF7', 'lynnchloee', 'lyssammorr', 'lyssannj', 'm_hoag1', 'ma_jess_tic16', 'maaddiieebby', 'mad_th_jed', 'maddi_romeo', 'MaddieAdams02', 'MaddisonNell', 'maddyluvsdaniel', 'madelynerene_', 'madi_schaefer09', 'madikhayes', 'MadisonHerron18', 'MadisonMaelynn', 'madsuder4', 'magdahalina', 'maggie_meehann', 'MaggieGoodrich', 'MaiaBica', 'mailynsitaaa', 'maiwurld', 'MajestyJames1', 'makena1127', 'makhyla_e', 'Mal51560449', 'malaylayxo', 'malia_morones', 'mandersonville', 'mando_iman', 'mandy_j_riley', 'manndo_8', 'maoer11', 'Maralan17', 'marco95altamore', 'MarcusGarza13', 'MarcyMartin07', 'Mari_aaf', 'mari_elyse', 'mariaa_salcedo', 'mariannecoffeyy', 'marinaumm', 'MarissaDavis2', 'marissadeblasie', 'MaritsaNBCMT', 'MARK_N_cheese', 'MarleeHop12', 'martinrangel_tx', 'martyrsdaughter', 'MartyWilliams17', 'MaryBarbaraMar1', 'MaryELosch', 'marymargaretwe', 'marysavage1957', 'marziravioli', 'mashisoyeol', 'MasonJar444', 'Masonpls', 'matt_baldus', 'Matt_Dreamville', 'Matt_Phillips93', 'MattfromBerkley', 'matthardn', 'Matthew69835043', 'MatthewFuller_8', 'matthewlaud', 'MatthewPencek__', 'MatticusKeel', 'MattLabor', 'MattReedNews', 'matzar12', 'mauger_benjamin', 'Mauriciooo_G', 'mawisa_b', 'max_xam82000', 'maxo3284', 'mayataylor_', 'MAZIE58', 'MazurekRebecca', 'mcalel_', 'mcauley_nik', 'McClutherness', 'McGeek77', 'McKenzieSerens', 'mckinziegoble', 'mckira1', 'mckmil', 'mclanoux', 'mcmillan1013', 'MDKnight2016', 'megan_wolfe2', 'meganbb18', 'meganeliseeeee', 'megankill_', 'megannlindstrom', 'megnewman19', 'megpriadka', 'MegSherlock', 'mekaylaap', 'melanatedliz', 'Melissacaton4', 'Mella1281', 'melodyxmason', 'memetrashmom', 'MemphisSanta', 'meredithnoelled', 'metallidan', 'methredandllfan', 'mexicansugarr', 'Meyer_CE1978', 'mfatah281', 'MFFNtv', 'mfraz4', 'MFrederickM', 'mgencs11', 'mheffron12', 'MiaScotttt', 'michael_trotto', 'michael2irwin', 'michaelfranti', 'MichaelM1616', 'MichaelPartida', 'michexposures', 'mightymcdowell', 'mikayla_roch', 'mikaylamaelynn2', 'mikaylaxdavis', 'mikecheck__', 'mikepaddock', 'MikeShe16309299', 'Mikey_BeastBoi', 'milesjoseph3', 'millercorie14', 'MilleRocks5', 'milliexsmith', 'millsyfbabyyy', 'milsgoprod', 'mimij37', 'MindlessLez', 'minhthyfreshh', 'minorthreat1978', 'MireyahWolfe', 'MishaLawless', 'missaa_7', 'MissAngSays', 'missingmyvolvo', 'missjocy63', 'missMARCELA_', 'MistyAue', 'MistyN10', 'MitchOnDrums', 'mitolizard', 'mjb1284', 'MjenniferC', 'mmoe69_maureen', 'mneakin', 'MNM240', 'mochiwovesyou', 'mojo_babe_', 'MollySneed', 'mongibeddu', 'MonkeyBlood', 'Monroy__17', 'monsterscure', 'montalvaan', 'MonticelloHoe', 'MonyQ', 'MoonMan_Jay', 'morgan_mckeel', 'Morgan9Ashleigh', 'morganlpitre', 'MoryKamara1', 'MoserAlexis', 'MOSHxSPICE', 'motelroses', 'Mousetr_p', 'MR_Classic_', 'Mr_JWalter', 'mrcleankickz', 'MrForsbergLHS', 'MrGoodluckXXX', 'MrMapleShade25', 'mrschimpf', 'mrsdelagrange54', 'MrSmiLeS666', 'MrTrevorHamil', 'Ms_Cecere', 'ms909698', 'msoto1210', 'mswanncx', 'mukurong', 'mulderisgay666', 'MundellRobert', 'munky_strike', 'musa_mtk', 'MustafaAlawad9', 'mvtt17', 'Mxrlene44', 'mxrquez___', 'MxTorrieFoxx', 'mylilbrothers', 'myrtleinjurylaw', 'mystikx20', 'mziobro_', 'n_tommy8', 'nabbypatty', 'nadinefares61', 'najabailey', 'nali2hotty', 'NancyatHeart', 'nanisalinas20', 'naragclan', 'narissafbrokob', 'NataleyNeuman', 'natalie_anaid', 'nataliefournell', 'NateNashGetCash', 'naterip9', 'natewrussell', 'nath_ngo20', 'NathanielWadeB', 'NathanRamsey3', 'nathansmart', 'natitti_', 'natlay13', 'natsilletti', 'Nattydaddy95', 'NaveC101', 'NealTena', 'NECR0PARTY', 'nedalai', 'NekoMainBTW', 'nellymedd', 'nemily65', 'Neospicer', 'nepalesruben', 'neptuneelevated', 'nervoucities', 'NessaMcmains', 'newdygobil', 'NewfoundNolan', 'nfgshae', 'nianextdoor2', 'nicholaslee137', 'nicholasmowatt', 'nick_guarino3', 'NickBridgeford', 'nickdobbins22', 'NickTheBullsFan', 'nicole14england', 'nicoleewagner8', 'nicolesusanne21', 'nifi22', 'NIGHTCR37274702', 'Nightlinez', 'nightsinger1942', 'NightVIIX', 'Nikhail13', 'nikimaghzy99', 'nikkiatkinson', 'NikkiSpeech', 'NinjaEconomics', 'nityed', 'nizaddy', 'NjayColes', 'NKidiwa', 'noabournexo', 'noahalex35', 'noahestes07', 'nochillciera', 'nofckss', 'NohelyMejia3', 'nolandawson_', 'NoRAd_Alpha', 'NorEizlan_', 'nositam', 'nostalgic_leah', 'Notcarlosmendez', 'NotCody00', 'notnicolaa', 'NotNova_', 'notorious_val', 'NotoriousIanV', 'notquitespooky', 'novarose92', 'NoworNever713', 'ns_cameron', 'NtJustAnnieBody', 'nuggette__', 'NuggleTheKelpie', 'Numb_Nessa_', 'Numbskill4Real', 'NursesCircle', 'nutmeggles', 'NVCrittenden', 'nvmdes', 'nvthvnmville', 'nyccookies', 'NycCris914', 'octalmage', 'odd_dawn', 'officialmaurixo', 'officialxjuliaa', 'OgAckerman', 'Oh_Ivanna', 'OhColeman', 'ohhoneysenpai', 'ohktbaybay', 'OhVonda', 'olandgren', 'oliveratlanta', 'olivia_hickey_', 'olivia_karene', 'oliviaaanne_', 'oliviaevannss', 'Olmedic', 'omar_lizardo', 'omgitscaelyn', 'omgreshanna', 'omwtfybimd', 'onlinevalerie', 'Onlyjuanchance', 'opelikaaligator', 'orangRabb', 'OrigerWyatt', 'orlandomicki', 'oscarmventura', 'Osufan_71', 'otis', 'ottoparxx', 'ovinedreams', 'owenwhatever', 'ox_aln', 'Ozzy_Statesman', 'P_wilson83', 'PacHS_Calabro', 'paige__Lupo', 'paigealage', 'paigemc911', 'paingloss', 'PamRotella', 'Panase31', 'PaniceAllyssa', 'papa_shmup', 'papatvans', 'papi_kyungsoo', 'papito_anml', 'park_anders', 'parker_todd_', 'ParkerSchrempp', 'ParkeyJennifer', 'PatsfanToro', 'PattMiles', 'PaulCurtiscoop3', 'paulinedelekta', 'paulstorms', 'Paydenstrizzle', 'paytonarber', 'Pbrandt4369', 'peachystoner', 'PeachyVal__', 'PenaSteele', 'penelope8226', 'Penniii21', 'PentagramPizza', 'pentagulia', 'PepinLachance', 'peterhassett', 'pfannyyy', 'Phelps_c98', 'PhelpsRyan19', 'Photog_JohnB', 'phouch', 'pieceofsalamis_', 'piercetherose', 'PiggyNukka', 'Pimpcenta', 'Pinkychelle', 'pinkytatum', 'pk_scm', 'Plasmaphobia', 'platano_shawty', 'playboichloe', 'playboydevooo', 'plees13', 'pmatons', 'pnwemma', 'pok3cs', 'pompey_lucas', 'poohwoozy', 'PoppaTheNegus', 'PPonsetto', 'PreischisRight', 'prettyandplummp', 'PrezWorldwide', 'PrincelyOnion', 'Princess_in_NY', 'princess_renaaa', 'PrincessBlaize', 'princessoframen', 'Princessscamm_', 'princessshenk', 'Prodigy_JayBee', 'Prplhaze101', 'psepi', 'pugz1lla', 'puppermario', 'PupWrecks', 'Q_SWAV', 'QuathyInTheSky', 'queen_harleen46', 'Queen_Miasma', 'queenadavison', 'queenawoo', 'queenbreeen', 'QueenCece_xo', 'queendollhouse', 'queenofthesou1', 'queenxmads', 'QueerPlatypus7', 'Quiggaveli', 'QuileIsREAL', 'quinntucky2', 'qvbrs', 'R4JAH', 'RabbsterMatt', 'rach_greenspan', 'rach_wanderer', 'rachel_m_rogers', 'Rachel3299', 'rachellabbq', 'rachelnoel__', 'raeee_kayla', 'raevans22', 'Raging_Air', 'RaimoPalmiero', 'rainb0w_hat', 'raleldil', 'ramielanude', 'ransabot', 'raquelcalvoo', 'raquuuel_l', 'RaShAd_HuGhsToN', 'raviroy23', 'ravkae', 'RayRay1814', 'raysullivann', 'RCxrly', 'Rdusty10', 'realChadJohnson', 'realKaraLynn', 'Travy_Trav_Trav', 'TrentDwyer30', 'trev_sim', 'Trevor__brown17', 'treywolfe45', 'TribeCalledSeth', 'TriciaNolfi', 'TrishQuade', 'TroyMickle', 'truewert', 'tsa_hai', 'tszymczak', 'Tunaconca', 'turntheJHEATon', 'tvalife', 'Twan_Tucker', 'tweetingLEB', 'tweetyrealtor', 'twentyy_8', 'twistedup_Nside', 'TwitchTreehop', 'txhoneydip', 'ty_shawnna', 'tydollatree', 'tyler_gulledge', 'TylerInTheMakin', 'TylerKing_2', 'TylerOlson1791', 'tylerr_thompson', 'TyParsons_FTM18', 'typeogregative', 'tyramjb', 'uhhmeritus', 'Uhleessa96', 'UmTAW', 'UnbreakableHate', 'UncleBob56', 'Unique_By_Angie', 'unique_lache', 'Unitederaa', 'Unknown_SoNn', 'UnspokenWxve', 'uplinkal', 'uraww', 'urfavmarissa', 'ursa_majors', 'usagiibunbun', 'uwubabi', 'v_mengden', 'valenntinarave', 'ValerieDiS', 'Valkyriri_', 'VanErtMason', 'VanessaDenise12', 'vanessamejia69', 'vanilla_lovve', 'vapes_2_much', 'VarfolomeyMoose', 'vataormina', 'veganvirgang', 'veixms', 'Verbesity', 'verzachyy', 'VicCudi', 'vicemackingtink', 'VictoriaSenese', 'victorsamayoa45', 'VikkiFusco', 'VintageProblem', 'VirginiaEllis14', 'VirtualFrankie', 'visitingghost', 'vittoslukas', 'VMHS_Ritchie', 'volleyball_1999', 'vondishea', 'vperez180', 'vriless', 'Vsierraj17', 'vvilliam_', 'VzNchy', 'Walkerkiara6', 'walkingbazketz', 'walkthesun_', 'WANDRSPHRE', 'WarrenSuperT', 'WATITIZWATZUP', 'Watson30_', 'WaylandGuidance', 'waywardstrav', 'WeaselWords', 'wendy_guajardo1', 'Wes_wiens16', 'WesCurnow', 'WestCaitlynn', 'WeThePeopleSOS', 'wheelisolivia', 'Whisper_Willo', 'whlsk3ydoq', 'whoiscrura', 'whoiskaylee', 'whosjoey_', 'whtvrianna', 'Why_Vet38', 'Wickerpedia', 'wiggeth', 'WildChildSamuel', 'Wildheart_Baby', 'wildkatttt', 'Williamson_SR', 'willschabby', 'willtraube', 'Willy_Rozay', 'WingDeath_77', 'woahh_daee', 'woahhduddde', 'wolf_ezo', 'WOLFGXDD', 'wolfofeastside', 'wootmoot', 'wordfromamabird', 'WordsmithWyle', 'worldisstoned', 'wow_imnotcrazy', 'wright_brooklin', 'wrwagner97', 'wrxcrae', 'wvnkv', 'x_cilla', 'xbeautyxtruthx', 'xembearx', 'XenoCG', 'xi__exe', 'xjuicyjakex', 'xkikibaby', 'XLcshe', 'xm_Cassie', 'xnatallliiex', 'xo__sel', 'xoargxo', 'xoashyboo', 'xojanaisiaxo', 'xokhaleesi', 'xolaibaaa', 'xSHOGUNDo', 'xtinaaaaaa', 'xUnicorn_Gaming', 'xxbonnie', 'xxkcxxmariexx', 'xxpaigelovesxx', 'xXRageXSlayerXx', 'xxwindixx', 'Y2ktagAdam', 'y2vonne', 'Yabroski_Ray', 'Yalocaldoughboy', 'Yankeluh', 'YAWKYAWK', 'yburyug', 'yellojmas', 'yeoldemack', 'yo_alaan', 'yogirlkaleigh', 'Yoloderr', 'YoNickey', 'yoonminsnana', 'YorkHouseCleanr', 'YouKnowJarod', 'YoungGas6', 'youngjoe33', 'youngtoering', 'Yourfavjenn', 'yung_quick', 'Yunghatedbelo', 'YvetteManes', 'yvngbronchus', 'yvonneeruiiz', 'Z32Ju', 'zachkobayashi', 'ZACHSORAVEN', 'ZacOutLoud', 'ZaliasFGC', 'zeldabynight', 'zepy32', 'Zgs_Apollo', 'ZionDood', 'zmeadows_18', 'ZoeBerrier', 'ZoeCalamaco', 'ZoPeachy', 'ZTheBest33', 'ztran53', 'zzzakari4'])"
      ]
     },
     "execution_count": 3,
     "metadata": {},
     "output_type": "execute_result"
    }
   ],
   "source": [
    "tweets_1145.keys()"
   ]
  },
  {
   "cell_type": "code",
   "execution_count": 4,
   "id": "0dd9709c",
   "metadata": {},
   "outputs": [
    {
     "data": {
      "text/plain": [
       "2678"
      ]
     },
     "execution_count": 4,
     "metadata": {},
     "output_type": "execute_result"
    }
   ],
   "source": [
    "len(tweets_1145)"
   ]
  },
  {
   "cell_type": "code",
   "execution_count": 5,
   "id": "f1988f56",
   "metadata": {},
   "outputs": [
    {
     "data": {
      "text/plain": [
       "['@_spacejamtwo THIRTY WHAT',\n",
       " 'I love my best friend https://t.co/f1fhHWmEK4',\n",
       " 'THANK YOU https://t.co/iGF1lyEWI0',\n",
       " '@_spacejamtwo I genuinely can not gage the size of you in this photo and it bothers me',\n",
       " '@hanpanmangaki IM SCREAMING THIS IS SO AMAZING!!!!!!!',\n",
       " 'OH MY GOD ITS ME!!!!!! LOOK AT HOW AMAZING THIS IS!!!!!!!! https://t.co/kgQJjgDNni',\n",
       " '@joonmoonchild @Scootsies ITS BEAUTIFUL',\n",
       " 'I am selling kf94 masks!!! Please dm me if you are interested!! Would appreciate rts 💖💖💖 https://t.co/sIpIrjXXlX',\n",
       " '@sukixtsuki 🥺💖',\n",
       " '@meixins THANKS MEI💖💖💖',\n",
       " '@sukixtsuki Islynyc on jnsta!!!!!!',\n",
       " 'These are real glasses and not a snapchat filter,, OKAY!? https://t.co/Dih01yzeLX',\n",
       " '@h0tcomedian Charge them double instead',\n",
       " 'My chris evans white sweater 🔪 https://t.co/3cr4DDfgiN',\n",
       " 'Its my best friends birthday!! https://t.co/T5gtX1kzNw',\n",
       " 'Im only here to upload selfies lmfaooooo https://t.co/T7xp5xctaI',\n",
       " '@joonmoonchild LMFMAOOS WHAT?!?!?',\n",
       " '@h0tcomedian THANKS GIRLLL',\n",
       " 'Bitch!!! I cut my own hair!! And look how well it turned out!!! https://t.co/uJgSetVJ9K',\n",
       " '@fairestbear LMFAOOO IRELANDDD',\n",
       " '@joonmoonchild 🥰🥰🥰',\n",
       " 'Im still here on this hellish app https://t.co/NaQA1K2Ojd',\n",
       " '@joonmoonchild BIIIITCH!!!!!!!!!!',\n",
       " '🍀🌷🌱 https://t.co/Djyh7pRERQ',\n",
       " 'https://t.co/8pW5k8ihWj https://t.co/2WwyFqKc5A',\n",
       " '@kelsonouveau @Scootsies OH MY GOD!!!!! THIS IS SO GOOD',\n",
       " '@jeanchloebae NOOOOOOOOO',\n",
       " '@jeanchloebae Fking universal and disney are both like this omfg',\n",
       " '@jeanchloebae OMG???/// OH MY GOD WHYYY?!?!?!?!?!??',\n",
       " '@meixins YOU CAN BOOKMARK EVERYONE ON AO3 😟😟😟😟😟😟 how is your computer not overheating?',\n",
       " '@meixins MEI,,, WHAT THE FUCK,,,,,,',\n",
       " '@andreylpatino 🥺🥺🥺🥺',\n",
       " '@fairestbear BABY GIRLLL💖💖💖💖💖',\n",
       " '@n0tmiki https://t.co/5L6IfYsjdw',\n",
       " 'if you look the right way, you can see that the whole world is a garden https://t.co/OJ5ceyICXX',\n",
       " 'My heart just dropped https://t.co/ZKdtPINcJC',\n",
       " '🌿🌿🌿🌿🌿 https://t.co/N9SC8p4spf',\n",
       " '@makdoongie KIA ARE U OKAY?',\n",
       " 'Sometimes the best part of tiktoks are the comments https://t.co/LdlNfdUxNu',\n",
       " '@jeanchloebae Everytime i see a korean with a small white dog, i just call them coco',\n",
       " 'dressed up for my besties wedding 💐☀️ https://t.co/RhEdicMc0H',\n",
       " 'He looks like milktpapi https://t.co/kHUneZZHWU',\n",
       " '@ghostliest Holy fucking shit bitch!!!!!!!!!!!!!!',\n",
       " 'The pants are jacquemus! I loved them, but they were the most ridiculous pants ive ever worn 💗',\n",
       " 'Old photoshoot 🌆 https://t.co/BAxEMtvv5g',\n",
       " '@_spacejamtwo THANK YOUUU',\n",
       " 'Wedding time~ https://t.co/4RaPSCg0dI',\n",
       " '@fairestbear I love you too💝💖💓💜💚❤💛🧡💗💖💕',\n",
       " '@fairestbear IRELAND MY SWEEET GIRL 🥺🥺🥺💖💖💖💖',\n",
       " 'Kylie jenner tipped $20 on a $500 bill and someone said \"i really think kylie thinks $20 means 20%\" LMAOOOOO',\n",
       " '@meixins omg nvm BAD BITCH STYLE WITCH',\n",
       " '@meixins big waves with braids!!!',\n",
       " '@CHVRCHGHOST ooooh i love your ocs omg!! im still looking, but ill keep your page bookmarked tysm!!',\n",
       " '@ArtHollarity tysm! im still looking around, but ill definitely bookmark your page ❤️ love ur art btw!!',\n",
       " 'if anyone knows any artists that are open for comissions, please let me know! or send me their @ ! please share this tweet if you have other artist friends !',\n",
       " '@doroleung wow ur style is absolutely beautiful!!!',\n",
       " '@ghostliest @earlgreymlkt i gotchu ;D',\n",
       " 'i got the cutest birthday present ever from @mintigum 😍😍💝💝💝💝 artwork by @cath_leaf !!! https://t.co/xDdJ2W9RcO',\n",
       " \"If someone accuses you of something, they are most likely the one doing it or have done it to you otherwise it wouldn't be in their world\",\n",
       " '@meixins U already know https://t.co/aCNdhJWO1b',\n",
       " '@zenwenlin LMAOOO',\n",
       " 'Please enter my friends cute ac giveaway!!! https://t.co/ZK0ajmLVJh',\n",
       " '@meixins Hey girl 💕 how you feeling about boshs arms :) https://t.co/APycV8eYK1',\n",
       " 'SO CUTEEE!!!!!!!!! https://t.co/ZK0ajmLVJh',\n",
       " '@yournoodleface Hi! Can i go over?',\n",
       " '@carly_vol6 Hi!! Can i come over and sell??',\n",
       " '@mariibelmm Please dm me!',\n",
       " '@jeanchloebae LMAO THE BAT SIGNALLLL',\n",
       " 'People talked about how she didnt have to do any acting bc her character was basically her real life  personality loool',\n",
       " 'I remember when tv crews came to interview all my teachers at the beginning of every glee season because lea michele went to my high school lmfaooo after the cameras cut them, all of them just rolled their eyes and talked about how horrible she was',\n",
       " '@shoplevelups Okay~~',\n",
       " '@shoplevelups Sure! Just let me know when~',\n",
       " '@carl0ws @peachm1Ik Yes! Please dm me',\n",
       " '@mariibelmm Yes! Sorry, did u still want to come?',\n",
       " '@peachm1Ik Discord!',\n",
       " '455 for turnips! Anyone need to sell??? #acnh https://t.co/XCAoJ8CIuy',\n",
       " '5 years ago! I ran into david tennant 😍😍😍😍 hes still my favorite doctor 💗💕💖💗💕💖 https://t.co/RylK52IcKc',\n",
       " 'ur the one who tried to sex traffic young girls, right??? https://t.co/ajt2ORcqhA',\n",
       " 'This is how @jerica1798 eats kimchi https://t.co/8ltpT93o2F',\n",
       " '@andreylpatino 😑😑😑😑😑😑😑',\n",
       " '@finaldasa M I C H A E L',\n",
       " 'All this dude does is make tiktoks like this, bc he didnt have the time to respond to my message when i wanted to order flowers for my mom 😔 https://t.co/X27BZrFd72',\n",
       " 'I FINALLY GOT MY BABY BOY 😭😭😭😭 Ill love you forever, my precious baby 💖💗💕💝💖💕💗💖💕💕💝 thank you to @acrycrossing 💝💗💕💗💝💗💗💝💕 https://t.co/fvFsMIVY3m',\n",
       " '@finaldasa That looks like something apple designed smdh it looks sooo uncomfortable too',\n",
       " 'Kevins s t u p i d',\n",
       " 'A series of unfortunate events https://t.co/EKdIathFzM',\n",
       " '@acrycrossing AAAHHHHHHH😭😭😭🙏🙏🙏',\n",
       " '@andreylpatino Im laughing thru my tears man',\n",
       " 'I TIME TRAVELED AND ALL\\n MY TURNIPS. ROTTED. OH MY GOD. OH MY GODDDDD.',\n",
       " '@peachm1Ik IM GONNA CRY I WANT HIM SO BAD',\n",
       " '@acrycrossing Hes so cute 🥺🥺🥺🥺oh my god hes the first one i laid my eyes on when i started ac and hes my dream villager 🥺🥺🥺 i just want him to be part of my island',\n",
       " '@acrycrossing OH MY GOD.... I WANNA REPLACE CHOPS WITH HIM 😭😭😭😭😭',\n",
       " \"@mochiipanko @xppenusa Omg i wanna draw all my children cartoons :')\",\n",
       " '@_spacejamtwo Okay :3',\n",
       " '@_spacejamtwo Ur river just looks like a extra long shlong https://t.co/mLl5Gp1Ndg',\n",
       " '@_spacejamtwo I wanna visit ur island one day',\n",
       " '@_spacejamtwo Hes so quiet, but his presence is vast',\n",
       " 'Omg thats my hair 💖💖💖 https://t.co/q0CsIt5C6W',\n",
       " '@_spacejamtwo @earlgreymlkt THATS SO PRECIOUSSSSS',\n",
       " '@_spacejamtwo LFMMFMFLAKAOOO']"
      ]
     },
     "execution_count": 5,
     "metadata": {},
     "output_type": "execute_result"
    }
   ],
   "source": [
    "tweets_1145['strwbrrymlkt']"
   ]
  },
  {
   "cell_type": "code",
   "execution_count": 6,
   "id": "2f39b2d9",
   "metadata": {},
   "outputs": [
    {
     "data": {
      "text/plain": [
       "['It come wit it 😭 https://t.co/ENyEtlphtP',\n",
       " '@naomisos Thanks bby🥰😘',\n",
       " 'I’m so pretty like &lt;3 https://t.co/EY5cjNtdeI',\n",
       " 'oo u kno u nasty 😋',\n",
       " 'https://t.co/6ZEALkW4Du https://t.co/JSojWWke5f',\n",
       " 'U make my earthquake 🥺',\n",
       " 'My Gemini sun &amp; virgo rising is the reason why I’m insane https://t.co/elyi1uKGJC',\n",
       " 'Im paying all my tickets &amp; never looking back',\n",
       " '@appleesauuce Ya’ll still there? I’m bout to come😭',\n",
       " 'I value &amp; respect my babygirl so much ain’t no man I’m fw meeting her unless we going on some years &amp; he putting a ring on it real talk',\n",
       " 'mfs really turn FED tho',\n",
       " 'My baby 💕 https://t.co/5NBDVYYcZd',\n",
       " 'my demons taking long breaks',\n",
       " 'I feel like I’m going thru a spiritual healing  phase bc the pressure put on me lately has only rejuvenated me✨',\n",
       " 'I was brainstorming right under da sun &amp; I promise u I never felt so enlightened 🧘🏼\\u200d♀️✨ ✍🏻',\n",
       " '@pnutxx https://t.co/vdaWju8iJ5',\n",
       " 'This gotta be a bible verse https://t.co/ruNrSBlvJs',\n",
       " '😭 literally https://t.co/Mq1SzPXOJo',\n",
       " '@yennnnni_ I dead would but I’m in DR rn😭',\n",
       " 'Dame https://t.co/kytyN4MZFg',\n",
       " 'https://t.co/iIqcNiFckz https://t.co/XXUgY7cRGH',\n",
       " '😂😂😂😂😂 https://t.co/ifUhkQPW7H',\n",
       " 'Not barking 😂😂😂😂😂😂 https://t.co/YqVjDqAJVC',\n",
       " 'Oh na somebody get him😭😭😭😭 https://t.co/OFT3xF5LBP',\n",
       " 'I started some shit🤦🏼\\u200d♀️ i been letting my baby fall asleep on my chest lately &amp; now she expects that every night😭',\n",
       " 'I’ve excused cheating &amp; verbal abuse before &amp; that’s something I’ll never do to myself again. I rather die. That wasn’t even me fr 😭 idk who that girl was',\n",
       " 'I personally feel like if u love somebody anything can def be worked out. UNLESS; cheating, physical abuse, &amp; verbal abuse/disrespect. That’s when u lose me 😭',\n",
       " 'Do y’all believe that as stressful as shit could get, if 2 ppl wanna make shit work it can? Or it’s better to move on?',\n",
       " 'some sick shit. https://t.co/UFvbiet4ub',\n",
       " 'no cus this boy writes me poems &amp; I just be in awe 🥺💕',\n",
       " 'It was the what the fuck y’all do😂😂😂 https://t.co/IocL62xH7C',\n",
       " 'Literally 😭 get away https://t.co/QWW58n4n31',\n",
       " 'If u too serious &amp; opinionated we fuck around end up beefin 😂',\n",
       " 'I can’t hang around judgy ppl bc I ain’t gon hold u I’m a fuckin fool lmao',\n",
       " '😂😂😂😂😂😂 https://t.co/LmUSnywXPG',\n",
       " 'I’m confused 😭 https://t.co/eBwbeJBm3P',\n",
       " 'Always felt like stickin round the same as being stuck',\n",
       " 'If uon do none else, I hope that u stay true 🤞🏻',\n",
       " 'Yo se que dios me cuida pero la muerte me espera',\n",
       " 'Trap look like a school lunch line',\n",
       " 'I gotta give it to myself 🤝',\n",
       " 'my baby’s skin care is really top tier 😭 since a newborn my go to’s are almond oil &amp; vitamin E oil. When I tell y’all her skin so healthy &amp; soft 😩 me la comoo',\n",
       " '@drodriguezll 😭',\n",
       " 'Ion wanna go back 😩😩😩',\n",
       " 'Bro I wanna stay &amp; live in DR 😭',\n",
       " '@103A_ Point made https://t.co/9KHnP1HvHh',\n",
       " 'I protect Pisces at all costs🥺💕 https://t.co/uInlm16H5f',\n",
       " '@_euphoria69 No fr Bc mfs would’ve never even looked that way if it didn’t become a trend 😭 e cigarettes been a thing way before lavas they just didn’t get the same hype',\n",
       " 'I have a theory that ppl who smoke them shits are easily influenced 😂 https://t.co/FlR2yWYPTR',\n",
       " 'let me be more pacific',\n",
       " 'My parents was strict but that just made me do what i wanted even more. them ass whoopings was no joke tho😭 https://t.co/lbYXLfag3z',\n",
       " '😂😂😂😂😭 https://t.co/IjBnB96lgF',\n",
       " 'Wow pretty https://t.co/Kts8QRLRnh',\n",
       " 'I feel so emotionally detached frm everything. Like even things I should be happy abt I just feel neutral',\n",
       " 'shit a scam https://t.co/9WUIgG0SOi',\n",
       " 'wow https://t.co/g0aPlmV1hC',\n",
       " '😂😂😂😂😂 omfg https://t.co/MRqPGkdi5j',\n",
       " 'My baby be throwing herself on the floor when u tell her no 😂😂😂 she really a actress',\n",
       " 'If u not gentle wit me that’s the quickest way to turn me off',\n",
       " 'my voice projected, my life reflected',\n",
       " 'lucky that them bullets went around me',\n",
       " '🥺💕 https://t.co/q9AGYUdRCj',\n",
       " 'some shit I’ll never forget or look past it.',\n",
       " 'stand-offish but fuck it stuck in my ways..',\n",
       " 'I just wan go to a rap battle ☹️',\n",
       " 'Pain runnin deeper than the ocean',\n",
       " 'uon kno what I done been thru I knew I had potential 💜🤞🏻',\n",
       " 'I feel my Taurus moon the most when I’m by myself😭 https://t.co/VLdelV8R72',\n",
       " '@pnutxx 😂😂😂😂😂😂😂',\n",
       " '4ever https://t.co/FbD2Zhkvui',\n",
       " '😂 https://t.co/OKlQMqY5ui',\n",
       " '😭 https://t.co/sp0ekQWxS6',\n",
       " 'self love',\n",
       " 'Lmao 😭 https://t.co/1oRE39AZmA',\n",
       " 'We know u ain’t cut why u lie ?? 😕',\n",
       " 'Might be in love wit Ben Franklin \\nmy only friend 💕',\n",
       " '@jhonnydynamite still the worse substitute 😭',\n",
       " '@jhonnydynamite So what a bogie do for u? 😭',\n",
       " 'https://t.co/87asOFesF0 https://t.co/rvwgrAkSAS',\n",
       " 'had to put my love up',\n",
       " 'No cus why would brioche bread taste so good like that ??',\n",
       " 'Omm😭🏌🏼\\u200d♀️ https://t.co/Y233Ky0cbq',\n",
       " 'Wait a couple months then u gon see, you’ll never find nobody better than me',\n",
       " 'omg i loved their bond https://t.co/MaxGfnw5Ol',\n",
       " '😂😂😂😂😂 https://t.co/tkLeEsv5c2',\n",
       " 'love somebody that can teach me some shit https://t.co/uulNUV9fyO',\n",
       " 'How a person chooses to go abt shit really tell me all I need to know',\n",
       " 'Real life situations a do it 😭 mfs is not cut. https://t.co/DYXu8XHe1l',\n",
       " '@nagciaga 😩😩 girl my titties make me look bigger than what I am 😭 hate it',\n",
       " 'I want one so bad https://t.co/u49KLfe9y2',\n",
       " 'people are so typical.',\n",
       " '😂😂 https://t.co/OpWeZIVllK',\n",
       " 'u aint gotta tell me I know the difference',\n",
       " 'I fear 😭 https://t.co/UxmXObIBk6',\n",
       " 'my daughter really got my whole personality 😭',\n",
       " 'Mfs really turn fed smh',\n",
       " 'gimme dat sweet dat nasty dat gushy stuff',\n",
       " 'if I see her I might shoot the bitch, I should’ve treated her like any other groupie chick🙄',\n",
       " 'Lmao 😭 https://t.co/s4fPvoKVJi',\n",
       " 'Put my pain on my wrist']"
      ]
     },
     "execution_count": 6,
     "metadata": {},
     "output_type": "execute_result"
    }
   ],
   "source": [
    "tweets_1145['___Dals']"
   ]
  },
  {
   "cell_type": "code",
   "execution_count": 7,
   "id": "df3b7ae3",
   "metadata": {},
   "outputs": [],
   "source": [
    "users_1145 = pd.read_csv(\"./labeled_users_1145/labeled_users.csv\", lineterminator='\\n')"
   ]
  },
  {
   "cell_type": "code",
   "execution_count": 8,
   "id": "948c6707",
   "metadata": {},
   "outputs": [
    {
     "data": {
      "text/plain": [
       "1145"
      ]
     },
     "execution_count": 8,
     "metadata": {},
     "output_type": "execute_result"
    }
   ],
   "source": [
    "len(users_1145)"
   ]
  },
  {
   "cell_type": "code",
   "execution_count": 9,
   "id": "1ca98e19",
   "metadata": {
    "scrolled": true
   },
   "outputs": [
    {
     "data": {
      "text/html": [
       "<div>\n",
       "<style scoped>\n",
       "    .dataframe tbody tr th:only-of-type {\n",
       "        vertical-align: middle;\n",
       "    }\n",
       "\n",
       "    .dataframe tbody tr th {\n",
       "        vertical-align: top;\n",
       "    }\n",
       "\n",
       "    .dataframe thead th {\n",
       "        text-align: right;\n",
       "    }\n",
       "</style>\n",
       "<table border=\"1\" class=\"dataframe\">\n",
       "  <thead>\n",
       "    <tr style=\"text-align: right;\">\n",
       "      <th></th>\n",
       "      <th>Unnamed: 0</th>\n",
       "      <th>Unnamed: 0.1</th>\n",
       "      <th>screen_name</th>\n",
       "      <th>user_id</th>\n",
       "      <th>lang</th>\n",
       "      <th>name</th>\n",
       "      <th>location</th>\n",
       "      <th>description</th>\n",
       "      <th>protected</th>\n",
       "      <th>followers_count</th>\n",
       "      <th>...</th>\n",
       "      <th>profile_background_url</th>\n",
       "      <th>profile_image_url</th>\n",
       "      <th>user.name</th>\n",
       "      <th>num.tweets.used.Lexicon.prediction</th>\n",
       "      <th>Lexicon.age.prediction</th>\n",
       "      <th>Lexicon.gender.prediction..index.</th>\n",
       "      <th>lexicon.gender.prediction</th>\n",
       "      <th>human.labeled.gender</th>\n",
       "      <th>human.labeled.age</th>\n",
       "      <th>age</th>\n",
       "    </tr>\n",
       "  </thead>\n",
       "  <tbody>\n",
       "    <tr>\n",
       "      <th>0</th>\n",
       "      <td>0</td>\n",
       "      <td>1</td>\n",
       "      <td>_____zac_____</td>\n",
       "      <td>4.614412e+08</td>\n",
       "      <td>en</td>\n",
       "      <td>zac ¢</td>\n",
       "      <td>Maryland, USA</td>\n",
       "      <td>_____Û___È_Ü´Ù</td>\n",
       "      <td>False</td>\n",
       "      <td>208</td>\n",
       "      <td>...</td>\n",
       "      <td>http://abs.twimg.com/images/themes/theme1/bg.png</td>\n",
       "      <td>http://pbs.twimg.com/profile_images/1226134911...</td>\n",
       "      <td>@_____zac_____</td>\n",
       "      <td>100.0</td>\n",
       "      <td>27.652434</td>\n",
       "      <td>-1.457167</td>\n",
       "      <td>M</td>\n",
       "      <td>NaN</td>\n",
       "      <td>23.0</td>\n",
       "      <td>1.0</td>\n",
       "    </tr>\n",
       "    <tr>\n",
       "      <th>1</th>\n",
       "      <td>1</td>\n",
       "      <td>2</td>\n",
       "      <td>___aleia</td>\n",
       "      <td>7.650000e+17</td>\n",
       "      <td>en</td>\n",
       "      <td>_æ___ dad ___æ_</td>\n",
       "      <td>Ohio, USA</td>\n",
       "      <td>BLACK. LIVES. MATTER.</td>\n",
       "      <td>False</td>\n",
       "      <td>466</td>\n",
       "      <td>...</td>\n",
       "      <td>NaN</td>\n",
       "      <td>http://pbs.twimg.com/profile_images/1271280679...</td>\n",
       "      <td>@___aleia</td>\n",
       "      <td>100.0</td>\n",
       "      <td>24.111464</td>\n",
       "      <td>0.985713</td>\n",
       "      <td>F</td>\n",
       "      <td>NaN</td>\n",
       "      <td>19.0</td>\n",
       "      <td>0.0</td>\n",
       "    </tr>\n",
       "    <tr>\n",
       "      <th>2</th>\n",
       "      <td>3</td>\n",
       "      <td>4</td>\n",
       "      <td>___schaeffer___</td>\n",
       "      <td>1.257110e+09</td>\n",
       "      <td>en</td>\n",
       "      <td>Brenden Schaeffer</td>\n",
       "      <td>The Lou</td>\n",
       "      <td>Culver-Stockton College '20 ¢ Ô_Ô_Ô KM 1548...</td>\n",
       "      <td>False</td>\n",
       "      <td>811</td>\n",
       "      <td>...</td>\n",
       "      <td>http://abs.twimg.com/images/themes/theme1/bg.png</td>\n",
       "      <td>http://pbs.twimg.com/profile_images/1268044218...</td>\n",
       "      <td>@___schaeffer___</td>\n",
       "      <td>59.0</td>\n",
       "      <td>35.518352</td>\n",
       "      <td>-3.591586</td>\n",
       "      <td>M</td>\n",
       "      <td>NaN</td>\n",
       "      <td>22.0</td>\n",
       "      <td>0.0</td>\n",
       "    </tr>\n",
       "    <tr>\n",
       "      <th>3</th>\n",
       "      <td>8</td>\n",
       "      <td>9</td>\n",
       "      <td>__drewc</td>\n",
       "      <td>1.050000e+18</td>\n",
       "      <td>en</td>\n",
       "      <td>drew</td>\n",
       "      <td>New York, USA</td>\n",
       "      <td>_öÂ_öé _öÂ_ö_ _ç´Ù È \\r\\r26 #NewYork</td>\n",
       "      <td>False</td>\n",
       "      <td>27</td>\n",
       "      <td>...</td>\n",
       "      <td>http://abs.twimg.com/images/themes/theme1/bg.png</td>\n",
       "      <td>http://pbs.twimg.com/profile_images/1090809548...</td>\n",
       "      <td>@__drewc</td>\n",
       "      <td>134.0</td>\n",
       "      <td>24.910635</td>\n",
       "      <td>1.969121</td>\n",
       "      <td>F</td>\n",
       "      <td>NaN</td>\n",
       "      <td>26.0</td>\n",
       "      <td>1.0</td>\n",
       "    </tr>\n",
       "    <tr>\n",
       "      <th>4</th>\n",
       "      <td>9</td>\n",
       "      <td>10</td>\n",
       "      <td>__EmilyRice__</td>\n",
       "      <td>3.797155e+09</td>\n",
       "      <td>en</td>\n",
       "      <td>em</td>\n",
       "      <td>Marble Falls, TX</td>\n",
       "      <td>#TXST22</td>\n",
       "      <td>False</td>\n",
       "      <td>158</td>\n",
       "      <td>...</td>\n",
       "      <td>http://abs.twimg.com/images/themes/theme1/bg.png</td>\n",
       "      <td>http://pbs.twimg.com/profile_images/8415201103...</td>\n",
       "      <td>@__EmilyRice__</td>\n",
       "      <td>100.0</td>\n",
       "      <td>25.191925</td>\n",
       "      <td>2.382856</td>\n",
       "      <td>F</td>\n",
       "      <td>NaN</td>\n",
       "      <td>20.0</td>\n",
       "      <td>0.0</td>\n",
       "    </tr>\n",
       "  </tbody>\n",
       "</table>\n",
       "<p>5 rows × 26 columns</p>\n",
       "</div>"
      ],
      "text/plain": [
       "   Unnamed: 0  Unnamed: 0.1      screen_name       user_id lang  \\\n",
       "0           0             1    _____zac_____  4.614412e+08   en   \n",
       "1           1             2         ___aleia  7.650000e+17   en   \n",
       "2           3             4  ___schaeffer___  1.257110e+09   en   \n",
       "3           8             9          __drewc  1.050000e+18   en   \n",
       "4           9            10    __EmilyRice__  3.797155e+09   en   \n",
       "\n",
       "                    name          location  \\\n",
       "0                zac ¢     Maryland, USA   \n",
       "1  _æ___ dad ___æ_         Ohio, USA   \n",
       "2      Brenden Schaeffer           The Lou   \n",
       "3                   drew     New York, USA   \n",
       "4                     em  Marble Falls, TX   \n",
       "\n",
       "                                         description  protected  \\\n",
       "0                             _____Û___È_Ü´Ù      False   \n",
       "1                              BLACK. LIVES. MATTER.      False   \n",
       "2  Culver-Stockton College '20 ¢ Ô_Ô_Ô KM 1548...      False   \n",
       "3        _öÂ_öé _öÂ_ö_ _ç´Ù È \\r\\r26 #NewYork      False   \n",
       "4                                            #TXST22      False   \n",
       "\n",
       "   followers_count  ...                            profile_background_url  \\\n",
       "0              208  ...  http://abs.twimg.com/images/themes/theme1/bg.png   \n",
       "1              466  ...                                               NaN   \n",
       "2              811  ...  http://abs.twimg.com/images/themes/theme1/bg.png   \n",
       "3               27  ...  http://abs.twimg.com/images/themes/theme1/bg.png   \n",
       "4              158  ...  http://abs.twimg.com/images/themes/theme1/bg.png   \n",
       "\n",
       "                                   profile_image_url         user.name  \\\n",
       "0  http://pbs.twimg.com/profile_images/1226134911...    @_____zac_____   \n",
       "1  http://pbs.twimg.com/profile_images/1271280679...         @___aleia   \n",
       "2  http://pbs.twimg.com/profile_images/1268044218...  @___schaeffer___   \n",
       "3  http://pbs.twimg.com/profile_images/1090809548...          @__drewc   \n",
       "4  http://pbs.twimg.com/profile_images/8415201103...    @__EmilyRice__   \n",
       "\n",
       "  num.tweets.used.Lexicon.prediction  Lexicon.age.prediction  \\\n",
       "0                              100.0               27.652434   \n",
       "1                              100.0               24.111464   \n",
       "2                               59.0               35.518352   \n",
       "3                              134.0               24.910635   \n",
       "4                              100.0               25.191925   \n",
       "\n",
       "  Lexicon.gender.prediction..index. lexicon.gender.prediction  \\\n",
       "0                         -1.457167                         M   \n",
       "1                          0.985713                         F   \n",
       "2                         -3.591586                         M   \n",
       "3                          1.969121                         F   \n",
       "4                          2.382856                         F   \n",
       "\n",
       "  human.labeled.gender human.labeled.age  age  \n",
       "0                  NaN              23.0  1.0  \n",
       "1                  NaN              19.0  0.0  \n",
       "2                  NaN              22.0  0.0  \n",
       "3                  NaN              26.0  1.0  \n",
       "4                  NaN              20.0  0.0  \n",
       "\n",
       "[5 rows x 26 columns]"
      ]
     },
     "execution_count": 9,
     "metadata": {},
     "output_type": "execute_result"
    }
   ],
   "source": [
    "users_1145.head()"
   ]
  },
  {
   "cell_type": "code",
   "execution_count": 10,
   "id": "67ff0166",
   "metadata": {},
   "outputs": [
    {
     "data": {
      "text/plain": [
       "0          0\n",
       "1          1\n",
       "2          3\n",
       "3          8\n",
       "4          9\n",
       "        ... \n",
       "1140    3268\n",
       "1141    3271\n",
       "1142    3272\n",
       "1143    3274\n",
       "1144    3279\n",
       "Name: Unnamed: 0, Length: 1145, dtype: int64"
      ]
     },
     "execution_count": 10,
     "metadata": {},
     "output_type": "execute_result"
    }
   ],
   "source": [
    "users_1145[\"Unnamed: 0\"]"
   ]
  },
  {
   "cell_type": "code",
   "execution_count": 11,
   "id": "04d8437d",
   "metadata": {},
   "outputs": [],
   "source": [
    "users_1145[\"Under_21\"] = (users_1145[\"human.labeled.age\"] > 21 ).astype(int)"
   ]
  },
  {
   "cell_type": "code",
   "execution_count": 12,
   "id": "e463d6b6",
   "metadata": {
    "scrolled": true
   },
   "outputs": [
    {
     "data": {
      "text/html": [
       "<div>\n",
       "<style scoped>\n",
       "    .dataframe tbody tr th:only-of-type {\n",
       "        vertical-align: middle;\n",
       "    }\n",
       "\n",
       "    .dataframe tbody tr th {\n",
       "        vertical-align: top;\n",
       "    }\n",
       "\n",
       "    .dataframe thead th {\n",
       "        text-align: right;\n",
       "    }\n",
       "</style>\n",
       "<table border=\"1\" class=\"dataframe\">\n",
       "  <thead>\n",
       "    <tr style=\"text-align: right;\">\n",
       "      <th></th>\n",
       "      <th>Unnamed: 0</th>\n",
       "      <th>Unnamed: 0.1</th>\n",
       "      <th>screen_name</th>\n",
       "      <th>user_id</th>\n",
       "      <th>lang</th>\n",
       "      <th>name</th>\n",
       "      <th>location</th>\n",
       "      <th>description</th>\n",
       "      <th>protected</th>\n",
       "      <th>followers_count</th>\n",
       "      <th>...</th>\n",
       "      <th>profile_background_url</th>\n",
       "      <th>profile_image_url</th>\n",
       "      <th>user.name</th>\n",
       "      <th>num.tweets.used.Lexicon.prediction</th>\n",
       "      <th>Lexicon.age.prediction</th>\n",
       "      <th>Lexicon.gender.prediction..index.</th>\n",
       "      <th>lexicon.gender.prediction</th>\n",
       "      <th>human.labeled.gender</th>\n",
       "      <th>human.labeled.age</th>\n",
       "      <th>age</th>\n",
       "    </tr>\n",
       "    <tr>\n",
       "      <th>Under_21</th>\n",
       "      <th></th>\n",
       "      <th></th>\n",
       "      <th></th>\n",
       "      <th></th>\n",
       "      <th></th>\n",
       "      <th></th>\n",
       "      <th></th>\n",
       "      <th></th>\n",
       "      <th></th>\n",
       "      <th></th>\n",
       "      <th></th>\n",
       "      <th></th>\n",
       "      <th></th>\n",
       "      <th></th>\n",
       "      <th></th>\n",
       "      <th></th>\n",
       "      <th></th>\n",
       "      <th></th>\n",
       "      <th></th>\n",
       "      <th></th>\n",
       "      <th></th>\n",
       "    </tr>\n",
       "  </thead>\n",
       "  <tbody>\n",
       "    <tr>\n",
       "      <th>0</th>\n",
       "      <td>617</td>\n",
       "      <td>617</td>\n",
       "      <td>617</td>\n",
       "      <td>617</td>\n",
       "      <td>607</td>\n",
       "      <td>617</td>\n",
       "      <td>571</td>\n",
       "      <td>600</td>\n",
       "      <td>617</td>\n",
       "      <td>617</td>\n",
       "      <td>...</td>\n",
       "      <td>435</td>\n",
       "      <td>617</td>\n",
       "      <td>617</td>\n",
       "      <td>617</td>\n",
       "      <td>617</td>\n",
       "      <td>617</td>\n",
       "      <td>617</td>\n",
       "      <td>133</td>\n",
       "      <td>617</td>\n",
       "      <td>617</td>\n",
       "    </tr>\n",
       "    <tr>\n",
       "      <th>1</th>\n",
       "      <td>528</td>\n",
       "      <td>528</td>\n",
       "      <td>528</td>\n",
       "      <td>528</td>\n",
       "      <td>519</td>\n",
       "      <td>528</td>\n",
       "      <td>505</td>\n",
       "      <td>507</td>\n",
       "      <td>528</td>\n",
       "      <td>528</td>\n",
       "      <td>...</td>\n",
       "      <td>439</td>\n",
       "      <td>528</td>\n",
       "      <td>528</td>\n",
       "      <td>528</td>\n",
       "      <td>528</td>\n",
       "      <td>528</td>\n",
       "      <td>528</td>\n",
       "      <td>111</td>\n",
       "      <td>528</td>\n",
       "      <td>528</td>\n",
       "    </tr>\n",
       "  </tbody>\n",
       "</table>\n",
       "<p>2 rows × 26 columns</p>\n",
       "</div>"
      ],
      "text/plain": [
       "          Unnamed: 0  Unnamed: 0.1  screen_name  user_id  lang  name  \\\n",
       "Under_21                                                               \n",
       "0                617           617          617      617   607   617   \n",
       "1                528           528          528      528   519   528   \n",
       "\n",
       "          location  description  protected  followers_count  ...  \\\n",
       "Under_21                                                     ...   \n",
       "0              571          600        617              617  ...   \n",
       "1              505          507        528              528  ...   \n",
       "\n",
       "          profile_background_url  profile_image_url  user.name  \\\n",
       "Under_21                                                         \n",
       "0                            435                617        617   \n",
       "1                            439                528        528   \n",
       "\n",
       "          num.tweets.used.Lexicon.prediction  Lexicon.age.prediction  \\\n",
       "Under_21                                                               \n",
       "0                                        617                     617   \n",
       "1                                        528                     528   \n",
       "\n",
       "          Lexicon.gender.prediction..index.  lexicon.gender.prediction  \\\n",
       "Under_21                                                                 \n",
       "0                                       617                        617   \n",
       "1                                       528                        528   \n",
       "\n",
       "          human.labeled.gender  human.labeled.age  age  \n",
       "Under_21                                                \n",
       "0                          133                617  617  \n",
       "1                          111                528  528  \n",
       "\n",
       "[2 rows x 26 columns]"
      ]
     },
     "execution_count": 12,
     "metadata": {},
     "output_type": "execute_result"
    }
   ],
   "source": [
    "users_1145.groupby(\"Under_21\").count()"
   ]
  },
  {
   "cell_type": "code",
   "execution_count": 13,
   "id": "d9a12097",
   "metadata": {},
   "outputs": [
    {
     "name": "stdout",
     "output_type": "stream",
     "text": [
      "1145\n"
     ]
    }
   ],
   "source": [
    "list_of_screen_names = users_1145['screen_name'].unique()\n",
    "print(len(list_of_screen_names))"
   ]
  },
  {
   "cell_type": "code",
   "execution_count": 14,
   "id": "1fa0925c",
   "metadata": {},
   "outputs": [
    {
     "data": {
      "text/plain": [
       "False"
      ]
     },
     "execution_count": 14,
     "metadata": {},
     "output_type": "execute_result"
    }
   ],
   "source": [
    "'___Dals' in list_of_screen_names"
   ]
  },
  {
   "cell_type": "code",
   "execution_count": 15,
   "id": "d03657c9",
   "metadata": {},
   "outputs": [
    {
     "data": {
      "text/plain": [
       "Series([], Name: name, dtype: object)"
      ]
     },
     "execution_count": 15,
     "metadata": {},
     "output_type": "execute_result"
    }
   ],
   "source": [
    "users_1145[users_1145[\"screen_name\"]==\"___Dals\"][\"name\"]"
   ]
  },
  {
   "cell_type": "code",
   "execution_count": 16,
   "id": "6ff76f06",
   "metadata": {},
   "outputs": [
    {
     "data": {
      "text/html": [
       "<div>\n",
       "<style scoped>\n",
       "    .dataframe tbody tr th:only-of-type {\n",
       "        vertical-align: middle;\n",
       "    }\n",
       "\n",
       "    .dataframe tbody tr th {\n",
       "        vertical-align: top;\n",
       "    }\n",
       "\n",
       "    .dataframe thead th {\n",
       "        text-align: right;\n",
       "    }\n",
       "</style>\n",
       "<table border=\"1\" class=\"dataframe\">\n",
       "  <thead>\n",
       "    <tr style=\"text-align: right;\">\n",
       "      <th></th>\n",
       "      <th>Tweet</th>\n",
       "      <th>Screen Name</th>\n",
       "      <th>img_path</th>\n",
       "      <th>Under 21</th>\n",
       "    </tr>\n",
       "  </thead>\n",
       "  <tbody>\n",
       "    <tr>\n",
       "      <th>0</th>\n",
       "      <td>@AdvoBarryRoux @GetVidBot</td>\n",
       "      <td>_____zac_____</td>\n",
       "      <td>0</td>\n",
       "      <td>1</td>\n",
       "    </tr>\n",
       "    <tr>\n",
       "      <th>1</th>\n",
       "      <td>The owner of drip doesn't even have 100 mill, ...</td>\n",
       "      <td>_____zac_____</td>\n",
       "      <td>0</td>\n",
       "      <td>1</td>\n",
       "    </tr>\n",
       "    <tr>\n",
       "      <th>2</th>\n",
       "      <td>even Lekau the owner of Drip was saying that i...</td>\n",
       "      <td>_____zac_____</td>\n",
       "      <td>0</td>\n",
       "      <td>1</td>\n",
       "    </tr>\n",
       "    <tr>\n",
       "      <th>3</th>\n",
       "      <td>@casspernyovest is cappin  that \"R100m\" figure...</td>\n",
       "      <td>_____zac_____</td>\n",
       "      <td>0</td>\n",
       "      <td>1</td>\n",
       "    </tr>\n",
       "    <tr>\n",
       "      <th>4</th>\n",
       "      <td>I want a recipe from @JBscotchSA for #JBLemona...</td>\n",
       "      <td>_____zac_____</td>\n",
       "      <td>0</td>\n",
       "      <td>1</td>\n",
       "    </tr>\n",
       "    <tr>\n",
       "      <th>...</th>\n",
       "      <td>...</td>\n",
       "      <td>...</td>\n",
       "      <td>...</td>\n",
       "      <td>...</td>\n",
       "    </tr>\n",
       "    <tr>\n",
       "      <th>106309</th>\n",
       "      <td>uci fucking evil for making me go to school to...</td>\n",
       "      <td>zzzakari4</td>\n",
       "      <td>3279</td>\n",
       "      <td>0</td>\n",
       "    </tr>\n",
       "    <tr>\n",
       "      <th>106310</th>\n",
       "      <td>incredibly hot take, but i just think its funn...</td>\n",
       "      <td>zzzakari4</td>\n",
       "      <td>3279</td>\n",
       "      <td>0</td>\n",
       "    </tr>\n",
       "    <tr>\n",
       "      <th>106311</th>\n",
       "      <td>@valedesmadre u knw how i am 😫 its too much pr...</td>\n",
       "      <td>zzzakari4</td>\n",
       "      <td>3279</td>\n",
       "      <td>0</td>\n",
       "    </tr>\n",
       "    <tr>\n",
       "      <th>106312</th>\n",
       "      <td>will be needing a couple more business days to...</td>\n",
       "      <td>zzzakari4</td>\n",
       "      <td>3279</td>\n",
       "      <td>0</td>\n",
       "    </tr>\n",
       "    <tr>\n",
       "      <th>106313</th>\n",
       "      <td>its been 15 days since the final and ive final...</td>\n",
       "      <td>zzzakari4</td>\n",
       "      <td>3279</td>\n",
       "      <td>0</td>\n",
       "    </tr>\n",
       "  </tbody>\n",
       "</table>\n",
       "<p>106314 rows × 4 columns</p>\n",
       "</div>"
      ],
      "text/plain": [
       "                                                    Tweet    Screen Name  \\\n",
       "0                               @AdvoBarryRoux @GetVidBot  _____zac_____   \n",
       "1       The owner of drip doesn't even have 100 mill, ...  _____zac_____   \n",
       "2       even Lekau the owner of Drip was saying that i...  _____zac_____   \n",
       "3       @casspernyovest is cappin  that \"R100m\" figure...  _____zac_____   \n",
       "4       I want a recipe from @JBscotchSA for #JBLemona...  _____zac_____   \n",
       "...                                                   ...            ...   \n",
       "106309  uci fucking evil for making me go to school to...      zzzakari4   \n",
       "106310  incredibly hot take, but i just think its funn...      zzzakari4   \n",
       "106311  @valedesmadre u knw how i am 😫 its too much pr...      zzzakari4   \n",
       "106312  will be needing a couple more business days to...      zzzakari4   \n",
       "106313  its been 15 days since the final and ive final...      zzzakari4   \n",
       "\n",
       "        img_path  Under 21  \n",
       "0              0         1  \n",
       "1              0         1  \n",
       "2              0         1  \n",
       "3              0         1  \n",
       "4              0         1  \n",
       "...          ...       ...  \n",
       "106309      3279         0  \n",
       "106310      3279         0  \n",
       "106311      3279         0  \n",
       "106312      3279         0  \n",
       "106313      3279         0  \n",
       "\n",
       "[106314 rows x 4 columns]"
      ]
     },
     "execution_count": 16,
     "metadata": {},
     "output_type": "execute_result"
    }
   ],
   "source": [
    "ageDict = users_1145.set_index('screen_name').to_dict()['Under_21']\n",
    "imgPathDict = users_1145.set_index('screen_name').to_dict()['Unnamed: 0']\n",
    "\n",
    "tweetList, screenNameList, imgPathList, ageList = [], [], [], []\n",
    "\n",
    "for screen_name in tweets_1145:\n",
    "    \n",
    "    if((screen_name in list_of_screen_names)==False):\n",
    "        continue\n",
    "    for tweet in tweets_1145[screen_name]:\n",
    "        \n",
    "        tweetList.append(tweet)\n",
    "        \n",
    "        screenNameList.append(screen_name)\n",
    "        \n",
    "        imgPathList.append(imgPathDict[screen_name])\n",
    "        \n",
    "        ageList.append(ageDict[screen_name])\n",
    "        \n",
    "df_2 = pd.DataFrame({'Tweet': tweetList, 'Screen Name': screenNameList, 'img_path': imgPathList, 'Under 21': ageList})\n",
    "df_2.to_csv('labeled_tweet_table_Age.csv', index=False)\n",
    "df_2\n"
   ]
  },
  {
   "cell_type": "code",
   "execution_count": 17,
   "id": "b87cead8",
   "metadata": {},
   "outputs": [
    {
     "data": {
      "text/plain": [
       "106314"
      ]
     },
     "execution_count": 17,
     "metadata": {},
     "output_type": "execute_result"
    }
   ],
   "source": [
    "len(df_2)"
   ]
  },
  {
   "cell_type": "code",
   "execution_count": 18,
   "id": "f3bff32d",
   "metadata": {},
   "outputs": [
    {
     "data": {
      "text/plain": [
       "1145"
      ]
     },
     "execution_count": 18,
     "metadata": {},
     "output_type": "execute_result"
    }
   ],
   "source": [
    "len(df_2[\"Screen Name\"].unique())"
   ]
  },
  {
   "cell_type": "code",
   "execution_count": null,
   "id": "1601d61c",
   "metadata": {},
   "outputs": [],
   "source": []
  },
  {
   "cell_type": "markdown",
   "id": "9a54b1bb",
   "metadata": {},
   "source": [
    "# For Race"
   ]
  },
  {
   "cell_type": "code",
   "execution_count": 19,
   "id": "ef7ff1fb",
   "metadata": {},
   "outputs": [],
   "source": [
    "with open(\"Twitter_User_Handles_labeled_tweets.json\", encoding=\"utf8\") as file:\n",
    "    text = file.read()\n",
    "    tweets = json.loads(text)"
   ]
  },
  {
   "cell_type": "code",
   "execution_count": 20,
   "id": "c74df76b",
   "metadata": {},
   "outputs": [
    {
     "data": {
      "text/plain": [
       "dict_keys(['12488', '719703', '749003', '822540', '865071', '988211', '1025311', '1143891', '1191741', '1459461', '1603031', '1846921', '2026441', '2093301', '2880931', '3144431', '3237521', '3488451', '3544741', '3566011', '3770721', '4339771', '4521491', '4650621', '5135501', '5371102', '5416812', '5666752', '5690282', '5874062', '5917992', '6051522', '6470852', '6479382', '6584072', '6740082', '7074382', '7348342', '7397422', '7417492', '7544592', '7765472', '7899462', '8010492', '8194092', '8406662', '8470262', '8661762', '9044272', '9079602', '9411542', '9428922', '9853352', '9868472', '10181972', '10234782', '10451182', '10476692', '10773912', '10797732', '10827952', '10841872', '10955832', '11039472', '11098712', '11198062', '11254832', '11423162', '11522232', '11623142', '12021352', '12056712', '12332182', '12545042', '13059962', '13165752', '13309552', '13361832', '13720722', '13981312', '14030812', '14062421', '14124606', '14194825', '14211227', '14222204', '14244184', '14256294', '14272973', '14296407', '14297464', '14304515', '14336742', '14343915', '14348851', '14407946', '14416921', '14429994', '14457390', '14536367', '14560910', '14563740', '14592726', '14614494', '14703506', '14715108', '14826469', '14849081', '14851038', '14880410', '14910028', '15034178', '15039098', '15076293', '15099813', '15143247', '15196943', '15201386', '15274196', '15281952', '15335474', '15369325', '15382034', '15388148', '15419131', '15430827', '15436890', '15437696', '15494123', '15519857', '15549792', '15570793', '15594712', '15630060', '15703735', '15713534', '15721421', '15724536', '15740626', '15765861', '15774274', '15810975', '15843090', '15860422', '15868932', '15879006', '15890907', '15912799', '15921865', '15925282', '15966552', '16005137', '16027465', '16054727', '16117972', '16194971', '16205123', '16247779', '16267925', '16279572', '16279836', '16329047', '16335411', '16340534', '16342196', '16364718', '16386234', '16404395', '16438708', '16456627', '16547438', '16548053', '16549282', '16619331', '16654326', '16687188', '16697755', '16816596', '16876834', '16895618', '16897580', '16904444', '16947603', '17004664', '17027924', '17042416', '17054905', '17079667', '17145560', '17215442', '17304440', '17312360', '17316061', '17326060', '17397335', '17412436', '17435961', '17447251', '17481031', '17485328', '104967791', '448462342', '449029278', '449255927', '449865904', '450128822', '450308852', '450318581', '451918234', '453293054', '453408755', '453780622', '454481737', '455960773', '456395273', '457116812', '457210239', '458087409', '458912040', '460463231', '460622623', '460647298', '461920084', '463292751', '464934673', '467004340', '468613270', '469129824', '469487054', '469803198', '470830894', '471638985', '472698389', '473485734', '473721840', '475045299', '476767152', '477237734', '477333318', '477794199', '478269049', '478761543', '479928132', '480088386', '480469581', '481284142', '481583238', '483346250', '484382551', '485899103', '485919205', '485970717', '486062125', '486527674', '487612568', '488030499', '488032128', '489635138', '491292325', '491753048', '492595824', '494021475', '494317024', '494902639', '495557027', '495560416', '496689898', '497525756', '498381570', '500268697', '500380132', '501142729', '502170407', '502170966', '502245806', '503246270', '503889593', '503975451', '507115742', '507766638', '508199954', '508769785', '508916667', '510958325', '512151438', '512869595', '514735682', '514828155', '514934821', '516559037', '516917837', '517950064', '518043546', '518088470', '518811034', '519217829', '521397733', '521501330', '522333071', '522588604', '522716871', '523418902', '523608771', '523675753', '523941106', '524980784', '525338806', '525700609', '525997976', '527922020', '529343235', '529434639', '529790936', '532597010', '532718125', '533795288', '534509777', '535234702', '535499482', '535869651', '536060662', '537493775', '537759546', '538447202', '539225999', '540213934', '540310244', '540580176', '541290681', '541342379', '541885615', '542126727', '542248830', '542250227', '543909635', '544658819', '544871796', '544909427', '545322529', '545572285', '546965794', '548043782', '549665508', '550141502', '551265204', '551626824', '552017652', '552355413', '552444599', '552914269', '553239849', '553351112', '554774295', '556205401', '556435591', '556584210', '557374785', '558346283', '558602048', '558776137', '558973249', '560079550', '560162688', '560828885', '561473883', '562129326', '563252459', '564210319', '564328187', '565050704', '565417834', '565687835', '565864024', '567287710', '567812011', '568112020', '568618546', '569389400', '570346602', '571813757', '573135509', '573689798', '573722342', '573899851', '574090577', '574866369', '574871459', '576651340', '576782174', '576887409', '577650645', '577688816', '578172169', '578243124', '578502801', '579076535', '579445505', '579811963', '580604307', '581004200', '17489208', '17504709', '17560160', '17563678', '17564169', '17577377', '17587485', '17638725', '17639688', '17644976', '17724851', '17745727', '17752639', '17756834', '17776039', '17916896', '17934976', '17942510', '17956633', '17970602', '17998487', '17998585', '18011565', '18109224', '18112020', '18112871', '18144320', '18238844', '18289203', '18310576', '18313905', '18346407', '18382072', '18434747', '18498215', '18556300', '18570701', '18591345', '18608662', '18623360', '18658220', '18668572', '18701876', '18705061', '18727486', '18760058', '18784606', '18804924', '18850776', '18859657', '18888658', '19083393', '19246122', '19258278', '19295721', '19305956', '19310228', '19382449', '19460089', '19472429', '19483680', '19506961', '19566683', '19571556', '19691215', '19723491', '19882614', '19889595', '19957642', '19993750', '20029003', '20046038', '20080661', '20201869', '20212455', '20435835', '20461419', '20485089', '20487044', '20619880', '20656191', '20679843', '20751098', '20919434', '20954990', '21053422', '21148527', '21156014', '21182582', '21375121', '21554736', '21600996', '21616655', '21626832', '21675274', '21682546', '21686191', '21707983', '21740223', '21747362', '581396387', '582321086', '583942750', '585091678', '585822046', '588721480', '592001167', '593351283', '594072658', '594613802', '594913523', '595089554', '595651609', '597022097', '597034522', '597901871', '598015201', '598929500', '600042597', '600539751', '600543359', '600594999', '601456509', '603210706', '608366859', '608598498', '609072643', '610022729', '610584547', '612836662', '612939445', '612948015', '616397762', '616470622', '617547972', '618480612', '619061998', '619472976', '619589078', '620376139', '621342053', '621380585', '621603379', '622341954', '624046416', '624617708', '626499728', '626520987', '626896806', '628465156', '628752517', '629187132', '631509531', '632971213', '633119013', '634177579', '634188694', '634746669', '636270116', '636320780', '701584952', '706204430', '707305184', '707684390', '708411714', '708986202', '709731894', '710792036', '710854230', '711788841', '712746386', '716295260', '716394420', '716829554', '718243483', '721142250', '721503992', '721891704', '726775603', '726787651', '726952964', '729492252', '730670041', '730849968', '731074038', '731329902', '731886007', '733807508', '734978778', '735020898', '735277074', '735421597', '736006135', '739243675', '741618583', '742572264', '746498455', '747719762', '750215857', '750268519', '751508179', '752753036', '755380856', '757583166', '757895707', '760548722', '760687338', '763578384', '764254747', '764687948', '764956850', '770338470', '770566922', '772443326', '773929586', '779241002', '779457931', '781513122', '781567430', '783392899', '783558740', '783686216', '785408508', '785634740', '785818974', '785903035', '786201799', '790605612', '792588176', '792878840', '794844643', '799427767', '799467108', '801573060', '803474311', '805053264', '805091347', '807670939', '807892592', '809674321', '809947435', '810736940', '811964467', '813642446', '816618877', '818449555', '819964860', '820531370', '821955228', '822101634', '822210312', '822520250', '826747951', '827647927', '830160776', '830362063', '831332472', '835545732', '835878942', '836519888', '837686702', '838843687', '838957280', '839279964', '841152145', '841819266', '844492928', '845587771', '851708173', '851926706', '851941934', '855624000', '860353074', '863112540', '863933684', '865460899', '867054594', '869691481', '872715162', '874447549', '876192169', '876319002', '877040654', '879390264', '881195035', '881347992', '887777401', '889947194', '890066966', '891386358', '894063788', '896492600', '897367644', '906938204', '911538444', '912042486', '913369596', '914315102', '919565035', '920138382', '923959368', '930483241', '933239744', '933528180', '935979132', '937356404', '937561951', '940356673', '946586382', '946914943', '946952696', '947071700', '948561462', '952136497', '952290570', '960968348', '961244959', '965147732', '965304438', '969270510', '970253204', '977250968', '977573312', '977583558', '983354179', '983792269', '984674054', '985415130', '994336536', '996356186', '1005685344', '1009432801', '1011921206', '1012410642', '1012696602', '1016399695', '1016637662', '1018169203', '1018440002', '1024516506', '1027381261', '1029660138', '1032055424', '1033945436', '1035115242', '1035352429', '1037179669', '1038317240', '1042589929', '1042937455', '1043376614', '1049101458', '1049184229', '1050929670', '1059262884', '1060895292', '1062297157', '1065376914', '1072639190', '1074269485', '1080242460', '1090783238', '1099486146', '1102356913', '1104484718', '1110247477', '1111109582', '1111733179', '1112560058', '1112812058', '1113605617', '1115466752', '1115554452', '1115736440', '1117478304', '1117714796', '1123623223', '1130439524', '1137983581', '1138339776', '1138363777', '1138390375', '1140694321', '1140943262', '1146530108', '1155422263', '1157688656', '1158286020', '1162073730', '1162687621', '1163602314', '1164591420', '1164797461', '1165062295', '1167256855', '1171481240', '1173978217', '1175217080', '1184730818', '1202124020', '1204050956', '1205002178', '1209078512', '1213142882', '1213630772', '1214801610', '1216965588', '1217020981', '1217476284', '1220082446', '1222771999', '1226567455', '1230012013', '1233321704', '1239864266', '1242467226', '1243191068', '1243794576', '1244831256', '1245172388', '1247718662', '1252098264', '1252944126', '1253426977', '1257453852', '1260196963', '1263130170', '1268156702', '1271334512', '1275656082', '1281704198', '1288526551', '1288790522', '1300116896', '1301642941', '1304032742', '1309455876', '1315492165', '1316720238', '1321357968', '1321712900', '1322822120', '1323108068', '1326934106', '1329639396', '1330106192', '1333544612', '1338309974', '1343113225', '1347201812', '1352780612', '1355930797', '1355999156', '1358207202', '1365166022', '1367011964', '1367355841', '1367865414', '1368574843', '1368758322', '1372476151', '1374200786', '1375463868', '1380089880', '1381925694', '1385802428', '1387994916', '1390667377', '1390795742', '1398294175', '1398774890', '1411932434', '1413773527', '1413974720', '1434301328', '1441916952', '1455116664', '1457976612', '1458646620', '1463261726', '1465995588', '1467205140', '1468613485', '1470348570', '1470806185', '1475671686', '1476071306', '1476220596', '1478309280', '1480136082', '1483232108', '1486617637', '1486782727', '1488728612', '1488770850', '1490720666', '1491381170', '1493225791', '1495647980', '1506053083', '1507930579', '1511765407', '1514546700', '1518065635', '1523489851', '1524205824', '1525658142', '1536725665', '1537643630', '1539963288', '1541307962', '1542243944', '1544585436', '1544791616', '1545312571', '1545971322', '1546329000', '1547460468', '1548897660', '1548928051', '1549681836', '1554468968', '1556017826', '1557305016', '1559088296', '1560964392', '1562088236', '1562162497', '1564877802', '1566249109', '1569592922', '1575804001', '1576319239', '1582834249', '1584735324', '1587168878', '1589439548', '1596840870', '1600108399', '1601812158', '1601993131', '1605395239', '1609120554', '1611850802', '1612112400', '1615810866', '1619527567', '1621290246', '1623797168', '1630988527', '1631100475', '1631311909', '1633941529', '1636732117', '1636930081', '1644076722', '1644242924', '1646911956', '1648404864', '1651405736', '1653921162', '1656494665', '1658626062', '1662881394', '1665470917', '1679511272', '1679923915', '1681476001', '1681547610', '1682271696', '1683670698', '1684312272', '1686083347', '1694305291', '1695074820', '1697593178', '1700417964', '1702811952', '1707854286', '1709319535', '1711251450', '1711356080', '1716973039', '1721071723', '1723321129', '1726390692', '1733438666', '1735700341', '1738359708', '1765266829', '1837470643', '1841828136', '1849217726', '1856954430', '1857137906', '1858859676', '1859334228', '1859706068', '1862880625', '1869956167', '1872623180', '1879952796', '1882226892', '1888543111', '1890717020', '1905102073', '1905953748', '1906293133', '1915618400', '1916088614', '1920172920', '1942231134', '1942892784', '1955753292', '1957596570', '1961086280', '1962915986', '1965192206', '1978817443', '2147935069', '2160015228', '2161705747', '2161782876', '2164068220', '2166783401', '2169637092', '2174955213', '2175073964', '2178941809', '2180905566', '2181179323', '2181313565', '2183888858', '2184915530', '2185310050', '2186612067', '2187411998', '2188988862', '2192318795', '2196149683', '2196356307', '2197090334', '2199360292', '2199700312', '2199801978', '2200745592', '2201513406', '2203981595', '2205322249', '2208208236', '2209839286', '2210969976', '2212956689', '2213139331', '2216380326', '2218375152', '2223381524', '2224032653', '2227453291', '2229594979', '2232254527', '2234944921', '2235829443', '2237578021', '2241721448', '2245074192', '2247234742', '2247748386', '2250804312', '2252667044', '2252893178', '2256976089', '2257008405', '2257167066', '2260653506', '2261464053', '2263413625', '2263712048', '2264317961', '2265420417', '2265529080', '2266671356', '2269063453', '2269233056', '2271417056', '2274700938', '2276727835', '2281653608', '2282935976', '2284346160', '2287323518', '2287593804', '2288588059', '2293248330', '2293307498', '2293409850', '2293455078', '2298505619', '2298532705', '2298986911', '2299869200', '2301164574', '2301872990', '2301998024', '2302146498', '2302373526', '2302467720', '2304730455', '2305041670', '2306946153', '2311987414', '2313098534', '2314430864', '2314873926', '2316649928', '2317493670', '2318073548', '2318242418', '2324525341', '2324765574', '2326073256', '2326335598', '2329522094', '2329566668', '2334919192', '2352474534', '2354172174', '2355825162', '2357205091', '2358309367', '2360390845', '2360611818', '2364700704', '2365227628', '2369258387', '2369393906', '2371128043', '2374601250', '2374832580', '2375472660', '2379242186', '2380712103', '2381196252', '2381296429', '2383853806', '2384899626', '2385522354', '2385912086', '2388329659', '2391722096', '2395495076', '2396506754', '2397323749', '2400931034', '2404560468', '2408543985', '2411391901', '2413360371', '2414740243', '2414773868', '2416353230', '2419880006', '2421123722', '2421245690', '2424648200', '2426460366', '2430793050', '2432527262', '2434655468', '2434768125', '2435661494', '2437774033', '2438166174', '2442136598', '2444518922', '2445617256', '2448159428', '2450272344', '2450736974', '2453705914', '2456041950', '2457173413', '2457662821', '2458849285', '2466899420', '2470063771', '2470121857', '2470311087', '2475627094', '2476083618', '2479037011', '2480803471', '2485421060', '2506110638', '2509346532', '2510789233', '2511029468', '2514085772', '2516413898', '2518206162', '2521754713', '105040826', '105364649', '105625400', '105646121', '105867449', '105934455', '105943504', '106269404', '106513666', '107031829', '107291949', '107597358', '107836666', '108166052', '108442756', '108553168', '108722041', '108736461', '108855018', '109035228', '109135702', '109141099', '109148067', '109376623', '109406812', '109457750', '109617442', '110526247', '110695018', '110869572', '111515709', '111626535', '112034770', '112319854', '112531904', '112892432', '113082181', '113093901', '113559791', '113993356', '114019584', '114404673', '114970302', '115360002', '116037845', '116493225', '117332477', '117787715', '117795400', '117912833', '118531641', '118738723', '118872440', '118944861', '119174334', '119295515', '120839897', '121295917', '121340181', '121656518', '121844359', '122567099', '122830450', '123027374', '123395194', '123915091', '124002365', '124236002', '124241281', '124616387', '124714713', '125120336', '125505919', '125811408', '125860658', '126009360', '126105914', '126187405', '127620452', '128247620', '128602486', '128637180', '128745116', '129078125', '129136211', '129520050', '130016130', '130339929', '130607286', '130642670', '130803056', '131088528', '131090219', '131302634', '131747914', '132239282', '132256020', '132567655', '132669926', '133036816', '2522078002', '2522245316', '2524273615', '2525918133', '2527719612', '2528557369', '2529166616', '2536246606', '2538473441', '2541510076', '2544846032', '2547725625', '2548680540', '2549448884', '2553006528', '2555347734', '2555704356', '2560318209', '2560820992', '2562237847', '2563923607', '2565742091', '2567787636', '2567974587', '2569379974', '2571493197', '2573849336', '2575473632', '2577589822', '2578816177', '2579034420', '2584049531', '2584173555', '2587909114', '2590477859', '2591591772', '2592291506', '2595314495', '2595838477', '2596620258', '2596713783', '2599039541', '2600507089', '2610445469', '2615001371', '2615148630', '2615854496', '2633283102', '2637453008', '2654136130', '2671810020', '2673969046', '2690572039', '2695579559', '2697090056', '2702637793', '2704926340', '2717597414', '2718015666', '2718980837', '2723441021', '2724509797', '2725330106', '2726086164', '2726914463', '2727949156', '2728162654', '2730110218', '2730263722', '2732986154', '2733345421', '2733399521', '2736928696', '2737716743', '2738834639', '2740195508', '2740287716', '2751041485', '2755889855', '2755943451', '2757689073', '2759388180', '2759657456', '2760312862', '2761220320', '2763006832', '2764247252', '2764687093', '2772048276', '2778320999', '2778603810', '2781903088', '2784671755', '2787755103', '2790075383', '2790265593', '2791142413', '2793469750', '2795122100', '2797106562', '2797857416', '2798534959', '2798889409', '2799285827', '2804620328', '2805723186', '2808622470', '2817465591', '2818948800', '2821222602', '2821424842', '2822734945', '2823063853', '2824319057', '2824678417', '2824805007', '2825159372', '2825575112', '2828143673', '2830146989', '2833296404', '2838568592', '2842119424', '2844764195', '2845538967', '2846064382', '2850045441', '2856890664', '2857575721', '2859825329', '2863718857', '2863783099', '2864476919', '2864756633', '2865242560', '2866251564', '2871497962', '2874011081', '2875219086', '2875921793', '2880403279', '2881317355', '2882880929', '2884628224', '2888270033', '2891064740', '2891941910', '2892010517', '2892105041', '2893391502', '2894415306', '2895006527', '2896225672', '2896788206', '2896811689', '2897031072', '2899405907', '2900740656', '2901034236', '2903967022', '2904538677', '2906582448', '2906892893', '2907123608', '2907316207', '2908103277', '2911137560', '2913389455', '2913974602', '2914422905', '2915874246', '2920144052', '2920350729', '2925423244', '2925933183', '2943071684', '2952301456', '2955790493', '2959835717', '2960050025', '2960249516', '2961281625', '2972213533', '2976317253', '2977052470', '2977934168', '2984390205', '2986792732', '2988678112', '2993522001', '3000034679', '3001441463', '3003977248', '3005791475', '3006094109', '3008982077', '3009051802', '3010769699', '3013845271', '3015903747', '3015960470', '3017928661', '3018706812', '3021401323', '3021835009', '3024065756', '3025470221', '3027662024', '3033719680', '3039626890', '3041117137', '3044744679', '3047072627', '3057738927', '3060710501', '3063288771', '3065867970', '3066978829', '3068903234', '3069457118', '3070536297', '3074362506', '3076388267', '3084749045', '3087808289', '3103589786', '3109369137', '3112104673', '3114184106', '3118133584', '3121728823', '3122881138', '3124818526', '3127659802', '3132206668', '3133241851', '3133741969', '3138749377', '3145892637', '3148876452', '3152753374', '3152775560', '3153030412', '3154721422', '3154984601', '3166318512', '3166438737', '3169333664', '3173352986', '3176949829', '3177402295', '3178881626', '3179104207', '3181483672', '3182057718', '3182685398', '3184729629', '3192158028', '3192597888', '3194658692', '3198863673', '3219670854', '3224857470', '3230311182', '3231857638', '3237210811', '3242578086', '3242876653', '3244645951', '3245551989', '3246861233', '3249358214', '3249927378', '3258561313', '3268888118', '3273811628', '3275329489', '3278977857', '3280081735', '3283686312', '3285507262', '3286685211', '3290827158', '3292750674', '3296511674', '3298192458', '3299819780', '3303114193', '3306356675', '3307464971', '3309852775', '3310055095', '3311150741', '3312294837', '3312564671', '3315788803', '3316308540', '3322903916', '3323849986', '21807454', '21809300', '21812630', '21820044', '21845736', '21912195', '21951647', '22005168', '22051109', '22054026', '22091581', '22175620', '22192955', '22220344', '22232870', '22323533', '22328300', '22386019', '22405577', '22512818', '22531770', '22538960', '22596076', '22608233', '22769611', '22787410', '22795567', '22826326', '22839475', '22875015', '22957679', '23075269', '23077322', '23104051', '23105081', '23168247', '23213874', '23217753', '23224082', '23242546', '23247502', '23251048', '23317208', '23334389', '23336089', '23337497', '23340658', '23345225', '23355835', '23375001', '23406052', '23517690', '23521579', '23522693', '23543313', '23547198', '23553656', '23591197', '23623869', '23650180', '23665666', '23670939', '23673790', '23744591', '23772938', '23802785', '23824143', '23876749', '23911725', '23929712', '24011546', '24027594', '24046872', '24067153', '24074553', '24173893', '24344461', '24363231', '24376324', '24406012', '24470537', '24476975', '24522352', '24568222', '24569746', '24638858', '24658460', '24739635', '24793083', '24910681', '24961327', '24968815', '25011568', '25049348', '25090998', '25102592', '25139243', '25142445', '25169130', '25306377', '3324801909', '3327380259', '3331366437', '3346869678', '3353915879', '3362780789', '3362942435', '3364366738', '3367316435', '3368226813', '3371304053', '3376900234', '3378184781', '3382744697', '3383920751', '3388212273', '3396300100', '3400534461', '3400611814', '3402835817', '3405253071', '3410331825', '3422743564', '3424353734', '3425196581', '3433624414', '3433768414', '3459416961', '3462758302', '3517404553', '3548664563', '3559452553', '3581264895', '3616022660', '3621133637', '3639457333', '3658906588', '3669844456', '3706464552', '3729975327', '3732384855', '3782325681', '3784568652', '3795593836', '3796413315', '3813235755', '3821977876', '3832086733', '3882606561', '3884346227', '3931792572', '3935739196', '3973142338', '3981247277', '4027517267', '4028755694', '4051006282', '4054317635', '4056053350', '4076790501', '4077827427', '4078880655', '4081487413', '4090851143', '4102860683', '4108670475', '4109675419', '4111361301', '4122722476', '4172939002', '4245785474', '4246105461', '4256353932', '4299022415', '4345040669', '4353232533', '4362205038', '4405731209', '4412686997', '4416120494', '4465396102', '4504566980', '4549825675', '4566092245', '4581426914', '4652050590', '4685486839', '4728119962', '4739772853', '4740686001', '4764176880', '4766296833', '4770014078', '4777151356', '4779039077', '4783670656', '4800301291', '4809914381', '4809960492', '4810577965', '4844348739', '4856307520', '4864811267', '4878926855', '4889565747', '4892221799', '4895390642', '4921995243', '4924158634', '4928657861', '25327020', '25338134', '25343166', '25397265', '25486377', '25504874', '25505266', '25518267', '25561815', '25602626', '25615072', '25862924', '25920698', '26025526', '26030462', '26051041', '26077444', '26091325', '26100448', '26108207', '26120516', '26274866', '26288984', '26328096', '26526284', '26565850', '26605317', '26626778', '26672119', '26750616', '26773418', '26861679', '26864286', '26934762', '26936084', '27003232', '27155420', '27167575', '27198592', '27254725', '27260554', '27310424', '27371913', '27540864', '27542169', '27569444', '27619987', '27633619', '27646610', '27694069', '27761720', '27813723', '27891060', '27918862', '27956258', '27984791', '27996959', '28034370', '28152959', '28158744', '28170925', '28223191', '28249793', '28260118', '28270328', '28333766', '28409935', '28445180', '28531270', '28610967', '28614025', '28688420', '28709809', '28717534', '28918252', '28922122', '28928735', '29068634', '29132948', '29176540', '29283906', '29345746', '29363402', '29366431', '29410371', '29478618', '29506510', '29584756', '29607309', '29836145', '29859592', '29871516', '29885625', '29907971', '30013968', '30017722', '30098713', '30134334', '30227100', '30247831', '30314509', '30349960', '30398664', '30469473', '30500943', '30574904', '30712159', '30729030', '30767096', '30820485', '30920164', '30933884', '30948196', '30997364', '31061641', '31071868', '31220313', '31328365', '31349248', '31484282', '31538773', '31639656', '31836615', '31879215', '31893543', '31905992', '32242890', '32245274', '32272015', '32313316', '32425125', '32454454', '32474421', '32596943', '32623738', '32694145', '32820611', '32824589', '32884430', '32893188', '33125629', '33155723', '33161856', '33192306', '33354054', '33391247', '33524930', '33540809', '33563474', '33578638', '33714970', '33739610', '33761943', '33906712', '33909222', '33913938', '33914461', '33939485', '33960377', '34010194', '34338754', '34382104', '34414118', '34426275', '34465025', '34601815', '34629915', '34685031', '34758697', '34784999', '34803187', '34838732', '34847816', '35104511', '35125215', '35170490', '35236490', '35345021', '35363840', '35513134', '35573266', '35634690', '35783146', '35850131', '35865914', '35953675', '35982670', '35987884', '36014018', '36140130', '36144546', '36163192', '36219521', '36256699', '36397306', '36467393', '36509410', '36573122', '36696995', '36697124', '36809834', '36837065', '36935456', '37063566', '37071176', '37424091', '37512058', '37655587', '37789184', '37796711', '37830882', '38223643', '38297701', '38506527', '38563585', '38652986', '38663278', '38997203', '39029247', '39439242', '39469866', '39931019', '39987337', '39990623', '40005291', '40035909', '40161926', '40171437', '40173607', '40182941', '40292695', '40295317', '40434496', '40561960', '40609160', '40794108', '40957711', '40962780', '40995527', '41099251', '41305291', '41354761', '41525714', '41628383', '41636299', '41645088', '41711631', '41729544', '41735877', '41855514', '42039963', '42251312', '42295510', '42365904', '42506129', '42506370', '42545304', '42553663', '42738076', '42772644', '42802175', '42812812', '42934146', '42986220', '42992186', '43000103', '43014623', '43020875', '43176795', '43180318', '43269917', '43364802', '43430160', '43454966', '43569052', '43703913', '43930655', '44065128', '44152437', '44191726', '44279924', '44491943', '44608337', '44653967', '44749853', '44851386', '44867013', '44978811', '45048965', '45087251', '45154795', '45479392', '45515543', '45568773', '45680140', '45889756', '46183397', '46262783', '46566338', '46613999', '46776409', '46939915', '47163502', '47165038', '47189902', '47253507', '47256718', '47379451', '47387465', '47443843', '47524882', '47608808', '47687582', '47785185', '48147752', '48222687', '48308711', '48398662', '48639523', '48898594', '49168103', '49237943', '49454625', '49542532', '49752297', '49824599', '49862659', '50179125', '50215823', '50280048', '50488430', '50833514', '51054989', '51203406', '51205938', '51244561', '51420078', '51480688', '51515404', '51533650', '51548400', '51572885', '51644706', '51779335', '51878780', '51881296', '51913984', '52232061', '52286180', '52591709', '52763277', '52928272', '53179626', '53423776', '53757127', '53766256', '53945656', '54110485', '54603287', '54686942', '54701103', '55010146', '55356990', '55608667', '55640943', '56167825', '56179623', '56320740', '56428877', '56528234', '56686273', '56819049', '57597475', '57746727', '57877128', '58008015', '58113148', '58159871', '58305233', '58565444', '58608740', '58733362', '58904749', '59791160', '60056593', '60119550', '60149360', '60445040', '60642064', '60946144', '61360050', '61372244', '61663024', '61668553', '61681020', '62062507', '62126010', '62423992', '62668766', '62990956', '63010830', '63334547', '63375358', '64007404', '64057356', '64253903', '64298629', '64317799', '64767254', '64814884', '65077900', '65253993', '65418191', '65802548', '65937383', '65962574', '65974777', '66441787', '66450864', '66501057', '66532172', '66565691', '66884741', '66986565', '67163915', '67433433', '67446996', '67685363', '67750486', '67770025', '67901623', '68018911', '68070807', '68150274', '68904928', '68923284', '69085215', '69129369', '69142864', '69404220', '69639907', '69642227', '69938164', '70020271', '70138080', '70239709', '70265196', '70517435', '70641718', '70869342', '71162391', '71507676', '72093592', '72408746', '72683222', '72693417', '73232250', '73253214', '73261079', '73283518', '73513591', '73543185', '73559234', '73684316', '73694228', '73703405', '73720914', '73736964', '73881400', '73972269', '74016569', '74148207', '74361846', '74597892', '74819044', '75185108', '75458059', '75704004', '75911740', '76076958', '76231594', '76234324', '76327781', '76638230', '77126683', '77284974', '77323350', '77387104', '77493034', '77570434', '77594970', '133818632', '133954977', '134343049', '134630078', '135319479', '135655082', '135780119', '135928020', '136076540', '136781019', '137899163', '138485279', '138510436', '138518909', '138670647', '138691514', '139087965', '139219473', '139277276', '139532149', '139847757', '140067374', '140438543', '141794099', '142081179', '142864132', '143408141', '144224613', '145328224', '147088695', '147982117', '148202791', '148218734', '148319560', '148560696', '148561554', '148564357', '148916926', '149016985', '149515376', '150047469', '150264823', '150492713', '150775931', '151267503', '151612183', '152003864', '153494612', '154249346', '154343441', '155063896', '155092993', '155404660', '155475471', '155762769', '155825751', '156734366', '157463142', '157571162', '157856554', '157894550', '158122548', '158649769', '158744995', '159210787', '159566350', '159860167', '159957735', '159970570', '160431379', '160552464', '160668798', '160757217', '161071454', '161335500', '161550638', '161711324', '161836191', '162038218', '162752051', '163198747', '163292084', '164082615', '165212719', '165271837', '165508263', '166452885', '167277255', '167669892', '168172128', '169162973', '169343445', '170105161', '171297954', '172154757', '172171867', '172481678', '172644834', '173302630', '173412135', '77674358', '77875782', '78170242', '78394144', '78761632', '78774879', '78789558', '79018480', '79215153', '79290701', '79719002', '80342641', '80640732', '80841626', '80914459', '80957658', '81181474', '81395899', '81455584', '81602912', '82147957', '82182729', '82187706', '82273425', '82290403', '82359573', '82363745', '82780174', '83103682', '83398593', '83399005', '84001457', '84100749', '84155323', '84536033', '84940905', '86187517', '86512669', '86570726', '86648893', '86865651', '87033875', '87463442', '87490092', '87495770', '87752958', '88347876', '88590798', '88832928', '88844819', '89066994', '89362464', '89400803', '89493940', '89586377', '89637046', '89834371', '90223445', '90269283', '90280088', '90289912', '90659577', '90752658', '91150558', '91254681', '91500642', '91966203', '92176855', '92809357', '92828814', '93113757', '93200746', '93202822', '93536865', '93550545', '93710676', '93719000', '93986847', '94438932', '94493245', '94588044', '94858206', '95299054', '95360868', '95491031', '95685368', '97559891', '97734004', '98939678', '98987041', '99024118', '99024553', '99801455', '99909169', '100277574', '100365352', '100714925', '100905121', '101635595', '101665807', '102448444', '102864502', '102872465', '103453644', '103570925', '104729015', '104915685', '104921135', '104958557', '173554412', '173625022', '173977689', '174008576', '174367426', '174640334', '174681094', '174726742', '174916736', '175220161', '175424117', '176584827', '176634323', '176998914', '178883436', '179399337', '179934400', '182215996', '182910150', '183403133', '183632264', '183643026', '183869227', '185187745', '185214663', '185359397', '185638332', '185872686', '186271891', '186552155', '187292009', '187772818', '188035831', '188059985', '188354347', '188869064', '189715498', '189814213', '189897948', '189968415', '190750661', '190776123', '190864491', '191876585', '192023444', '192363167', '193059505', '193149989', '193176772', '193464274', '193488444', '193749809', '194394101', '195235146', '195429343', '195431327', '196384710', '196390131', '196791586', '196867688', '197155165', '198142448', '199058640', '200271529', '201037807', '201130894', '202359122', '202852738', '203160395', '203426938', '205042068', '205587937', '205833553', '206636966', '207164630', '207226664', '207415695', '208185508', '208565610', '209310709', '209783736', '210434332', '210811982', '211684441', '211760837', '211911239', '212271663', '213195756', '214257759', '214283657', '214356593', '214961049', '216078878', '216924580', '217366210', '218145119', '218329062', '219204344', '219855148', '219893308', '220223369', '220713223', '221016983', '221246474', '221264179', '221415923', '221521353', '221600469', '221864061', '222180028', '222188599', '222264347', '222886324', '222972716', '224106706', '225638402', '225861427', '225891628', '226282163', '227561235', '227693052', '229661595', '231043601', '231472735', '231664282', '232330276', '232748467', '233092315', '233234890', '233950353', '234764142', '235315105', '235344508', '235372201', '236148223', '236199582', '237846669', '238232812', '238693035', '238704779', '239177956', '239233123', '239372834', '239911752', '239975574', '240860394', '240972649', '242546219', '243026802', '243257138', '243914308', '243956746', '243969229', '244326890', '244674311', '245012097', '245047851', '245158685', '245204127', '245476234', '245484018', '245652097', '245787645', '246036103', '246059864', '247015593', '247059779', '247130343', '247427155', '247664818', '248909770', '249227650', '249311215', '249998917', '251063392', '251082217', '251322839', '251476408', '252227907', '252597682', '253187118', '253350632', '253444761', '253923628', '254209369', '254702152', '254767641', '254857128', '254860038', '255805677', '256038413', '256303264', '256616750', '257991488', '258049544', '258055703', '258526306', '258659694', '259199391', '259410630', '259483482', '259964518', '260148289', '260570227', '260652583', '260864990', '260924893', '260997237', '261397539', '261570576', '261948686', '262589820', '262673727', '262688551', '263782757', '263798565', '263900438', '264445586', '265072660', '265656693', '266213792', '266632471', '266854415', '266989246', '267439238', '268388505', '268630083', '268878698', '269572615', '269676746', '270280907', '270443198', '271054477', '271713896', '271996543', '272681625', '273444019', '273755377', '274332453', '274549227', '274674363', '274681695', '274738888', '274768569', '275305376', '276549608', '276670771', '276684958', '277250373', '277640455', '279898634', '281258837', '281295685', '282138713', '283253196', '283352322', '283640896', '283718882', '284206881', '285258825', '285341840', '285363986', '285655428', '286480054', '287226948', '287400423', '289669285', '290664790', '290747220', '291250989', '291373664', '293277214', '294440776', '294772937', '295904130', '296252913', '296430771', '296810336', '296840627', '297086049', '297142742', '298241881', '298314389', '298697536', '298753276', '300028558', '300192405', '300662531', '300861598', '300952864', '301841318', '302283968', '302681727', '302915220', '304100360', '304599063', '305165118', '306495414', '306602256', '306750975', '308546070', '308691800', '308816404', '309367094', '309921414', '310993378', '311670782', '312803960', '313442910', '313630804', '313719459', '313954905', '314283408', '314967059', '315406712', '315481149', '316227972', '316735643', '317247656', '317413627', '317911064', '319185927', '319336045', '319521300', '321566222', '322194483', '322750538', '322812533', '323239270', '323246815', '323272526', '323395220', '323459179', '323530660', '323583657', '323990437', '324448496', '325345235', '325577972', '325779979', '326495605', '326642263', '326792265', '326885884', '326965199', '327114794', '327200634', '327211934', '327614166', '327614924', '327821152', '328237153', '328506487', '329321625', '329339197', '329471635', '329482538', '329746462', '330028248', '330086831', '330447681', '330472280', '330917518', '331308334', '331412498', '331997317', '332628187', '333015324', '333160830', '333176699', '333214160', '333526237', '333712744', '334083471', '334213203', '335163457', '335410275', '335474206', '336082918', '336896692', '337822864', '338440407', '338703805', '338817556', '339932236', '340259514', '340429755', '340485275', '341238925', '341819064', '342510958', '342906734', '343698806', '344511087', '345488256', '345507673', '345725789', '345773884', '346349983', '346385031', '347031563', '347251053', '347449468', '347576698', '347580883', '348092086', '348614130', '348732276', '349324588', '350303845', '351170981', '351722270', '351973809', '351982891', '352051200', '352076144', '352617999', '352787484', '353957829', '354675152', '354830968', '355032949', '355259150', '356496523', '357111355', '359110915', '359220809', '360956023', '361152628', '362179671', '362222987', '362659976', '363701612', '363943044', '363974611', '365192218', '365829310', '366022299', '366174301', '366961277', '367258306', '368381657', '368691953', '368957972', '369332000', '369748382', '369773592', '369859207', '370152408', '370320469', '370451043', '370699097', '370946722', '371175491', '372380234', '372498248', '373181471', '373623232', '374499757', '375179702', '376249423', '376300171', '376404432', '377046771', '377294210', '377666108', '377685390', '377744411', '377782593', '379046348', '379697738', '379789833', '379828689', '379999522', '380100886', '381698459', '382303183', '382480516', '383559157', '384546275', '384597747', '384623781', '385041438', '385556176', '386335740', '386691675', '387810069', '388328258', '388664920', '388736426', '389100921', '389748352', '389773311', '390263180', '390364452', '390390104', '391008565', '392044767', '392413732', '392425165', '393350033', '394693356', '395037577', '395320036', '395522232', '396971059', '397312303', '397682629', '397735882', '398184177', '398454308', '398737910', '398985233', '399803409', '400174123', '400449452', '400902561', '400927358', '401072530', '401507572', '402353785', '402833585', '404320133', '404568697', '404583530', '405039912', '405074580', '405607938', '405916506', '405994748', '406488055', '407455765', '407811925', '408027328', '408234261', '410198865', '411162914', '411286431', '411927454', '413186058', '413238169', '413294359', '414462221', '414871589', '414971381', '414989313', '415674663', '415918838', '416391966', '417058297', '417244068', '418916413', '419143773', '420114634', '420811951', '421922768', '422044978', '422410391', '424066660', '424507759', '424564907', '425375189', '425953310', '426013762', '426131717', '426551337', '426854558', '426949977', '427043951', '427485067', '428218169', '429363409', '429465543', '430165027', '430481965', '430698976', '431333866', '432138597', '432178397', '433226765', '433627817', '433779635', '434665544', '435767779', '436231862', '437291595', '437563475', '438680256', '438805823', '441941431', '444010019', '444055370', '444617649', '445795189', '446700477', '447511231', '447531731', '447535293', '447655802', '447728061', '811618', '7097802', '7211262', '10644122', '14171950', '15940745', '16398423', '16586221', '17721049', '18089158', '20159293', '20488292', '21425163', '21961636', '21993309', '24114057', '25685740', '26145835', '26277872', '28013067', '28157799', '30612357', '31592650', '36200624', '36638376', '37124344', '40510644', '40832166', '43254420', '53495555', '55891221', '58219308', '59030235', '65961413', '68014631', '68526592', '71723098', '73307410', '81946585', '94728816', '96573740', '100373646', '104876205', '112911677', '114272678', '115433242', '118156180', '144746392', '153595733', '164995621', '165002623', '167883671', '171624697', '175628330', '176557817', '177029802', '197641133', '228247078', '236466016', '237066949', '241265260', '250349069', '264361827', '282390544', '291954019', '296620092', '302351723', '308636990', '311638332', '320862338', '331616062', '332676623', '335530044', '351810381', '370462457', '374221319', '375841470', '384038133', '405310411', '409695874', '429588160', '432144227', '440493666', '449849499', '457166419', '495633656', '504746272', '509543591', '516601646', '555518833', '556548129', '564949993', '566657354', '567533609', '568474482', '573654042', '604543285', '606923282', '623869971', '745425062', '788191704', '816492554', '824096078', '827371944', '832073456', '833451786', '834227954', '834786632', '880818451', '900558642', '936032731', '942922705', '952930603', '989602435', '1002937842', '1016513190', '1092983304', '1205082344', '1223452975', '1228096226', '1287352308', '1305330828', '1317022460', '1330258434', '1357110091', '1358180336', '1365406188', '1564433604', '1633139072', '1658356795', '1672833529', '1850124325', '1871975606', '1936178312', '1976838618', '2177326815', '2187038304', '2201679450', '2232451252', '2256825164', '2265349069', '2271355986', '2276667049', '2296666364', '2309902285', '2319315263', '2391702618', '2428074381', '2472873182', '2507575295', '2525199788', '2549114401', '2552038861', '2615742738', '2763662865', '2774403231', '2886591170', '2940376415', '3051490694', '3178803853', '3196361888', '3323699762', '3352812676', '3924536853', '4281628276', '4467793452'])"
      ]
     },
     "execution_count": 20,
     "metadata": {},
     "output_type": "execute_result"
    }
   ],
   "source": [
    "tweets.keys()"
   ]
  },
  {
   "cell_type": "code",
   "execution_count": 21,
   "id": "958c23da",
   "metadata": {},
   "outputs": [
    {
     "data": {
      "text/plain": [
       "['YKAR, a futuristic sans serif font by @EmmeranR - #Freebie #Font #Merci https://t.co/b6fBDvz6yZ',\n",
       " '@MBonvoyAssist Who can I contact about the very rude and poor service I’m experiencing during my current stay? Please and thank you!']"
      ]
     },
     "execution_count": 21,
     "metadata": {},
     "output_type": "execute_result"
    }
   ],
   "source": [
    "tweets['12488'][:2]"
   ]
  },
  {
   "cell_type": "code",
   "execution_count": 22,
   "id": "28e73e4b",
   "metadata": {},
   "outputs": [],
   "source": [
    "with open(\"User demo profiles.json\", encoding=\"utf8\") as file:\n",
    "    text = file.read()\n",
    "    profiles = json.loads(text)"
   ]
  },
  {
   "cell_type": "code",
   "execution_count": 23,
   "id": "a1773b7c",
   "metadata": {},
   "outputs": [
    {
     "data": {
      "text/plain": [
       "[{'id': 12488,\n",
       "  'name': 'Chad Boyce',\n",
       "  'screen_name': 'djsnipa1',\n",
       "  'description': 'Multimedia Developer, Graphic Designer, DJ, and anything else you want to call me.',\n",
       "  'lang': 'NA',\n",
       "  'img_path': 'profile pics/60147.jpeg'},\n",
       " {'id': 719703,\n",
       "  'name': 'Tomato 😷',\n",
       "  'screen_name': 'Tomato',\n",
       "  'description': '🇭🇰Rise Up!',\n",
       "  'lang': 'NA',\n",
       "  'img_path': 'profile pics/60148.jpeg'}]"
      ]
     },
     "execution_count": 23,
     "metadata": {},
     "output_type": "execute_result"
    }
   ],
   "source": [
    "profiles[:2]"
   ]
  },
  {
   "cell_type": "code",
   "execution_count": 24,
   "id": "71114459",
   "metadata": {},
   "outputs": [
    {
     "data": {
      "text/plain": [
       "{'name': 'Chad Boyce',\n",
       " 'screen_name': 'djsnipa1',\n",
       " 'description': 'Multimedia Developer, Graphic Designer, DJ, and anything else you want to call me.',\n",
       " 'lang': 'NA',\n",
       " 'img_path': 'profile pics/60147.jpeg'}"
      ]
     },
     "execution_count": 24,
     "metadata": {},
     "output_type": "execute_result"
    }
   ],
   "source": [
    "profile_dict = {}\n",
    "for profile in profiles:\n",
    "    profile_dict[str(profile['id'])] = {'name': profile['name'], 'screen_name': profile['screen_name'], 'description': profile['description'], 'lang': profile['lang'], 'img_path': profile['img_path']}\n",
    "\n",
    "profile_dict['12488']"
   ]
  },
  {
   "cell_type": "code",
   "execution_count": 25,
   "id": "cd01efb3",
   "metadata": {},
   "outputs": [],
   "source": [
    "users = pd.read_csv(\"labeled_users.csv\")"
   ]
  },
  {
   "cell_type": "code",
   "execution_count": 26,
   "id": "44ea8b91",
   "metadata": {},
   "outputs": [
    {
     "name": "stdout",
     "output_type": "stream",
     "text": [
      "4132\n",
      "3609\n",
      "3276\n"
     ]
    }
   ],
   "source": [
    "print(len(users))\n",
    "print(len(profiles))\n",
    "print(len(tweets))"
   ]
  },
  {
   "cell_type": "code",
   "execution_count": 27,
   "id": "c8564eac",
   "metadata": {},
   "outputs": [
    {
     "data": {
      "text/plain": [
       "48"
      ]
     },
     "execution_count": 27,
     "metadata": {},
     "output_type": "execute_result"
    }
   ],
   "source": [
    "len(users[users[\"year_born\"].isnull()])"
   ]
  },
  {
   "cell_type": "code",
   "execution_count": 28,
   "id": "5c253a66",
   "metadata": {},
   "outputs": [],
   "source": [
    "users[\"Under 21\"] = (users[\"year_born\"] > 2000).astype(int)"
   ]
  },
  {
   "cell_type": "code",
   "execution_count": 29,
   "id": "9b4b8f68",
   "metadata": {},
   "outputs": [
    {
     "data": {
      "text/html": [
       "<div>\n",
       "<style scoped>\n",
       "    .dataframe tbody tr th:only-of-type {\n",
       "        vertical-align: middle;\n",
       "    }\n",
       "\n",
       "    .dataframe tbody tr th {\n",
       "        vertical-align: top;\n",
       "    }\n",
       "\n",
       "    .dataframe thead th {\n",
       "        text-align: right;\n",
       "    }\n",
       "</style>\n",
       "<table border=\"1\" class=\"dataframe\">\n",
       "  <thead>\n",
       "    <tr style=\"text-align: right;\">\n",
       "      <th></th>\n",
       "      <th>user_id</th>\n",
       "      <th>is_female</th>\n",
       "      <th>year_born</th>\n",
       "      <th>race</th>\n",
       "    </tr>\n",
       "    <tr>\n",
       "      <th>Under 21</th>\n",
       "      <th></th>\n",
       "      <th></th>\n",
       "      <th></th>\n",
       "      <th></th>\n",
       "    </tr>\n",
       "  </thead>\n",
       "  <tbody>\n",
       "    <tr>\n",
       "      <th>0</th>\n",
       "      <td>4110</td>\n",
       "      <td>4047</td>\n",
       "      <td>4062</td>\n",
       "      <td>4070</td>\n",
       "    </tr>\n",
       "    <tr>\n",
       "      <th>1</th>\n",
       "      <td>22</td>\n",
       "      <td>22</td>\n",
       "      <td>22</td>\n",
       "      <td>22</td>\n",
       "    </tr>\n",
       "  </tbody>\n",
       "</table>\n",
       "</div>"
      ],
      "text/plain": [
       "          user_id  is_female  year_born  race\n",
       "Under 21                                     \n",
       "0            4110       4047       4062  4070\n",
       "1              22         22         22    22"
      ]
     },
     "execution_count": 29,
     "metadata": {},
     "output_type": "execute_result"
    }
   ],
   "source": [
    "users.groupby(\"Under 21\").count()"
   ]
  },
  {
   "cell_type": "code",
   "execution_count": 30,
   "id": "83c6bc64",
   "metadata": {},
   "outputs": [
    {
     "data": {
      "text/html": [
       "<div>\n",
       "<style scoped>\n",
       "    .dataframe tbody tr th:only-of-type {\n",
       "        vertical-align: middle;\n",
       "    }\n",
       "\n",
       "    .dataframe tbody tr th {\n",
       "        vertical-align: top;\n",
       "    }\n",
       "\n",
       "    .dataframe thead th {\n",
       "        text-align: right;\n",
       "    }\n",
       "</style>\n",
       "<table border=\"1\" class=\"dataframe\">\n",
       "  <thead>\n",
       "    <tr style=\"text-align: right;\">\n",
       "      <th></th>\n",
       "      <th>Tweet</th>\n",
       "      <th>Name</th>\n",
       "      <th>Screen Name</th>\n",
       "      <th>Description</th>\n",
       "      <th>Lang</th>\n",
       "      <th>img_path</th>\n",
       "      <th>Race</th>\n",
       "    </tr>\n",
       "  </thead>\n",
       "  <tbody>\n",
       "    <tr>\n",
       "      <th>0</th>\n",
       "      <td>YKAR, a futuristic sans serif font by @Emmeran...</td>\n",
       "      <td>Chad Boyce</td>\n",
       "      <td>djsnipa1</td>\n",
       "      <td>Multimedia Developer, Graphic Designer, DJ, an...</td>\n",
       "      <td>NA</td>\n",
       "      <td>profile pics/60147.jpeg</td>\n",
       "      <td>4.0</td>\n",
       "    </tr>\n",
       "    <tr>\n",
       "      <th>1</th>\n",
       "      <td>@MBonvoyAssist Who can I contact about the ver...</td>\n",
       "      <td>Chad Boyce</td>\n",
       "      <td>djsnipa1</td>\n",
       "      <td>Multimedia Developer, Graphic Designer, DJ, an...</td>\n",
       "      <td>NA</td>\n",
       "      <td>profile pics/60147.jpeg</td>\n",
       "      <td>4.0</td>\n",
       "    </tr>\n",
       "    <tr>\n",
       "      <th>2</th>\n",
       "      <td>@SSlnes I’d like to win!</td>\n",
       "      <td>Chad Boyce</td>\n",
       "      <td>djsnipa1</td>\n",
       "      <td>Multimedia Developer, Graphic Designer, DJ, an...</td>\n",
       "      <td>NA</td>\n",
       "      <td>profile pics/60147.jpeg</td>\n",
       "      <td>4.0</td>\n",
       "    </tr>\n",
       "    <tr>\n",
       "      <th>3</th>\n",
       "      <td>@LuckyDucksNFT @Rydog</td>\n",
       "      <td>Chad Boyce</td>\n",
       "      <td>djsnipa1</td>\n",
       "      <td>Multimedia Developer, Graphic Designer, DJ, an...</td>\n",
       "      <td>NA</td>\n",
       "      <td>profile pics/60147.jpeg</td>\n",
       "      <td>4.0</td>\n",
       "    </tr>\n",
       "    <tr>\n",
       "      <th>4</th>\n",
       "      <td>Now I'm heading to B1000th Floor! #quickrogue</td>\n",
       "      <td>Chad Boyce</td>\n",
       "      <td>djsnipa1</td>\n",
       "      <td>Multimedia Developer, Graphic Designer, DJ, an...</td>\n",
       "      <td>NA</td>\n",
       "      <td>profile pics/60147.jpeg</td>\n",
       "      <td>4.0</td>\n",
       "    </tr>\n",
       "    <tr>\n",
       "      <th>...</th>\n",
       "      <td>...</td>\n",
       "      <td>...</td>\n",
       "      <td>...</td>\n",
       "      <td>...</td>\n",
       "      <td>...</td>\n",
       "      <td>...</td>\n",
       "      <td>...</td>\n",
       "    </tr>\n",
       "    <tr>\n",
       "      <th>313468</th>\n",
       "      <td>Preach it 🙌🙌 https://t.co/8xPvSZpiLb</td>\n",
       "      <td>✿♥☆✧աaʄʄʟɛ զʊɛɛռ✧☆♥✿</td>\n",
       "      <td>landry_rosalee</td>\n",
       "      <td>other acount- @furious_waffles and @i_cant_wor...</td>\n",
       "      <td>NA</td>\n",
       "      <td>profile pics/64232.jpeg</td>\n",
       "      <td>NaN</td>\n",
       "    </tr>\n",
       "    <tr>\n",
       "      <th>313469</th>\n",
       "      <td>Wut? https://t.co/FxR7WlXhDz</td>\n",
       "      <td>✿♥☆✧աaʄʄʟɛ զʊɛɛռ✧☆♥✿</td>\n",
       "      <td>landry_rosalee</td>\n",
       "      <td>other acount- @furious_waffles and @i_cant_wor...</td>\n",
       "      <td>NA</td>\n",
       "      <td>profile pics/64232.jpeg</td>\n",
       "      <td>NaN</td>\n",
       "    </tr>\n",
       "    <tr>\n",
       "      <th>313470</th>\n",
       "      <td>Im not trying to be rude, im just saying that ...</td>\n",
       "      <td>✿♥☆✧աaʄʄʟɛ զʊɛɛռ✧☆♥✿</td>\n",
       "      <td>landry_rosalee</td>\n",
       "      <td>other acount- @furious_waffles and @i_cant_wor...</td>\n",
       "      <td>NA</td>\n",
       "      <td>profile pics/64232.jpeg</td>\n",
       "      <td>NaN</td>\n",
       "    </tr>\n",
       "    <tr>\n",
       "      <th>313471</th>\n",
       "      <td>Sir, I'd like to know why you're being so rude...</td>\n",
       "      <td>✿♥☆✧աaʄʄʟɛ զʊɛɛռ✧☆♥✿</td>\n",
       "      <td>landry_rosalee</td>\n",
       "      <td>other acount- @furious_waffles and @i_cant_wor...</td>\n",
       "      <td>NA</td>\n",
       "      <td>profile pics/64232.jpeg</td>\n",
       "      <td>NaN</td>\n",
       "    </tr>\n",
       "    <tr>\n",
       "      <th>313472</th>\n",
       "      <td>As a person of the female gender, not all are ...</td>\n",
       "      <td>✿♥☆✧աaʄʄʟɛ զʊɛɛռ✧☆♥✿</td>\n",
       "      <td>landry_rosalee</td>\n",
       "      <td>other acount- @furious_waffles and @i_cant_wor...</td>\n",
       "      <td>NA</td>\n",
       "      <td>profile pics/64232.jpeg</td>\n",
       "      <td>NaN</td>\n",
       "    </tr>\n",
       "  </tbody>\n",
       "</table>\n",
       "<p>313473 rows × 7 columns</p>\n",
       "</div>"
      ],
      "text/plain": [
       "                                                    Tweet  \\\n",
       "0       YKAR, a futuristic sans serif font by @Emmeran...   \n",
       "1       @MBonvoyAssist Who can I contact about the ver...   \n",
       "2                                @SSlnes I’d like to win!   \n",
       "3                                   @LuckyDucksNFT @Rydog   \n",
       "4           Now I'm heading to B1000th Floor! #quickrogue   \n",
       "...                                                   ...   \n",
       "313468               Preach it 🙌🙌 https://t.co/8xPvSZpiLb   \n",
       "313469                       Wut? https://t.co/FxR7WlXhDz   \n",
       "313470  Im not trying to be rude, im just saying that ...   \n",
       "313471  Sir, I'd like to know why you're being so rude...   \n",
       "313472  As a person of the female gender, not all are ...   \n",
       "\n",
       "                        Name     Screen Name  \\\n",
       "0                 Chad Boyce        djsnipa1   \n",
       "1                 Chad Boyce        djsnipa1   \n",
       "2                 Chad Boyce        djsnipa1   \n",
       "3                 Chad Boyce        djsnipa1   \n",
       "4                 Chad Boyce        djsnipa1   \n",
       "...                      ...             ...   \n",
       "313468  ✿♥☆✧աaʄʄʟɛ զʊɛɛռ✧☆♥✿  landry_rosalee   \n",
       "313469  ✿♥☆✧աaʄʄʟɛ զʊɛɛռ✧☆♥✿  landry_rosalee   \n",
       "313470  ✿♥☆✧աaʄʄʟɛ զʊɛɛռ✧☆♥✿  landry_rosalee   \n",
       "313471  ✿♥☆✧աaʄʄʟɛ զʊɛɛռ✧☆♥✿  landry_rosalee   \n",
       "313472  ✿♥☆✧աaʄʄʟɛ զʊɛɛռ✧☆♥✿  landry_rosalee   \n",
       "\n",
       "                                              Description Lang  \\\n",
       "0       Multimedia Developer, Graphic Designer, DJ, an...   NA   \n",
       "1       Multimedia Developer, Graphic Designer, DJ, an...   NA   \n",
       "2       Multimedia Developer, Graphic Designer, DJ, an...   NA   \n",
       "3       Multimedia Developer, Graphic Designer, DJ, an...   NA   \n",
       "4       Multimedia Developer, Graphic Designer, DJ, an...   NA   \n",
       "...                                                   ...  ...   \n",
       "313468  other acount- @furious_waffles and @i_cant_wor...   NA   \n",
       "313469  other acount- @furious_waffles and @i_cant_wor...   NA   \n",
       "313470  other acount- @furious_waffles and @i_cant_wor...   NA   \n",
       "313471  other acount- @furious_waffles and @i_cant_wor...   NA   \n",
       "313472  other acount- @furious_waffles and @i_cant_wor...   NA   \n",
       "\n",
       "                       img_path  Race  \n",
       "0       profile pics/60147.jpeg   4.0  \n",
       "1       profile pics/60147.jpeg   4.0  \n",
       "2       profile pics/60147.jpeg   4.0  \n",
       "3       profile pics/60147.jpeg   4.0  \n",
       "4       profile pics/60147.jpeg   4.0  \n",
       "...                         ...   ...  \n",
       "313468  profile pics/64232.jpeg   NaN  \n",
       "313469  profile pics/64232.jpeg   NaN  \n",
       "313470  profile pics/64232.jpeg   NaN  \n",
       "313471  profile pics/64232.jpeg   NaN  \n",
       "313472  profile pics/64232.jpeg   NaN  \n",
       "\n",
       "[313473 rows x 7 columns]"
      ]
     },
     "execution_count": 30,
     "metadata": {},
     "output_type": "execute_result"
    }
   ],
   "source": [
    "raceDict = users.set_index('user_id').to_dict()['race']\n",
    "#ageDict = users.set_index('user_id').to_dict()['Under 21']\n",
    "\n",
    "#ageList = []\n",
    "userList, tweetList, nameList, screenNameList, descriptionList, langList, imgPathList, raceList  = [], [], [], [], [], [], [], []\n",
    "for user in tweets:\n",
    "    for tweet in tweets[user]:\n",
    "        profile = profile_dict[user]\n",
    "        name = profile['name']\n",
    "        screenName = profile['screen_name']\n",
    "        description = profile['description']\n",
    "        lang = profile['lang']\n",
    "        img_path = profile['img_path']\n",
    "        userList.append(user)\n",
    "        tweetList.append(tweet)\n",
    "        nameList.append(name)\n",
    "        descriptionList.append(description)\n",
    "        screenNameList.append(screenName)\n",
    "        langList.append(lang)\n",
    "        imgPathList.append(img_path)\n",
    "        raceList.append(raceDict[float(user)])\n",
    "        #ageList.append(ageDict[float(user)])\n",
    "df = pd.DataFrame({'User': userList, 'Tweet': tweetList, 'Name': nameList, 'Screen Name': screenNameList, 'Description': descriptionList,\n",
    "              'Lang': langList, 'img_path': imgPathList, 'Race': raceList}).drop(columns=['User']) #, 'Under 21': ageList\n",
    "df.to_csv('labeled_tweet_table_Race.csv', index=False)\n",
    "df\n"
   ]
  },
  {
   "cell_type": "code",
   "execution_count": 31,
   "id": "8cfcc578",
   "metadata": {},
   "outputs": [
    {
     "name": "stdout",
     "output_type": "stream",
     "text": [
      "3276\n"
     ]
    }
   ],
   "source": [
    "print(len(df['Screen Name'].unique()))"
   ]
  },
  {
   "cell_type": "code",
   "execution_count": null,
   "id": "4ed135e8",
   "metadata": {},
   "outputs": [],
   "source": []
  },
  {
   "cell_type": "code",
   "execution_count": null,
   "id": "a35f0fc2",
   "metadata": {},
   "outputs": [],
   "source": []
  },
  {
   "cell_type": "code",
   "execution_count": null,
   "id": "75c22d13",
   "metadata": {},
   "outputs": [],
   "source": []
  }
 ],
 "metadata": {
  "kernelspec": {
   "display_name": "Python 3",
   "language": "python",
   "name": "python3"
  },
  "language_info": {
   "codemirror_mode": {
    "name": "ipython",
    "version": 3
   },
   "file_extension": ".py",
   "mimetype": "text/x-python",
   "name": "python",
   "nbconvert_exporter": "python",
   "pygments_lexer": "ipython3",
   "version": "3.8.8"
  }
 },
 "nbformat": 4,
 "nbformat_minor": 5
}
